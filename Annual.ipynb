{
 "cells": [
  {
   "cell_type": "code",
   "execution_count": 1,
   "id": "523282b3",
   "metadata": {
    "lines_to_next_cell": 2
   },
   "outputs": [],
   "source": [
    "\n",
    "\n",
    "import numpy as np\n",
    "import pandas as pd\n",
    "import matplotlib.pyplot as plt"
   ]
  },
  {
   "cell_type": "code",
   "execution_count": 2,
   "id": "9266ace6",
   "metadata": {
    "lines_to_next_cell": 2
   },
   "outputs": [],
   "source": [
    "\n",
    "\n",
    "df=pd.read_csv(\"annual_data.csv\")"
   ]
  },
  {
   "cell_type": "code",
   "execution_count": 3,
   "id": "4564cb4e",
   "metadata": {
    "lines_to_next_cell": 2
   },
   "outputs": [
    {
     "data": {
      "text/html": [
       "<div>\n",
       "<style scoped>\n",
       "    .dataframe tbody tr th:only-of-type {\n",
       "        vertical-align: middle;\n",
       "    }\n",
       "\n",
       "    .dataframe tbody tr th {\n",
       "        vertical-align: top;\n",
       "    }\n",
       "\n",
       "    .dataframe thead th {\n",
       "        text-align: right;\n",
       "    }\n",
       "</style>\n",
       "<table border=\"1\" class=\"dataframe\">\n",
       "  <thead>\n",
       "    <tr style=\"text-align: right;\">\n",
       "      <th></th>\n",
       "      <th>Period</th>\n",
       "      <th>Inst_sector</th>\n",
       "      <th>Inst_sector_code</th>\n",
       "      <th>Descriptor</th>\n",
       "      <th>SNA08TRANS</th>\n",
       "      <th>Asset_liability_code</th>\n",
       "    </tr>\n",
       "  </thead>\n",
       "  <tbody>\n",
       "    <tr>\n",
       "      <th>0</th>\n",
       "      <td>2013.06</td>\n",
       "      <td>Non-corporate business enterprises</td>\n",
       "      <td>121</td>\n",
       "      <td>Closing balance total assets</td>\n",
       "      <td>LE00000</td>\n",
       "      <td>A000000</td>\n",
       "    </tr>\n",
       "    <tr>\n",
       "      <th>1</th>\n",
       "      <td>2013.06</td>\n",
       "      <td>Non-corporate business enterprises</td>\n",
       "      <td>121</td>\n",
       "      <td>Financial assets Closing balance Total financi...</td>\n",
       "      <td>LE00000</td>\n",
       "      <td>AFA0000</td>\n",
       "    </tr>\n",
       "    <tr>\n",
       "      <th>2</th>\n",
       "      <td>2013.06</td>\n",
       "      <td>Non-corporate business enterprises</td>\n",
       "      <td>121</td>\n",
       "      <td>Financial assets Closing balance monetary gold...</td>\n",
       "      <td>LE00000</td>\n",
       "      <td>AFA0100</td>\n",
       "    </tr>\n",
       "    <tr>\n",
       "      <th>3</th>\n",
       "      <td>2013.06</td>\n",
       "      <td>Non-corporate business enterprises</td>\n",
       "      <td>121</td>\n",
       "      <td>Financial assets Closing balance currency and ...</td>\n",
       "      <td>LE00000</td>\n",
       "      <td>AFA0200</td>\n",
       "    </tr>\n",
       "    <tr>\n",
       "      <th>4</th>\n",
       "      <td>2013.06</td>\n",
       "      <td>Non-corporate business enterprises</td>\n",
       "      <td>121</td>\n",
       "      <td>Financial assets Closing balance debt securities</td>\n",
       "      <td>LE00000</td>\n",
       "      <td>AFA0300</td>\n",
       "    </tr>\n",
       "    <tr>\n",
       "      <th>...</th>\n",
       "      <td>...</td>\n",
       "      <td>...</td>\n",
       "      <td>...</td>\n",
       "      <td>...</td>\n",
       "      <td>...</td>\n",
       "      <td>...</td>\n",
       "    </tr>\n",
       "    <tr>\n",
       "      <th>7291</th>\n",
       "      <td>2015</td>\n",
       "      <td>Total all sectors</td>\n",
       "      <td>900</td>\n",
       "      <td>Capital Account Closing balances Total non-fin...</td>\n",
       "      <td>LE00000</td>\n",
       "      <td>AN00000</td>\n",
       "    </tr>\n",
       "    <tr>\n",
       "      <th>7292</th>\n",
       "      <td>2015</td>\n",
       "      <td>Total all sectors</td>\n",
       "      <td>900</td>\n",
       "      <td>Capital Account Closing balances Produced non-...</td>\n",
       "      <td>LE00000</td>\n",
       "      <td>AN10000</td>\n",
       "    </tr>\n",
       "    <tr>\n",
       "      <th>7293</th>\n",
       "      <td>2015</td>\n",
       "      <td>Total all sectors</td>\n",
       "      <td>900</td>\n",
       "      <td>Capital Account Closing balances Non-produced ...</td>\n",
       "      <td>LE00000</td>\n",
       "      <td>AN20000</td>\n",
       "    </tr>\n",
       "    <tr>\n",
       "      <th>7294</th>\n",
       "      <td>2015</td>\n",
       "      <td>Total all sectors</td>\n",
       "      <td>900</td>\n",
       "      <td>Closing balance net worth</td>\n",
       "      <td>LE00000</td>\n",
       "      <td>B900000</td>\n",
       "    </tr>\n",
       "    <tr>\n",
       "      <th>7295</th>\n",
       "      <td>2015</td>\n",
       "      <td>Total all sectors</td>\n",
       "      <td>900</td>\n",
       "      <td>Closing balance total liabilities and net worth</td>\n",
       "      <td>LE00000</td>\n",
       "      <td>L000000</td>\n",
       "    </tr>\n",
       "  </tbody>\n",
       "</table>\n",
       "<p>7296 rows × 6 columns</p>\n",
       "</div>"
      ],
      "text/plain": [
       "       Period                         Inst_sector  Inst_sector_code  \\\n",
       "0     2013.06  Non-corporate business enterprises               121   \n",
       "1     2013.06  Non-corporate business enterprises               121   \n",
       "2     2013.06  Non-corporate business enterprises               121   \n",
       "3     2013.06  Non-corporate business enterprises               121   \n",
       "4     2013.06  Non-corporate business enterprises               121   \n",
       "...       ...                                 ...               ...   \n",
       "7291     2015                   Total all sectors               900   \n",
       "7292     2015                   Total all sectors               900   \n",
       "7293     2015                   Total all sectors               900   \n",
       "7294     2015                   Total all sectors               900   \n",
       "7295     2015                   Total all sectors               900   \n",
       "\n",
       "                                             Descriptor SNA08TRANS  \\\n",
       "0                          Closing balance total assets    LE00000   \n",
       "1     Financial assets Closing balance Total financi...    LE00000   \n",
       "2     Financial assets Closing balance monetary gold...    LE00000   \n",
       "3     Financial assets Closing balance currency and ...    LE00000   \n",
       "4      Financial assets Closing balance debt securities    LE00000   \n",
       "...                                                 ...        ...   \n",
       "7291  Capital Account Closing balances Total non-fin...    LE00000   \n",
       "7292  Capital Account Closing balances Produced non-...    LE00000   \n",
       "7293  Capital Account Closing balances Non-produced ...    LE00000   \n",
       "7294                          Closing balance net worth    LE00000   \n",
       "7295    Closing balance total liabilities and net worth    LE00000   \n",
       "\n",
       "     Asset_liability_code  \n",
       "0                 A000000  \n",
       "1                 AFA0000  \n",
       "2                 AFA0100  \n",
       "3                 AFA0200  \n",
       "4                 AFA0300  \n",
       "...                   ...  \n",
       "7291              AN00000  \n",
       "7292              AN10000  \n",
       "7293              AN20000  \n",
       "7294              B900000  \n",
       "7295              L000000  \n",
       "\n",
       "[7296 rows x 6 columns]"
      ]
     },
     "execution_count": 3,
     "metadata": {},
     "output_type": "execute_result"
    }
   ],
   "source": [
    "\n",
    "\n",
    "df"
   ]
  },
  {
   "cell_type": "code",
   "execution_count": 4,
   "id": "c5b789ae",
   "metadata": {
    "lines_to_next_cell": 2
   },
   "outputs": [
    {
     "data": {
      "text/plain": [
       "(7296, 6)"
      ]
     },
     "execution_count": 4,
     "metadata": {},
     "output_type": "execute_result"
    }
   ],
   "source": [
    "\n",
    "\n",
    "df.shape"
   ]
  },
  {
   "cell_type": "code",
   "execution_count": 5,
   "id": "dd1a833b",
   "metadata": {
    "lines_to_next_cell": 2
   },
   "outputs": [
    {
     "data": {
      "text/plain": [
       "43776"
      ]
     },
     "execution_count": 5,
     "metadata": {},
     "output_type": "execute_result"
    }
   ],
   "source": [
    "\n",
    "\n",
    "df.size"
   ]
  },
  {
   "cell_type": "code",
   "execution_count": 6,
   "id": "922f8da4",
   "metadata": {
    "lines_to_next_cell": 2
   },
   "outputs": [
    {
     "data": {
      "text/html": [
       "<div>\n",
       "<style scoped>\n",
       "    .dataframe tbody tr th:only-of-type {\n",
       "        vertical-align: middle;\n",
       "    }\n",
       "\n",
       "    .dataframe tbody tr th {\n",
       "        vertical-align: top;\n",
       "    }\n",
       "\n",
       "    .dataframe thead th {\n",
       "        text-align: right;\n",
       "    }\n",
       "</style>\n",
       "<table border=\"1\" class=\"dataframe\">\n",
       "  <thead>\n",
       "    <tr style=\"text-align: right;\">\n",
       "      <th></th>\n",
       "      <th>Inst_sector_code</th>\n",
       "    </tr>\n",
       "  </thead>\n",
       "  <tbody>\n",
       "    <tr>\n",
       "      <th>count</th>\n",
       "      <td>7296.000000</td>\n",
       "    </tr>\n",
       "    <tr>\n",
       "      <th>mean</th>\n",
       "      <td>348.263158</td>\n",
       "    </tr>\n",
       "    <tr>\n",
       "      <th>std</th>\n",
       "      <td>206.320463</td>\n",
       "    </tr>\n",
       "    <tr>\n",
       "      <th>min</th>\n",
       "      <td>121.000000</td>\n",
       "    </tr>\n",
       "    <tr>\n",
       "      <th>25%</th>\n",
       "      <td>222.000000</td>\n",
       "    </tr>\n",
       "    <tr>\n",
       "      <th>50%</th>\n",
       "      <td>270.000000</td>\n",
       "    </tr>\n",
       "    <tr>\n",
       "      <th>75%</th>\n",
       "      <td>400.000000</td>\n",
       "    </tr>\n",
       "    <tr>\n",
       "      <th>max</th>\n",
       "      <td>900.000000</td>\n",
       "    </tr>\n",
       "  </tbody>\n",
       "</table>\n",
       "</div>"
      ],
      "text/plain": [
       "       Inst_sector_code\n",
       "count       7296.000000\n",
       "mean         348.263158\n",
       "std          206.320463\n",
       "min          121.000000\n",
       "25%          222.000000\n",
       "50%          270.000000\n",
       "75%          400.000000\n",
       "max          900.000000"
      ]
     },
     "execution_count": 6,
     "metadata": {},
     "output_type": "execute_result"
    }
   ],
   "source": [
    "\n",
    "\n",
    "df.describe()"
   ]
  },
  {
   "cell_type": "code",
   "execution_count": 7,
   "id": "e90ff536",
   "metadata": {
    "lines_to_next_cell": 2
   },
   "outputs": [
    {
     "name": "stdout",
     "output_type": "stream",
     "text": [
      "<class 'pandas.core.frame.DataFrame'>\n",
      "RangeIndex: 7296 entries, 0 to 7295\n",
      "Data columns (total 6 columns):\n",
      " #   Column                Non-Null Count  Dtype \n",
      "---  ------                --------------  ----- \n",
      " 0   Period                7296 non-null   object\n",
      " 1   Inst_sector           7296 non-null   object\n",
      " 2   Inst_sector_code      7296 non-null   int64 \n",
      " 3   Descriptor            7296 non-null   object\n",
      " 4   SNA08TRANS            7296 non-null   object\n",
      " 5   Asset_liability_code  7296 non-null   object\n",
      "dtypes: int64(1), object(5)\n",
      "memory usage: 342.1+ KB\n"
     ]
    }
   ],
   "source": [
    "\n",
    "\n",
    "df.info()"
   ]
  },
  {
   "cell_type": "code",
   "execution_count": 8,
   "id": "331bd2f1",
   "metadata": {
    "lines_to_next_cell": 2
   },
   "outputs": [
    {
     "data": {
      "text/html": [
       "<div>\n",
       "<style scoped>\n",
       "    .dataframe tbody tr th:only-of-type {\n",
       "        vertical-align: middle;\n",
       "    }\n",
       "\n",
       "    .dataframe tbody tr th {\n",
       "        vertical-align: top;\n",
       "    }\n",
       "\n",
       "    .dataframe thead th {\n",
       "        text-align: right;\n",
       "    }\n",
       "</style>\n",
       "<table border=\"1\" class=\"dataframe\">\n",
       "  <thead>\n",
       "    <tr style=\"text-align: right;\">\n",
       "      <th></th>\n",
       "      <th>Period</th>\n",
       "      <th>Inst_sector</th>\n",
       "      <th>Inst_sector_code</th>\n",
       "      <th>Descriptor</th>\n",
       "      <th>SNA08TRANS</th>\n",
       "      <th>Asset_liability_code</th>\n",
       "    </tr>\n",
       "  </thead>\n",
       "  <tbody>\n",
       "    <tr>\n",
       "      <th>0</th>\n",
       "      <td>2013.06</td>\n",
       "      <td>Non-corporate business enterprises</td>\n",
       "      <td>121</td>\n",
       "      <td>Closing balance total assets</td>\n",
       "      <td>LE00000</td>\n",
       "      <td>A000000</td>\n",
       "    </tr>\n",
       "    <tr>\n",
       "      <th>1</th>\n",
       "      <td>2013.06</td>\n",
       "      <td>Non-corporate business enterprises</td>\n",
       "      <td>121</td>\n",
       "      <td>Financial assets Closing balance Total financi...</td>\n",
       "      <td>LE00000</td>\n",
       "      <td>AFA0000</td>\n",
       "    </tr>\n",
       "    <tr>\n",
       "      <th>2</th>\n",
       "      <td>2013.06</td>\n",
       "      <td>Non-corporate business enterprises</td>\n",
       "      <td>121</td>\n",
       "      <td>Financial assets Closing balance monetary gold...</td>\n",
       "      <td>LE00000</td>\n",
       "      <td>AFA0100</td>\n",
       "    </tr>\n",
       "    <tr>\n",
       "      <th>3</th>\n",
       "      <td>2013.06</td>\n",
       "      <td>Non-corporate business enterprises</td>\n",
       "      <td>121</td>\n",
       "      <td>Financial assets Closing balance currency and ...</td>\n",
       "      <td>LE00000</td>\n",
       "      <td>AFA0200</td>\n",
       "    </tr>\n",
       "    <tr>\n",
       "      <th>4</th>\n",
       "      <td>2013.06</td>\n",
       "      <td>Non-corporate business enterprises</td>\n",
       "      <td>121</td>\n",
       "      <td>Financial assets Closing balance debt securities</td>\n",
       "      <td>LE00000</td>\n",
       "      <td>AFA0300</td>\n",
       "    </tr>\n",
       "  </tbody>\n",
       "</table>\n",
       "</div>"
      ],
      "text/plain": [
       "    Period                         Inst_sector  Inst_sector_code  \\\n",
       "0  2013.06  Non-corporate business enterprises               121   \n",
       "1  2013.06  Non-corporate business enterprises               121   \n",
       "2  2013.06  Non-corporate business enterprises               121   \n",
       "3  2013.06  Non-corporate business enterprises               121   \n",
       "4  2013.06  Non-corporate business enterprises               121   \n",
       "\n",
       "                                          Descriptor SNA08TRANS  \\\n",
       "0                       Closing balance total assets    LE00000   \n",
       "1  Financial assets Closing balance Total financi...    LE00000   \n",
       "2  Financial assets Closing balance monetary gold...    LE00000   \n",
       "3  Financial assets Closing balance currency and ...    LE00000   \n",
       "4   Financial assets Closing balance debt securities    LE00000   \n",
       "\n",
       "  Asset_liability_code  \n",
       "0              A000000  \n",
       "1              AFA0000  \n",
       "2              AFA0100  \n",
       "3              AFA0200  \n",
       "4              AFA0300  "
      ]
     },
     "execution_count": 8,
     "metadata": {},
     "output_type": "execute_result"
    }
   ],
   "source": [
    "\n",
    "\n",
    "df.head()"
   ]
  },
  {
   "cell_type": "code",
   "execution_count": 9,
   "id": "19558cb6",
   "metadata": {
    "lines_to_next_cell": 2
   },
   "outputs": [
    {
     "data": {
      "text/html": [
       "<div>\n",
       "<style scoped>\n",
       "    .dataframe tbody tr th:only-of-type {\n",
       "        vertical-align: middle;\n",
       "    }\n",
       "\n",
       "    .dataframe tbody tr th {\n",
       "        vertical-align: top;\n",
       "    }\n",
       "\n",
       "    .dataframe thead th {\n",
       "        text-align: right;\n",
       "    }\n",
       "</style>\n",
       "<table border=\"1\" class=\"dataframe\">\n",
       "  <thead>\n",
       "    <tr style=\"text-align: right;\">\n",
       "      <th></th>\n",
       "      <th>Period</th>\n",
       "      <th>Inst_sector</th>\n",
       "      <th>Inst_sector_code</th>\n",
       "      <th>Descriptor</th>\n",
       "      <th>SNA08TRANS</th>\n",
       "      <th>Asset_liability_code</th>\n",
       "    </tr>\n",
       "  </thead>\n",
       "  <tbody>\n",
       "    <tr>\n",
       "      <th>7286</th>\n",
       "      <td>2015</td>\n",
       "      <td>Total all sectors</td>\n",
       "      <td>900</td>\n",
       "      <td>Financial liabilities Closing balance loans</td>\n",
       "      <td>LE00000</td>\n",
       "      <td>AFL0400</td>\n",
       "    </tr>\n",
       "    <tr>\n",
       "      <th>7287</th>\n",
       "      <td>2015</td>\n",
       "      <td>Total all sectors</td>\n",
       "      <td>900</td>\n",
       "      <td>Financial liabilities Closing balance equity a...</td>\n",
       "      <td>LE00000</td>\n",
       "      <td>AFL0500</td>\n",
       "    </tr>\n",
       "    <tr>\n",
       "      <th>7288</th>\n",
       "      <td>2015</td>\n",
       "      <td>Total all sectors</td>\n",
       "      <td>900</td>\n",
       "      <td>Financial liabilities Closing balance insuranc...</td>\n",
       "      <td>LE00000</td>\n",
       "      <td>AFL0600</td>\n",
       "    </tr>\n",
       "    <tr>\n",
       "      <th>7289</th>\n",
       "      <td>2015</td>\n",
       "      <td>Total all sectors</td>\n",
       "      <td>900</td>\n",
       "      <td>Financial liabilities Closing balance financia...</td>\n",
       "      <td>LE00000</td>\n",
       "      <td>AFL0700</td>\n",
       "    </tr>\n",
       "    <tr>\n",
       "      <th>7290</th>\n",
       "      <td>2015</td>\n",
       "      <td>Total all sectors</td>\n",
       "      <td>900</td>\n",
       "      <td>Financial liabilities Closing balance other ac...</td>\n",
       "      <td>LE00000</td>\n",
       "      <td>AFL0800</td>\n",
       "    </tr>\n",
       "    <tr>\n",
       "      <th>7291</th>\n",
       "      <td>2015</td>\n",
       "      <td>Total all sectors</td>\n",
       "      <td>900</td>\n",
       "      <td>Capital Account Closing balances Total non-fin...</td>\n",
       "      <td>LE00000</td>\n",
       "      <td>AN00000</td>\n",
       "    </tr>\n",
       "    <tr>\n",
       "      <th>7292</th>\n",
       "      <td>2015</td>\n",
       "      <td>Total all sectors</td>\n",
       "      <td>900</td>\n",
       "      <td>Capital Account Closing balances Produced non-...</td>\n",
       "      <td>LE00000</td>\n",
       "      <td>AN10000</td>\n",
       "    </tr>\n",
       "    <tr>\n",
       "      <th>7293</th>\n",
       "      <td>2015</td>\n",
       "      <td>Total all sectors</td>\n",
       "      <td>900</td>\n",
       "      <td>Capital Account Closing balances Non-produced ...</td>\n",
       "      <td>LE00000</td>\n",
       "      <td>AN20000</td>\n",
       "    </tr>\n",
       "    <tr>\n",
       "      <th>7294</th>\n",
       "      <td>2015</td>\n",
       "      <td>Total all sectors</td>\n",
       "      <td>900</td>\n",
       "      <td>Closing balance net worth</td>\n",
       "      <td>LE00000</td>\n",
       "      <td>B900000</td>\n",
       "    </tr>\n",
       "    <tr>\n",
       "      <th>7295</th>\n",
       "      <td>2015</td>\n",
       "      <td>Total all sectors</td>\n",
       "      <td>900</td>\n",
       "      <td>Closing balance total liabilities and net worth</td>\n",
       "      <td>LE00000</td>\n",
       "      <td>L000000</td>\n",
       "    </tr>\n",
       "  </tbody>\n",
       "</table>\n",
       "</div>"
      ],
      "text/plain": [
       "     Period        Inst_sector  Inst_sector_code  \\\n",
       "7286   2015  Total all sectors               900   \n",
       "7287   2015  Total all sectors               900   \n",
       "7288   2015  Total all sectors               900   \n",
       "7289   2015  Total all sectors               900   \n",
       "7290   2015  Total all sectors               900   \n",
       "7291   2015  Total all sectors               900   \n",
       "7292   2015  Total all sectors               900   \n",
       "7293   2015  Total all sectors               900   \n",
       "7294   2015  Total all sectors               900   \n",
       "7295   2015  Total all sectors               900   \n",
       "\n",
       "                                             Descriptor SNA08TRANS  \\\n",
       "7286        Financial liabilities Closing balance loans    LE00000   \n",
       "7287  Financial liabilities Closing balance equity a...    LE00000   \n",
       "7288  Financial liabilities Closing balance insuranc...    LE00000   \n",
       "7289  Financial liabilities Closing balance financia...    LE00000   \n",
       "7290  Financial liabilities Closing balance other ac...    LE00000   \n",
       "7291  Capital Account Closing balances Total non-fin...    LE00000   \n",
       "7292  Capital Account Closing balances Produced non-...    LE00000   \n",
       "7293  Capital Account Closing balances Non-produced ...    LE00000   \n",
       "7294                          Closing balance net worth    LE00000   \n",
       "7295    Closing balance total liabilities and net worth    LE00000   \n",
       "\n",
       "     Asset_liability_code  \n",
       "7286              AFL0400  \n",
       "7287              AFL0500  \n",
       "7288              AFL0600  \n",
       "7289              AFL0700  \n",
       "7290              AFL0800  \n",
       "7291              AN00000  \n",
       "7292              AN10000  \n",
       "7293              AN20000  \n",
       "7294              B900000  \n",
       "7295              L000000  "
      ]
     },
     "execution_count": 9,
     "metadata": {},
     "output_type": "execute_result"
    }
   ],
   "source": [
    "\n",
    "\n",
    "df.tail(10)"
   ]
  },
  {
   "cell_type": "code",
   "execution_count": 10,
   "id": "87da3c74",
   "metadata": {
    "lines_to_next_cell": 2
   },
   "outputs": [
    {
     "name": "stderr",
     "output_type": "stream",
     "text": [
      "C:\\Users\\admin\\AppData\\Local\\Temp\\ipykernel_13808\\2930140844.py:1: UserWarning: Could not infer format, so each element will be parsed individually, falling back to `dateutil`. To ensure parsing is consistent and as-expected, please specify a format.\n",
      "  df['Period']=pd.to_datetime(df['Period'])\n"
     ]
    }
   ],
   "source": [
    "\n",
    "\n",
    "df['Period']=pd.to_datetime(df['Period'])"
   ]
  },
  {
   "cell_type": "code",
   "execution_count": 11,
   "id": "a36eda62",
   "metadata": {
    "lines_to_next_cell": 2
   },
   "outputs": [
    {
     "data": {
      "text/html": [
       "<div>\n",
       "<style scoped>\n",
       "    .dataframe tbody tr th:only-of-type {\n",
       "        vertical-align: middle;\n",
       "    }\n",
       "\n",
       "    .dataframe tbody tr th {\n",
       "        vertical-align: top;\n",
       "    }\n",
       "\n",
       "    .dataframe thead th {\n",
       "        text-align: right;\n",
       "    }\n",
       "</style>\n",
       "<table border=\"1\" class=\"dataframe\">\n",
       "  <thead>\n",
       "    <tr style=\"text-align: right;\">\n",
       "      <th></th>\n",
       "      <th>Period</th>\n",
       "      <th>Inst_sector</th>\n",
       "      <th>Inst_sector_code</th>\n",
       "      <th>Descriptor</th>\n",
       "      <th>SNA08TRANS</th>\n",
       "      <th>Asset_liability_code</th>\n",
       "    </tr>\n",
       "  </thead>\n",
       "  <tbody>\n",
       "    <tr>\n",
       "      <th>0</th>\n",
       "      <td>2013-06-01</td>\n",
       "      <td>Non-corporate business enterprises</td>\n",
       "      <td>121</td>\n",
       "      <td>Closing balance total assets</td>\n",
       "      <td>LE00000</td>\n",
       "      <td>A000000</td>\n",
       "    </tr>\n",
       "    <tr>\n",
       "      <th>1</th>\n",
       "      <td>2013-06-01</td>\n",
       "      <td>Non-corporate business enterprises</td>\n",
       "      <td>121</td>\n",
       "      <td>Financial assets Closing balance Total financi...</td>\n",
       "      <td>LE00000</td>\n",
       "      <td>AFA0000</td>\n",
       "    </tr>\n",
       "    <tr>\n",
       "      <th>2</th>\n",
       "      <td>2013-06-01</td>\n",
       "      <td>Non-corporate business enterprises</td>\n",
       "      <td>121</td>\n",
       "      <td>Financial assets Closing balance monetary gold...</td>\n",
       "      <td>LE00000</td>\n",
       "      <td>AFA0100</td>\n",
       "    </tr>\n",
       "    <tr>\n",
       "      <th>3</th>\n",
       "      <td>2013-06-01</td>\n",
       "      <td>Non-corporate business enterprises</td>\n",
       "      <td>121</td>\n",
       "      <td>Financial assets Closing balance currency and ...</td>\n",
       "      <td>LE00000</td>\n",
       "      <td>AFA0200</td>\n",
       "    </tr>\n",
       "    <tr>\n",
       "      <th>4</th>\n",
       "      <td>2013-06-01</td>\n",
       "      <td>Non-corporate business enterprises</td>\n",
       "      <td>121</td>\n",
       "      <td>Financial assets Closing balance debt securities</td>\n",
       "      <td>LE00000</td>\n",
       "      <td>AFA0300</td>\n",
       "    </tr>\n",
       "  </tbody>\n",
       "</table>\n",
       "</div>"
      ],
      "text/plain": [
       "      Period                         Inst_sector  Inst_sector_code  \\\n",
       "0 2013-06-01  Non-corporate business enterprises               121   \n",
       "1 2013-06-01  Non-corporate business enterprises               121   \n",
       "2 2013-06-01  Non-corporate business enterprises               121   \n",
       "3 2013-06-01  Non-corporate business enterprises               121   \n",
       "4 2013-06-01  Non-corporate business enterprises               121   \n",
       "\n",
       "                                          Descriptor SNA08TRANS  \\\n",
       "0                       Closing balance total assets    LE00000   \n",
       "1  Financial assets Closing balance Total financi...    LE00000   \n",
       "2  Financial assets Closing balance monetary gold...    LE00000   \n",
       "3  Financial assets Closing balance currency and ...    LE00000   \n",
       "4   Financial assets Closing balance debt securities    LE00000   \n",
       "\n",
       "  Asset_liability_code  \n",
       "0              A000000  \n",
       "1              AFA0000  \n",
       "2              AFA0100  \n",
       "3              AFA0200  \n",
       "4              AFA0300  "
      ]
     },
     "execution_count": 11,
     "metadata": {},
     "output_type": "execute_result"
    }
   ],
   "source": [
    "\n",
    "\n",
    "df.head()"
   ]
  },
  {
   "cell_type": "code",
   "execution_count": 12,
   "id": "c30c552a",
   "metadata": {
    "lines_to_next_cell": 2
   },
   "outputs": [
    {
     "data": {
      "text/plain": [
       "Period                  0\n",
       "Inst_sector             0\n",
       "Inst_sector_code        0\n",
       "Descriptor              0\n",
       "SNA08TRANS              0\n",
       "Asset_liability_code    0\n",
       "dtype: int64"
      ]
     },
     "execution_count": 12,
     "metadata": {},
     "output_type": "execute_result"
    }
   ],
   "source": [
    "\n",
    "\n",
    "df.isnull().sum()"
   ]
  },
  {
   "cell_type": "code",
   "execution_count": 13,
   "id": "9612fb8b",
   "metadata": {
    "lines_to_next_cell": 2
   },
   "outputs": [
    {
     "data": {
      "text/plain": [
       "array([384], dtype=int64)"
      ]
     },
     "execution_count": 13,
     "metadata": {},
     "output_type": "execute_result"
    }
   ],
   "source": [
    "\n",
    "\n",
    "df['Inst_sector'].value_counts().unique()"
   ]
  },
  {
   "cell_type": "code",
   "execution_count": 14,
   "id": "73814ee3",
   "metadata": {
    "lines_to_next_cell": 2
   },
   "outputs": [
    {
     "data": {
      "text/plain": [
       "array([384], dtype=int64)"
      ]
     },
     "execution_count": 14,
     "metadata": {},
     "output_type": "execute_result"
    }
   ],
   "source": [
    "\n",
    "\n",
    "df['Inst_sector_code'].value_counts().unique()"
   ]
  },
  {
   "cell_type": "code",
   "execution_count": 15,
   "id": "db744103",
   "metadata": {
    "lines_to_next_cell": 2
   },
   "outputs": [
    {
     "data": {
      "text/plain": [
       "array(['Non-corporate business enterprises',\n",
       "       'Corporate business enterprises', 'Central bank',\n",
       "       'Registered banks', 'Other depository institutions',\n",
       "       'Investment funds',\n",
       "       'Other financial intermediaries excluding insurance and pension funds',\n",
       "       'Insurance corporations', 'Pension funds', 'Financial auxiliaries',\n",
       "       'Captive financial institutions',\n",
       "       'Central government institutions excluding funded social insurance schemes',\n",
       "       'Central government institutions funded social insurance schemes',\n",
       "       'Local government institutions',\n",
       "       'Non-profit institutions serving households', 'Households',\n",
       "       'Rest of the world', 'Total economy (excl rest of the world)',\n",
       "       'Total all sectors'], dtype=object)"
      ]
     },
     "execution_count": 15,
     "metadata": {},
     "output_type": "execute_result"
    }
   ],
   "source": [
    "\n",
    "\n",
    "df['Inst_sector'].unique()"
   ]
  },
  {
   "cell_type": "code",
   "execution_count": 16,
   "id": "2a47e724",
   "metadata": {
    "lines_to_next_cell": 2
   },
   "outputs": [
    {
     "data": {
      "text/plain": [
       "Inst_sector\n",
       "Non-corporate business enterprises                                           384\n",
       "Captive financial institutions                                               384\n",
       "Total economy (excl rest of the world)                                       384\n",
       "Rest of the world                                                            384\n",
       "Households                                                                   384\n",
       "Non-profit institutions serving households                                   384\n",
       "Local government institutions                                                384\n",
       "Central government institutions funded social insurance schemes              384\n",
       "Central government institutions excluding funded social insurance schemes    384\n",
       "Financial auxiliaries                                                        384\n",
       "Corporate business enterprises                                               384\n",
       "Pension funds                                                                384\n",
       "Insurance corporations                                                       384\n",
       "Other financial intermediaries excluding insurance and pension funds         384\n",
       "Investment funds                                                             384\n",
       "Other depository institutions                                                384\n",
       "Registered banks                                                             384\n",
       "Central bank                                                                 384\n",
       "Total all sectors                                                            384\n",
       "Name: count, dtype: int64"
      ]
     },
     "execution_count": 16,
     "metadata": {},
     "output_type": "execute_result"
    }
   ],
   "source": [
    "\n",
    "\n",
    "df['Inst_sector'].value_counts()"
   ]
  },
  {
   "cell_type": "code",
   "execution_count": 17,
   "id": "7fb7d4aa",
   "metadata": {
    "lines_to_next_cell": 2
   },
   "outputs": [
    {
     "data": {
      "text/plain": [
       "Descriptor\n",
       "Closing balance total assets                                                                    304\n",
       "Financial assets Closing balance Total financial assets                                         304\n",
       "Closing balance net worth                                                                       304\n",
       "Capital Account Closing balances Non-produced non-financial assets                              304\n",
       "Capital Account Closing balances Produced non-financial assets                                  304\n",
       "Capital Account Closing balances Total non-financial assets                                     304\n",
       "Financial liabilities Closing balance other accounts payable                                    304\n",
       "Financial liabilities Closing balance financial derivatives                                     304\n",
       "Financial liabilities Closing balance insurance, pension, and standardised guarantee schemes    304\n",
       "Financial liabilities Closing balance equity and investment fund shares                         304\n",
       "Financial liabilities Closing balance loans                                                     304\n",
       "Financial liabilities Closing balance debt securities                                           304\n",
       "Financial liabilities Closing balance currency and deposits                                     304\n",
       "Financial liabilities Closing balance monetary gold and special drawing rights                  304\n",
       "Financial liabilities Closing balance Total financial liabilities                               304\n",
       "Financial assets Closing balance other accounts receivable                                      304\n",
       "Financial assets Closing balance financial derivatives                                          304\n",
       "Financial assets Closing balance insurance, pension, and standardised guarantee schemes         304\n",
       "Financial assets Closing balance equity and investment fund shares                              304\n",
       "Financial assets Closing balance loans                                                          304\n",
       "Financial assets Closing balance debt securities                                                304\n",
       "Financial assets Closing balance currency and deposits                                          304\n",
       "Financial assets Closing balance monetary gold and special drawing rights                       304\n",
       "Closing balance total liabilities and net worth                                                 304\n",
       "Name: count, dtype: int64"
      ]
     },
     "execution_count": 17,
     "metadata": {},
     "output_type": "execute_result"
    }
   ],
   "source": [
    "\n",
    "\n",
    "df['Descriptor'].value_counts()"
   ]
  },
  {
   "cell_type": "code",
   "execution_count": 18,
   "id": "6a093e44",
   "metadata": {
    "lines_to_next_cell": 2
   },
   "outputs": [
    {
     "data": {
      "text/plain": [
       "array(['Closing balance total assets',\n",
       "       'Financial assets Closing balance Total financial assets',\n",
       "       'Financial assets Closing balance monetary gold and special drawing rights',\n",
       "       'Financial assets Closing balance currency and deposits',\n",
       "       'Financial assets Closing balance debt securities',\n",
       "       'Financial assets Closing balance loans',\n",
       "       'Financial assets Closing balance equity and investment fund shares',\n",
       "       'Financial assets Closing balance insurance, pension, and standardised guarantee schemes',\n",
       "       'Financial assets Closing balance financial derivatives',\n",
       "       'Financial assets Closing balance other accounts receivable',\n",
       "       'Financial liabilities Closing balance Total financial liabilities',\n",
       "       'Financial liabilities Closing balance monetary gold and special drawing rights',\n",
       "       'Financial liabilities Closing balance currency and deposits',\n",
       "       'Financial liabilities Closing balance debt securities',\n",
       "       'Financial liabilities Closing balance loans',\n",
       "       'Financial liabilities Closing balance equity and investment fund shares',\n",
       "       'Financial liabilities Closing balance insurance, pension, and standardised guarantee schemes',\n",
       "       'Financial liabilities Closing balance financial derivatives',\n",
       "       'Financial liabilities Closing balance other accounts payable',\n",
       "       'Capital Account Closing balances Total non-financial assets',\n",
       "       'Capital Account Closing balances Produced non-financial assets',\n",
       "       'Capital Account Closing balances Non-produced non-financial assets',\n",
       "       'Closing balance net worth',\n",
       "       'Closing balance total liabilities and net worth'], dtype=object)"
      ]
     },
     "execution_count": 18,
     "metadata": {},
     "output_type": "execute_result"
    }
   ],
   "source": [
    "\n",
    "\n",
    "df['Descriptor'].unique()"
   ]
  },
  {
   "cell_type": "code",
   "execution_count": 19,
   "id": "a3c21358",
   "metadata": {
    "lines_to_next_cell": 2
   },
   "outputs": [
    {
     "data": {
      "text/plain": [
       "array(['A000000', 'AFA0000', 'AFA0100', 'AFA0200', 'AFA0300', 'AFA0400',\n",
       "       'AFA0500', 'AFA0600', 'AFA0700', 'AFA0800', 'AFL0000', 'AFL0100',\n",
       "       'AFL0200', 'AFL0300', 'AFL0400', 'AFL0500', 'AFL0600', 'AFL0700',\n",
       "       'AFL0800', 'AN00000', 'AN10000', 'AN20000', 'B900000', 'L000000'],\n",
       "      dtype=object)"
      ]
     },
     "execution_count": 19,
     "metadata": {},
     "output_type": "execute_result"
    }
   ],
   "source": [
    "\n",
    "\n",
    "df['Asset_liability_code'].unique()"
   ]
  },
  {
   "cell_type": "code",
   "execution_count": 20,
   "id": "ebef956b",
   "metadata": {
    "lines_to_next_cell": 2
   },
   "outputs": [
    {
     "data": {
      "text/html": [
       "<div>\n",
       "<style scoped>\n",
       "    .dataframe tbody tr th:only-of-type {\n",
       "        vertical-align: middle;\n",
       "    }\n",
       "\n",
       "    .dataframe tbody tr th {\n",
       "        vertical-align: top;\n",
       "    }\n",
       "\n",
       "    .dataframe thead th {\n",
       "        text-align: right;\n",
       "    }\n",
       "</style>\n",
       "<table border=\"1\" class=\"dataframe\">\n",
       "  <thead>\n",
       "    <tr style=\"text-align: right;\">\n",
       "      <th></th>\n",
       "      <th>Period</th>\n",
       "      <th>Inst_sector</th>\n",
       "      <th>Inst_sector_code</th>\n",
       "      <th>Descriptor</th>\n",
       "      <th>SNA08TRANS</th>\n",
       "      <th>Asset_liability_code</th>\n",
       "    </tr>\n",
       "  </thead>\n",
       "  <tbody>\n",
       "    <tr>\n",
       "      <th>0</th>\n",
       "      <td>2013-06-01</td>\n",
       "      <td>Non-corporate business enterprises</td>\n",
       "      <td>121</td>\n",
       "      <td>Closing balance total assets</td>\n",
       "      <td>LE00000</td>\n",
       "      <td>A000000</td>\n",
       "    </tr>\n",
       "    <tr>\n",
       "      <th>1</th>\n",
       "      <td>2013-06-01</td>\n",
       "      <td>Non-corporate business enterprises</td>\n",
       "      <td>121</td>\n",
       "      <td>Financial assets Closing balance Total financi...</td>\n",
       "      <td>LE00000</td>\n",
       "      <td>AFA0000</td>\n",
       "    </tr>\n",
       "    <tr>\n",
       "      <th>2</th>\n",
       "      <td>2013-06-01</td>\n",
       "      <td>Non-corporate business enterprises</td>\n",
       "      <td>121</td>\n",
       "      <td>Financial assets Closing balance monetary gold...</td>\n",
       "      <td>LE00000</td>\n",
       "      <td>AFA0100</td>\n",
       "    </tr>\n",
       "    <tr>\n",
       "      <th>3</th>\n",
       "      <td>2013-06-01</td>\n",
       "      <td>Non-corporate business enterprises</td>\n",
       "      <td>121</td>\n",
       "      <td>Financial assets Closing balance currency and ...</td>\n",
       "      <td>LE00000</td>\n",
       "      <td>AFA0200</td>\n",
       "    </tr>\n",
       "    <tr>\n",
       "      <th>4</th>\n",
       "      <td>2013-06-01</td>\n",
       "      <td>Non-corporate business enterprises</td>\n",
       "      <td>121</td>\n",
       "      <td>Financial assets Closing balance debt securities</td>\n",
       "      <td>LE00000</td>\n",
       "      <td>AFA0300</td>\n",
       "    </tr>\n",
       "  </tbody>\n",
       "</table>\n",
       "</div>"
      ],
      "text/plain": [
       "      Period                         Inst_sector  Inst_sector_code  \\\n",
       "0 2013-06-01  Non-corporate business enterprises               121   \n",
       "1 2013-06-01  Non-corporate business enterprises               121   \n",
       "2 2013-06-01  Non-corporate business enterprises               121   \n",
       "3 2013-06-01  Non-corporate business enterprises               121   \n",
       "4 2013-06-01  Non-corporate business enterprises               121   \n",
       "\n",
       "                                          Descriptor SNA08TRANS  \\\n",
       "0                       Closing balance total assets    LE00000   \n",
       "1  Financial assets Closing balance Total financi...    LE00000   \n",
       "2  Financial assets Closing balance monetary gold...    LE00000   \n",
       "3  Financial assets Closing balance currency and ...    LE00000   \n",
       "4   Financial assets Closing balance debt securities    LE00000   \n",
       "\n",
       "  Asset_liability_code  \n",
       "0              A000000  \n",
       "1              AFA0000  \n",
       "2              AFA0100  \n",
       "3              AFA0200  \n",
       "4              AFA0300  "
      ]
     },
     "execution_count": 20,
     "metadata": {},
     "output_type": "execute_result"
    }
   ],
   "source": [
    "\n",
    "\n",
    "df.head()"
   ]
  },
  {
   "cell_type": "code",
   "execution_count": 21,
   "id": "ba6cc63a",
   "metadata": {
    "lines_to_next_cell": 2
   },
   "outputs": [
    {
     "data": {
      "text/plain": [
       "array(['LE00000'], dtype=object)"
      ]
     },
     "execution_count": 21,
     "metadata": {},
     "output_type": "execute_result"
    }
   ],
   "source": [
    "\n",
    "\n",
    "df['SNA08TRANS'].unique()"
   ]
  },
  {
   "cell_type": "code",
   "execution_count": 22,
   "id": "b32a2137",
   "metadata": {
    "lines_to_next_cell": 2
   },
   "outputs": [
    {
     "data": {
      "text/plain": [
       "SNA08TRANS\n",
       "LE00000    7296\n",
       "Name: count, dtype: int64"
      ]
     },
     "execution_count": 22,
     "metadata": {},
     "output_type": "execute_result"
    }
   ],
   "source": [
    "\n",
    "\n",
    "df['SNA08TRANS'].value_counts()"
   ]
  },
  {
   "cell_type": "code",
   "execution_count": 23,
   "id": "297c3249",
   "metadata": {
    "lines_to_next_cell": 2
   },
   "outputs": [
    {
     "data": {
      "text/plain": [
       "(7296, 6)"
      ]
     },
     "execution_count": 23,
     "metadata": {},
     "output_type": "execute_result"
    }
   ],
   "source": [
    "\n",
    "\n",
    "df.shape"
   ]
  },
  {
   "cell_type": "code",
   "execution_count": 24,
   "id": "1cc3b46f",
   "metadata": {
    "lines_to_next_cell": 2
   },
   "outputs": [],
   "source": [
    "\n",
    "\n",
    "df=df.drop('SNA08TRANS',axis='columns')"
   ]
  },
  {
   "cell_type": "code",
   "execution_count": 25,
   "id": "81696692",
   "metadata": {
    "lines_to_next_cell": 2
   },
   "outputs": [
    {
     "data": {
      "text/html": [
       "<div>\n",
       "<style scoped>\n",
       "    .dataframe tbody tr th:only-of-type {\n",
       "        vertical-align: middle;\n",
       "    }\n",
       "\n",
       "    .dataframe tbody tr th {\n",
       "        vertical-align: top;\n",
       "    }\n",
       "\n",
       "    .dataframe thead th {\n",
       "        text-align: right;\n",
       "    }\n",
       "</style>\n",
       "<table border=\"1\" class=\"dataframe\">\n",
       "  <thead>\n",
       "    <tr style=\"text-align: right;\">\n",
       "      <th></th>\n",
       "      <th>Period</th>\n",
       "      <th>Inst_sector</th>\n",
       "      <th>Inst_sector_code</th>\n",
       "      <th>Descriptor</th>\n",
       "      <th>Asset_liability_code</th>\n",
       "    </tr>\n",
       "  </thead>\n",
       "  <tbody>\n",
       "    <tr>\n",
       "      <th>0</th>\n",
       "      <td>2013-06-01</td>\n",
       "      <td>Non-corporate business enterprises</td>\n",
       "      <td>121</td>\n",
       "      <td>Closing balance total assets</td>\n",
       "      <td>A000000</td>\n",
       "    </tr>\n",
       "    <tr>\n",
       "      <th>1</th>\n",
       "      <td>2013-06-01</td>\n",
       "      <td>Non-corporate business enterprises</td>\n",
       "      <td>121</td>\n",
       "      <td>Financial assets Closing balance Total financi...</td>\n",
       "      <td>AFA0000</td>\n",
       "    </tr>\n",
       "    <tr>\n",
       "      <th>2</th>\n",
       "      <td>2013-06-01</td>\n",
       "      <td>Non-corporate business enterprises</td>\n",
       "      <td>121</td>\n",
       "      <td>Financial assets Closing balance monetary gold...</td>\n",
       "      <td>AFA0100</td>\n",
       "    </tr>\n",
       "    <tr>\n",
       "      <th>3</th>\n",
       "      <td>2013-06-01</td>\n",
       "      <td>Non-corporate business enterprises</td>\n",
       "      <td>121</td>\n",
       "      <td>Financial assets Closing balance currency and ...</td>\n",
       "      <td>AFA0200</td>\n",
       "    </tr>\n",
       "    <tr>\n",
       "      <th>4</th>\n",
       "      <td>2013-06-01</td>\n",
       "      <td>Non-corporate business enterprises</td>\n",
       "      <td>121</td>\n",
       "      <td>Financial assets Closing balance debt securities</td>\n",
       "      <td>AFA0300</td>\n",
       "    </tr>\n",
       "    <tr>\n",
       "      <th>...</th>\n",
       "      <td>...</td>\n",
       "      <td>...</td>\n",
       "      <td>...</td>\n",
       "      <td>...</td>\n",
       "      <td>...</td>\n",
       "    </tr>\n",
       "    <tr>\n",
       "      <th>7291</th>\n",
       "      <td>2015-01-01</td>\n",
       "      <td>Total all sectors</td>\n",
       "      <td>900</td>\n",
       "      <td>Capital Account Closing balances Total non-fin...</td>\n",
       "      <td>AN00000</td>\n",
       "    </tr>\n",
       "    <tr>\n",
       "      <th>7292</th>\n",
       "      <td>2015-01-01</td>\n",
       "      <td>Total all sectors</td>\n",
       "      <td>900</td>\n",
       "      <td>Capital Account Closing balances Produced non-...</td>\n",
       "      <td>AN10000</td>\n",
       "    </tr>\n",
       "    <tr>\n",
       "      <th>7293</th>\n",
       "      <td>2015-01-01</td>\n",
       "      <td>Total all sectors</td>\n",
       "      <td>900</td>\n",
       "      <td>Capital Account Closing balances Non-produced ...</td>\n",
       "      <td>AN20000</td>\n",
       "    </tr>\n",
       "    <tr>\n",
       "      <th>7294</th>\n",
       "      <td>2015-01-01</td>\n",
       "      <td>Total all sectors</td>\n",
       "      <td>900</td>\n",
       "      <td>Closing balance net worth</td>\n",
       "      <td>B900000</td>\n",
       "    </tr>\n",
       "    <tr>\n",
       "      <th>7295</th>\n",
       "      <td>2015-01-01</td>\n",
       "      <td>Total all sectors</td>\n",
       "      <td>900</td>\n",
       "      <td>Closing balance total liabilities and net worth</td>\n",
       "      <td>L000000</td>\n",
       "    </tr>\n",
       "  </tbody>\n",
       "</table>\n",
       "<p>7296 rows × 5 columns</p>\n",
       "</div>"
      ],
      "text/plain": [
       "         Period                         Inst_sector  Inst_sector_code  \\\n",
       "0    2013-06-01  Non-corporate business enterprises               121   \n",
       "1    2013-06-01  Non-corporate business enterprises               121   \n",
       "2    2013-06-01  Non-corporate business enterprises               121   \n",
       "3    2013-06-01  Non-corporate business enterprises               121   \n",
       "4    2013-06-01  Non-corporate business enterprises               121   \n",
       "...         ...                                 ...               ...   \n",
       "7291 2015-01-01                   Total all sectors               900   \n",
       "7292 2015-01-01                   Total all sectors               900   \n",
       "7293 2015-01-01                   Total all sectors               900   \n",
       "7294 2015-01-01                   Total all sectors               900   \n",
       "7295 2015-01-01                   Total all sectors               900   \n",
       "\n",
       "                                             Descriptor Asset_liability_code  \n",
       "0                          Closing balance total assets              A000000  \n",
       "1     Financial assets Closing balance Total financi...              AFA0000  \n",
       "2     Financial assets Closing balance monetary gold...              AFA0100  \n",
       "3     Financial assets Closing balance currency and ...              AFA0200  \n",
       "4      Financial assets Closing balance debt securities              AFA0300  \n",
       "...                                                 ...                  ...  \n",
       "7291  Capital Account Closing balances Total non-fin...              AN00000  \n",
       "7292  Capital Account Closing balances Produced non-...              AN10000  \n",
       "7293  Capital Account Closing balances Non-produced ...              AN20000  \n",
       "7294                          Closing balance net worth              B900000  \n",
       "7295    Closing balance total liabilities and net worth              L000000  \n",
       "\n",
       "[7296 rows x 5 columns]"
      ]
     },
     "execution_count": 25,
     "metadata": {},
     "output_type": "execute_result"
    }
   ],
   "source": [
    "\n",
    "\n",
    "df"
   ]
  },
  {
   "cell_type": "code",
   "execution_count": 26,
   "id": "f0d09112",
   "metadata": {
    "lines_to_next_cell": 2
   },
   "outputs": [],
   "source": [
    "\n",
    "\n",
    "df=df.drop(\"Inst_sector\",axis='columns')"
   ]
  },
  {
   "cell_type": "code",
   "execution_count": 27,
   "id": "85746879",
   "metadata": {
    "lines_to_next_cell": 2
   },
   "outputs": [],
   "source": [
    "\n",
    "\n",
    "df=df.drop('Descriptor',axis='columns')"
   ]
  },
  {
   "cell_type": "code",
   "execution_count": 28,
   "id": "ed55638b",
   "metadata": {
    "lines_to_next_cell": 2
   },
   "outputs": [],
   "source": [
    "\n",
    "\n",
    "df=df.drop('Asset_liability_code',axis='columns')"
   ]
  },
  {
   "cell_type": "code",
   "execution_count": 29,
   "id": "713eea5c",
   "metadata": {
    "lines_to_next_cell": 2
   },
   "outputs": [
    {
     "data": {
      "text/html": [
       "<div>\n",
       "<style scoped>\n",
       "    .dataframe tbody tr th:only-of-type {\n",
       "        vertical-align: middle;\n",
       "    }\n",
       "\n",
       "    .dataframe tbody tr th {\n",
       "        vertical-align: top;\n",
       "    }\n",
       "\n",
       "    .dataframe thead th {\n",
       "        text-align: right;\n",
       "    }\n",
       "</style>\n",
       "<table border=\"1\" class=\"dataframe\">\n",
       "  <thead>\n",
       "    <tr style=\"text-align: right;\">\n",
       "      <th></th>\n",
       "      <th>Period</th>\n",
       "      <th>Inst_sector_code</th>\n",
       "    </tr>\n",
       "  </thead>\n",
       "  <tbody>\n",
       "    <tr>\n",
       "      <th>0</th>\n",
       "      <td>2013-06-01</td>\n",
       "      <td>121</td>\n",
       "    </tr>\n",
       "    <tr>\n",
       "      <th>1</th>\n",
       "      <td>2013-06-01</td>\n",
       "      <td>121</td>\n",
       "    </tr>\n",
       "    <tr>\n",
       "      <th>2</th>\n",
       "      <td>2013-06-01</td>\n",
       "      <td>121</td>\n",
       "    </tr>\n",
       "    <tr>\n",
       "      <th>3</th>\n",
       "      <td>2013-06-01</td>\n",
       "      <td>121</td>\n",
       "    </tr>\n",
       "    <tr>\n",
       "      <th>4</th>\n",
       "      <td>2013-06-01</td>\n",
       "      <td>121</td>\n",
       "    </tr>\n",
       "    <tr>\n",
       "      <th>...</th>\n",
       "      <td>...</td>\n",
       "      <td>...</td>\n",
       "    </tr>\n",
       "    <tr>\n",
       "      <th>7291</th>\n",
       "      <td>2015-01-01</td>\n",
       "      <td>900</td>\n",
       "    </tr>\n",
       "    <tr>\n",
       "      <th>7292</th>\n",
       "      <td>2015-01-01</td>\n",
       "      <td>900</td>\n",
       "    </tr>\n",
       "    <tr>\n",
       "      <th>7293</th>\n",
       "      <td>2015-01-01</td>\n",
       "      <td>900</td>\n",
       "    </tr>\n",
       "    <tr>\n",
       "      <th>7294</th>\n",
       "      <td>2015-01-01</td>\n",
       "      <td>900</td>\n",
       "    </tr>\n",
       "    <tr>\n",
       "      <th>7295</th>\n",
       "      <td>2015-01-01</td>\n",
       "      <td>900</td>\n",
       "    </tr>\n",
       "  </tbody>\n",
       "</table>\n",
       "<p>7296 rows × 2 columns</p>\n",
       "</div>"
      ],
      "text/plain": [
       "         Period  Inst_sector_code\n",
       "0    2013-06-01               121\n",
       "1    2013-06-01               121\n",
       "2    2013-06-01               121\n",
       "3    2013-06-01               121\n",
       "4    2013-06-01               121\n",
       "...         ...               ...\n",
       "7291 2015-01-01               900\n",
       "7292 2015-01-01               900\n",
       "7293 2015-01-01               900\n",
       "7294 2015-01-01               900\n",
       "7295 2015-01-01               900\n",
       "\n",
       "[7296 rows x 2 columns]"
      ]
     },
     "execution_count": 29,
     "metadata": {},
     "output_type": "execute_result"
    }
   ],
   "source": [
    "\n",
    "\n",
    "df"
   ]
  },
  {
   "cell_type": "code",
   "execution_count": 30,
   "id": "1dd8428e",
   "metadata": {
    "lines_to_next_cell": 2
   },
   "outputs": [],
   "source": [
    "\n",
    "\n",
    "import warnings\n",
    "warnings.filterwarnings('ignore')"
   ]
  },
  {
   "cell_type": "code",
   "execution_count": 31,
   "id": "fbba08d9",
   "metadata": {
    "lines_to_next_cell": 2
   },
   "outputs": [
    {
     "name": "stdout",
     "output_type": "stream",
     "text": [
      "<class 'pandas.core.frame.DataFrame'>\n",
      "RangeIndex: 7296 entries, 0 to 7295\n",
      "Data columns (total 2 columns):\n",
      " #   Column            Non-Null Count  Dtype         \n",
      "---  ------            --------------  -----         \n",
      " 0   Period            7296 non-null   datetime64[ns]\n",
      " 1   Inst_sector_code  7296 non-null   int64         \n",
      "dtypes: datetime64[ns](1), int64(1)\n",
      "memory usage: 114.1 KB\n"
     ]
    }
   ],
   "source": [
    "\n",
    "\n",
    "df.info()"
   ]
  },
  {
   "cell_type": "code",
   "execution_count": 32,
   "id": "e836a941",
   "metadata": {
    "lines_to_next_cell": 2
   },
   "outputs": [
    {
     "data": {
      "text/html": [
       "<div>\n",
       "<style scoped>\n",
       "    .dataframe tbody tr th:only-of-type {\n",
       "        vertical-align: middle;\n",
       "    }\n",
       "\n",
       "    .dataframe tbody tr th {\n",
       "        vertical-align: top;\n",
       "    }\n",
       "\n",
       "    .dataframe thead th {\n",
       "        text-align: right;\n",
       "    }\n",
       "</style>\n",
       "<table border=\"1\" class=\"dataframe\">\n",
       "  <thead>\n",
       "    <tr style=\"text-align: right;\">\n",
       "      <th></th>\n",
       "      <th>Period</th>\n",
       "      <th>Inst_sector_code</th>\n",
       "    </tr>\n",
       "  </thead>\n",
       "  <tbody>\n",
       "    <tr>\n",
       "      <th>0</th>\n",
       "      <td>2013-06-01</td>\n",
       "      <td>121</td>\n",
       "    </tr>\n",
       "    <tr>\n",
       "      <th>1</th>\n",
       "      <td>2013-06-01</td>\n",
       "      <td>121</td>\n",
       "    </tr>\n",
       "    <tr>\n",
       "      <th>2</th>\n",
       "      <td>2013-06-01</td>\n",
       "      <td>121</td>\n",
       "    </tr>\n",
       "    <tr>\n",
       "      <th>3</th>\n",
       "      <td>2013-06-01</td>\n",
       "      <td>121</td>\n",
       "    </tr>\n",
       "    <tr>\n",
       "      <th>4</th>\n",
       "      <td>2013-06-01</td>\n",
       "      <td>121</td>\n",
       "    </tr>\n",
       "    <tr>\n",
       "      <th>...</th>\n",
       "      <td>...</td>\n",
       "      <td>...</td>\n",
       "    </tr>\n",
       "    <tr>\n",
       "      <th>7291</th>\n",
       "      <td>2015-01-01</td>\n",
       "      <td>900</td>\n",
       "    </tr>\n",
       "    <tr>\n",
       "      <th>7292</th>\n",
       "      <td>2015-01-01</td>\n",
       "      <td>900</td>\n",
       "    </tr>\n",
       "    <tr>\n",
       "      <th>7293</th>\n",
       "      <td>2015-01-01</td>\n",
       "      <td>900</td>\n",
       "    </tr>\n",
       "    <tr>\n",
       "      <th>7294</th>\n",
       "      <td>2015-01-01</td>\n",
       "      <td>900</td>\n",
       "    </tr>\n",
       "    <tr>\n",
       "      <th>7295</th>\n",
       "      <td>2015-01-01</td>\n",
       "      <td>900</td>\n",
       "    </tr>\n",
       "  </tbody>\n",
       "</table>\n",
       "<p>7296 rows × 2 columns</p>\n",
       "</div>"
      ],
      "text/plain": [
       "         Period  Inst_sector_code\n",
       "0    2013-06-01               121\n",
       "1    2013-06-01               121\n",
       "2    2013-06-01               121\n",
       "3    2013-06-01               121\n",
       "4    2013-06-01               121\n",
       "...         ...               ...\n",
       "7291 2015-01-01               900\n",
       "7292 2015-01-01               900\n",
       "7293 2015-01-01               900\n",
       "7294 2015-01-01               900\n",
       "7295 2015-01-01               900\n",
       "\n",
       "[7296 rows x 2 columns]"
      ]
     },
     "execution_count": 32,
     "metadata": {},
     "output_type": "execute_result"
    }
   ],
   "source": [
    "\n",
    "\n",
    "df"
   ]
  },
  {
   "cell_type": "code",
   "execution_count": 33,
   "id": "791131fe",
   "metadata": {
    "lines_to_next_cell": 2
   },
   "outputs": [
    {
     "data": {
      "text/plain": [
       "<BarContainer object of 80 artists>"
      ]
     },
     "execution_count": 33,
     "metadata": {},
     "output_type": "execute_result"
    },
    {
     "data": {
      "image/png": "[encoded data removed]",
      "text/plain": [
       "<Figure size 640x480 with 1 Axes>"
      ]
     },
     "metadata": {},
     "output_type": "display_data"
    }
   ],
   "source": [
    "\n",
    "\n",
    "a=df['Period'].head(80)\n",
    "b=df['Inst_sector_code'].head(80)\n",
    "\n",
    "plt.bar(a,b)"
   ]
  },
  {
   "cell_type": "code",
   "execution_count": null,
   "id": "c4d7fe72",
   "metadata": {
    "lines_to_next_cell": 2
   },
   "outputs": [],
   "source": [
    "\n",
    "\n"
   ]
  },
  {
   "cell_type": "code",
   "execution_count": null,
   "id": "0112c2aa",
   "metadata": {},
   "outputs": [],
   "source": []
  },
  {
   "cell_type": "code",
   "execution_count": null,
   "id": "0db72436",
   "metadata": {},
   "outputs": [],
   "source": []
  }
 ],
 "metadata": {
  "jupytext": {
   "cell_metadata_filter": "-all",
   "encoding": "# coding: utf-8",
   "executable": "/usr/bin/env python",
   "main_language": "python",
   "notebook_metadata_filter": "-all"
  },
  "kernelspec": {
   "display_name": "Python 3 (ipykernel)",
   "language": "python",
   "name": "python3"
  },
  "language_info": {
   "codemirror_mode": {
    "name": "ipython",
    "version": 3
   },
   "file_extension": ".py",
   "mimetype": "text/x-python",
   "name": "python",
   "nbconvert_exporter": "python",
   "pygments_lexer": "ipython3",
   "version": "3.11.5"
  }
 },
 "nbformat": 4,
 "nbformat_minor": 5
}
