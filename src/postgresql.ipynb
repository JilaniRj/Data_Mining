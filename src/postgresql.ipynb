{
 "cells": [
  {
   "cell_type": "code",
   "execution_count": 1,
   "id": "9079ddd5",
   "metadata": {},
   "outputs": [
    {
     "name": "stdout",
     "output_type": "stream",
     "text": [
      "Collecting psycopg2\n",
      "  Obtaining dependency information for psycopg2 from https://files.pythonhosted.org/packages/37/2c/5133dd3183a3bd82371569f0dd783e6927672de7e671b278ce248810b7f7/psycopg2-2.9.9-cp311-cp311-win_amd64.whl.metadata\n",
      "  Downloading psycopg2-2.9.9-cp311-cp311-win_amd64.whl.metadata (4.5 kB)\n",
      "Downloading psycopg2-2.9.9-cp311-cp311-win_amd64.whl (1.2 MB)\n",
      "   ---------------------------------------- 0.0/1.2 MB ? eta -:--:--\n",
      "   ---------------------------------------- 0.0/1.2 MB ? eta -:--:--\n",
      "   ---------------------------------------- 0.0/1.2 MB ? eta -:--:--\n",
      "   - -------------------------------------- 0.0/1.2 MB 281.8 kB/s eta 0:00:04\n",
      "   --- ------------------------------------ 0.1/1.2 MB 656.4 kB/s eta 0:00:02\n",
      "   ----- ---------------------------------- 0.2/1.2 MB 762.6 kB/s eta 0:00:02\n",
      "   ----- ---------------------------------- 0.2/1.2 MB 762.6 kB/s eta 0:00:02\n",
      "   -------- ------------------------------- 0.2/1.2 MB 758.5 kB/s eta 0:00:02\n",
      "   ---------- ----------------------------- 0.3/1.2 MB 833.5 kB/s eta 0:00:02\n",
      "   ------------ --------------------------- 0.4/1.2 MB 928.4 kB/s eta 0:00:01\n",
      "   ------------- -------------------------- 0.4/1.2 MB 922.1 kB/s eta 0:00:01\n",
      "   ---------------- ----------------------- 0.5/1.2 MB 994.4 kB/s eta 0:00:01\n",
      "   ------------------- -------------------- 0.6/1.2 MB 1.1 MB/s eta 0:00:01\n",
      "   ---------------------- ----------------- 0.6/1.2 MB 1.1 MB/s eta 0:00:01\n",
      "   -------------------------- ------------- 0.8/1.2 MB 1.2 MB/s eta 0:00:01\n",
      "   ----------------------------- ---------- 0.9/1.2 MB 1.3 MB/s eta 0:00:01\n",
      "   ------------------------------- -------- 0.9/1.2 MB 1.3 MB/s eta 0:00:01\n",
      "   ----------------------------------- ---- 1.0/1.2 MB 1.4 MB/s eta 0:00:01\n",
      "   ---------------------------------------  1.1/1.2 MB 1.4 MB/s eta 0:00:01\n",
      "   ---------------------------------------- 1.2/1.2 MB 1.4 MB/s eta 0:00:00\n",
      "Installing collected packages: psycopg2\n",
      "Successfully installed psycopg2-2.9.9\n",
      "Database created successfully........\n"
     ]
    }
   ],
   "source": [
    "!pip install psycopg2\n",
    "import psycopg2\n",
    "\n",
    "#establishing the connection\n",
    "conn = psycopg2.connect(\n",
    "   database=\"postgres\", user='postgres', password='Madhuneha', host='localhost', port= '5432'\n",
    ")\n",
    "conn.autocommit = True\n",
    "\n",
    "#Creating a cursor object using the cursor() method\n",
    "cursor = conn.cursor()\n",
    "\n",
    "#Preparing query to create a database\n",
    "sql = '''CREATE database mydb''';\n",
    "\n",
    "#Creating a database\n",
    "cursor.execute(sql)\n",
    "print(\"Database created successfully........\")\n",
    "\n",
    "#Closing the connection\n",
    "conn.close()"
   ]
  },
  {
   "cell_type": "code",
   "execution_count": null,
   "id": "bc002354",
   "metadata": {},
   "outputs": [],
   "source": []
  }
 ],
 "metadata": {
  "kernelspec": {
   "display_name": "Python 3 (ipykernel)",
   "language": "python",
   "name": "python3"
  },
  "language_info": {
   "codemirror_mode": {
    "name": "ipython",
    "version": 3
   },
   "file_extension": ".py",
   "mimetype": "text/x-python",
   "name": "python",
   "nbconvert_exporter": "python",
   "pygments_lexer": "ipython3",
   "version": "3.11.5"
  }
 },
 "nbformat": 4,
 "nbformat_minor": 5
}
