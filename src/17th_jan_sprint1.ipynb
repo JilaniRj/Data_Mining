{
 "cells": [
  {
   "cell_type": "markdown",
   "id": "ec831527",
   "metadata": {},
   "source": [
    "Simulation start and end time\n"
   ]
  },
  {
   "cell_type": "code",
   "execution_count": 1,
   "id": "163f8cc6",
   "metadata": {},
   "outputs": [
    {
     "name": "stdout",
     "output_type": "stream",
     "text": [
      "Simulation Start Time: 2024-01-01 00:00:00\n",
      "Simulation End Time: 2024-12-31 00:00:00\n"
     ]
    }
   ],
   "source": [
    "#importing required libraries to execute the task.\n",
    "import datetime\n",
    "\n",
    "# Set Simulation Start Time\n",
    "start_date = datetime.datetime(2024, 1, 1, 0, 0, 0)  # Year, Month, Day, Hour, Minute, Second\n",
    "\n",
    "# Set Simulation End Time\n",
    "simulation_duration_days = 365  # 1 year(sample)\n",
    "end_date = start_date + datetime.timedelta(days=simulation_duration_days)\n",
    "\n",
    "# Print Start and End Times\n",
    "print(\"Simulation Start Time:\", start_date)\n",
    "print(\"Simulation End Time:\", end_date)"
   ]
  },
  {
   "cell_type": "markdown",
   "id": "5666f180",
   "metadata": {},
   "source": [
    "# Define time increments for simulation steps\n"
   ]
  },
  {
   "cell_type": "code",
   "execution_count": null,
   "id": "948fb806",
   "metadata": {},
   "outputs": [],
   "source": [
    "#SIMULATION STEPS"
   ]
  },
  {
   "cell_type": "code",
   "execution_count": null,
   "id": "ce8539ac",
   "metadata": {},
   "outputs": [],
   "source": [
    "\"\"\"1. Problem Definition:\n",
    "Clearly define the problem that the simulation aims to address. Identify the objectives, constraints, and key performance \n",
    "indicators (KPIs) to measure the success of the simulation.\n",
    "\n",
    "2. Modeling:\n",
    "Develop a mathematical or computational model that represents the real-world system being simulated. Define the entities,\n",
    "variables, and relationships within the system. Choose an appropriate simulation paradigm (e.g., discrete-event simulation,\n",
    "                                                                                        continuous simulation).\n",
    "3. Input Data Generation:\n",
    "Collect or generate the input data required for the simulation. This may include historical data, statistical distributions,\n",
    "or other parameters that influence the behavior of the system.\n",
    "\n",
    "4. Initialization:\n",
    "Set the initial conditions of the simulation, including the starting values of variables, states of entities, and any other\n",
    "relevant parameters.\n",
    "    \n",
    "5. Time Management:\n",
    "Define the simulation time frame and time increments. Manage the simulation clock and progress through time steps or events.\n",
    "\n",
    "6. State Update:\n",
    "Update the state of the system based on the events or continuous processes. This involves calculating changes in variables,\n",
    "entity states, or other relevant parameters.\n",
    "\n",
    "7. Data Logging:\n",
    "Log relevant simulation data at specified intervals or when significant events occur. This data is crucial for analysis,\n",
    "validation, and performance evaluation.\n",
    "\n",
    "8. Condition Checking:\n",
    "Check conditions or constraints to determine if specific actions need to be taken. This could involve decision-making based on\n",
    "predefined rules or criteria.\n",
    "\n",
    "9. Output Generation:\n",
    "Generate output data that reflects the state of the system at different points in time. This output may include performance\n",
    "metrics, visualizations, or reports.\n",
    "\n",
    "10. Analysis and Validation:\n",
    "Analyze the simulation results to assess the system's behavior, evaluate performance metrics, and validate the simulation\n",
    "against real-world data or expectations.\n",
    "\n",
    "11.Optimization (if applicable):\n",
    "If the simulation aims to optimize certain parameters, implement optimization algorithms or strategies to improve system\n",
    "performance based on the simulation results.\n",
    "\n",
    "12. Scenario Exploration (if applicable):\n",
    "Explore different scenarios by varying input parameters or conditions to understand how the system responds to different\n",
    "situations.\n",
    "\n",
    "13. Documentation:\n",
    "Document the simulation process, including assumptions, limitations, and any adjustments made during the modeling and execution\n",
    "phases. This documentation is essential for reproducibility and future reference.\n",
    "\n",
    "14. Conclusion and Reporting:\n",
    "Draw conclusions from the simulation results and prepare a final report summarizing key findings, insights, and recommendations.\"\"\""
   ]
  },
  {
   "cell_type": "code",
   "execution_count": 2,
   "id": "2e24012e",
   "metadata": {},
   "outputs": [
    {
     "name": "stdout",
     "output_type": "stream",
     "text": [
      "Time Increment: 1 hours\n",
      "Number of Simulation Steps: 8760\n"
     ]
    }
   ],
   "source": [
    "# Define Simulation Time Increment\n",
    "time_increment_hours = 1  # Example: 1 hour time increment\n",
    "\n",
    "# Define Simulation Duration\n",
    "simulation_duration_days = 365  # Example: 1 year simulation\n",
    "\n",
    "# Calculate the Number of Steps\n",
    "num_steps = int((simulation_duration_days * 24) / time_increment_hours)  # Convert days to hours\n",
    "\n",
    "# Print Simulation Parameters\n",
    "print(\"Time Increment:\", time_increment_hours, \"hours\")\n",
    "print(\"Number of Simulation Steps:\", num_steps)\n"
   ]
  },
  {
   "cell_type": "markdown",
   "id": "71003943",
   "metadata": {},
   "source": [
    "# Decide if there is any randomization in simulation\n"
   ]
  },
  {
   "cell_type": "markdown",
   "id": "f8317aaa",
   "metadata": {},
   "source": [
    "# breakdown hours"
   ]
  },
  {
   "cell_type": "code",
   "execution_count": 1,
   "id": "8306e284",
   "metadata": {},
   "outputs": [
    {
     "name": "stdout",
     "output_type": "stream",
     "text": [
      "Simulated breakdown hours: 3\n",
      "Simulated breakdown hours: 3\n",
      "Simulated breakdown hours: 3\n",
      "Simulated breakdown hours: 2\n",
      "Simulated breakdown hours: 2\n",
      "Simulated breakdown hours: 3\n",
      "Simulated breakdown hours: 3\n",
      "Simulated breakdown hours: 3\n",
      "Simulated breakdown hours: 3\n",
      "Simulated breakdown hours: 3\n"
     ]
    }
   ],
   "source": [
    "#importing required libraries\n",
    "import random\n",
    "#function to simulate breakdown hours\n",
    "def simulate_breakdown():\n",
    "    # Set the fixed breakdown hours to 3(as per mm data)\n",
    "    fixed_breakdown_hours = 3\n",
    "\n",
    "    # Introduce randomness for breakdown duration\n",
    "    random_factor = random.uniform(0.8, 1.2)  # data to be provided regarding randomness\n",
    "    random_breakdown_hours = round(fixed_breakdown_hours * random_factor)\n",
    "\n",
    "    return random_breakdown_hours\n",
    "\n",
    "# Example simulation\n",
    "for _ in range(10):#(require number of steps)\n",
    "    hours = simulate_breakdown()\n",
    "    print(f\"Simulated breakdown hours: {hours}\")\n"
   ]
  },
  {
   "cell_type": "markdown",
   "id": "e3c3184b",
   "metadata": {},
   "source": [
    "# variation in resource distribution"
   ]
  },
  {
   "cell_type": "markdown",
   "id": "ebb1604c",
   "metadata": {},
   "source": [
    "Gold ore"
   ]
  },
  {
   "cell_type": "code",
   "execution_count": 2,
   "id": "4818bb52",
   "metadata": {},
   "outputs": [
    {
     "name": "stdout",
     "output_type": "stream",
     "text": [
      "Randomized Ore Grade: 4.588424808191266\n"
     ]
    }
   ],
   "source": [
    "#gold ore\n",
    "import random\n",
    "\n",
    "# Example: Introduce randomization to simulate variations in ore grades\n",
    "base_ore_grade = 4.56 \n",
    "\n",
    "# Function to simulate random ore grade variation\n",
    "def simulate_ore_grade():\n",
    "    variability = 0.01  # Example: 1% variability\n",
    "    random_factor = 1 + random.uniform(-variability, variability)\n",
    "    return base_ore_grade * random_factor\n",
    "\n",
    "# Example usage\n",
    "randomized_ore_grade = simulate_ore_grade()\n",
    "print(\"Randomized Ore Grade:\", randomized_ore_grade)\n"
   ]
  },
  {
   "cell_type": "markdown",
   "id": "ef0806f6",
   "metadata": {},
   "source": [
    "siver ore"
   ]
  },
  {
   "cell_type": "code",
   "execution_count": 3,
   "id": "cb32e1f7",
   "metadata": {},
   "outputs": [
    {
     "name": "stdout",
     "output_type": "stream",
     "text": [
      "Randomized Ore Grade: 89.09863461570215\n"
     ]
    }
   ],
   "source": [
    "#silver ore\n",
    "import random\n",
    "\n",
    "# Example: Introduce randomization to simulate variations in ore grades\n",
    "base_ore_grade = 92 \n",
    "\n",
    "# Function to simulate random ore grade variation\n",
    "def simulate_ore_grade():\n",
    "    variability = 0.1  # Example: 10% variability\n",
    "    random_factor = 1 + random.uniform(-variability, variability)\n",
    "    return base_ore_grade * random_factor\n",
    "\n",
    "# Example usage\n",
    "randomized_ore_grade = simulate_ore_grade()\n",
    "print(\"Randomized Ore Grade:\", randomized_ore_grade)\n"
   ]
  },
  {
   "cell_type": "markdown",
   "id": "e384332e",
   "metadata": {},
   "source": [
    "zinc ore"
   ]
  },
  {
   "cell_type": "code",
   "execution_count": 4,
   "id": "6acc95f7",
   "metadata": {},
   "outputs": [
    {
     "name": "stdout",
     "output_type": "stream",
     "text": [
      "Randomized Ore Grade: 7.806767356564402\n"
     ]
    }
   ],
   "source": [
    "#zinc ore\n",
    "import random\n",
    "\n",
    "# Example: Introduce randomization to simulate variations in ore grades\n",
    "base_ore_grade = 7.8 \n",
    "\n",
    "# Function to simulate random ore grade variation\n",
    "def simulate_ore_grade():\n",
    "    variability = 0.01  # Example: 1% variability\n",
    "    random_factor = 1 + random.uniform(-variability, variability)\n",
    "    return base_ore_grade * random_factor\n",
    "\n",
    "# Example usage\n",
    "randomized_ore_grade = simulate_ore_grade()\n",
    "print(\"Randomized Ore Grade:\", randomized_ore_grade)\n"
   ]
  },
  {
   "cell_type": "markdown",
   "id": "26ed264f",
   "metadata": {},
   "source": [
    "iron ore"
   ]
  },
  {
   "cell_type": "code",
   "execution_count": 5,
   "id": "69050e67",
   "metadata": {},
   "outputs": [
    {
     "name": "stdout",
     "output_type": "stream",
     "text": [
      "Randomized Ore Grade: 56.13881165278605\n"
     ]
    }
   ],
   "source": [
    "#Iron ore\n",
    "import random\n",
    "\n",
    "# Example: Introduce randomization to simulate variations in ore grades\n",
    "base_ore_grade = 62 \n",
    "\n",
    "# Function to simulate random ore grade variation\n",
    "def simulate_ore_grade():\n",
    "    variability = 0.1  # Example: 10% variability\n",
    "    random_factor = 1 + random.uniform(-variability, variability)\n",
    "    return base_ore_grade * random_factor\n",
    "\n",
    "# Example usage\n",
    "randomized_ore_grade = simulate_ore_grade()\n",
    "print(\"Randomized Ore Grade:\", randomized_ore_grade)\n"
   ]
  },
  {
   "cell_type": "code",
   "execution_count": null,
   "id": "55217024",
   "metadata": {},
   "outputs": [],
   "source": []
  },
  {
   "cell_type": "code",
   "execution_count": null,
   "id": "e6836315",
   "metadata": {},
   "outputs": [],
   "source": []
  },
  {
   "cell_type": "code",
   "execution_count": null,
   "id": "460fb973",
   "metadata": {},
   "outputs": [],
   "source": []
  },
  {
   "cell_type": "code",
   "execution_count": null,
   "id": "997f33df",
   "metadata": {},
   "outputs": [],
   "source": []
  },
  {
   "cell_type": "code",
   "execution_count": null,
   "id": "a0613708",
   "metadata": {},
   "outputs": [],
   "source": []
  },
  {
   "cell_type": "code",
   "execution_count": null,
   "id": "879cfa84",
   "metadata": {},
   "outputs": [],
   "source": []
  },
  {
   "cell_type": "code",
   "execution_count": null,
   "id": "ba58e516",
   "metadata": {},
   "outputs": [],
   "source": []
  },
  {
   "cell_type": "code",
   "execution_count": null,
   "id": "139c77e6",
   "metadata": {},
   "outputs": [],
   "source": []
  },
  {
   "cell_type": "code",
   "execution_count": null,
   "id": "4646b7e8",
   "metadata": {},
   "outputs": [],
   "source": []
  },
  {
   "cell_type": "code",
   "execution_count": null,
   "id": "01bec79a",
   "metadata": {},
   "outputs": [],
   "source": []
  },
  {
   "cell_type": "code",
   "execution_count": null,
   "id": "946bfd4e",
   "metadata": {},
   "outputs": [],
   "source": []
  },
  {
   "cell_type": "code",
   "execution_count": null,
   "id": "bc8d65ae",
   "metadata": {},
   "outputs": [],
   "source": []
  },
  {
   "cell_type": "code",
   "execution_count": null,
   "id": "e3fd528e",
   "metadata": {},
   "outputs": [],
   "source": []
  },
  {
   "cell_type": "code",
   "execution_count": null,
   "id": "ee3a0f9b",
   "metadata": {},
   "outputs": [],
   "source": []
  },
  {
   "cell_type": "code",
   "execution_count": null,
   "id": "8da83c4e",
   "metadata": {},
   "outputs": [],
   "source": []
  },
  {
   "cell_type": "code",
   "execution_count": null,
   "id": "b3fffcf0",
   "metadata": {},
   "outputs": [],
   "source": []
  },
  {
   "cell_type": "code",
   "execution_count": null,
   "id": "62033baa",
   "metadata": {},
   "outputs": [],
   "source": []
  },
  {
   "cell_type": "code",
   "execution_count": null,
   "id": "467ff353",
   "metadata": {},
   "outputs": [],
   "source": []
  },
  {
   "cell_type": "code",
   "execution_count": null,
   "id": "248e8bce",
   "metadata": {},
   "outputs": [],
   "source": []
  },
  {
   "cell_type": "code",
   "execution_count": null,
   "id": "e0eca38e",
   "metadata": {},
   "outputs": [],
   "source": []
  },
  {
   "cell_type": "code",
   "execution_count": null,
   "id": "ae664d79",
   "metadata": {},
   "outputs": [],
   "source": []
  },
  {
   "cell_type": "code",
   "execution_count": null,
   "id": "76248bf5",
   "metadata": {},
   "outputs": [],
   "source": []
  },
  {
   "cell_type": "code",
   "execution_count": null,
   "id": "9f761eed",
   "metadata": {},
   "outputs": [],
   "source": []
  },
  {
   "cell_type": "code",
   "execution_count": null,
   "id": "a45fab4f",
   "metadata": {},
   "outputs": [],
   "source": []
  },
  {
   "cell_type": "markdown",
   "id": "7f656860",
   "metadata": {},
   "source": [
    "# Define KPI"
   ]
  },
  {
   "cell_type": "markdown",
   "id": "89952c74",
   "metadata": {},
   "source": [
    " KPI stands for Key Performance Indicator. A KPI is a measurable value that demonstrates how effectively a company or an\n",
    "#organization is achieving its key business objectives. KPIs are used to evaluate the success or performance of a particular\n",
    "#activity, process, or overall business."
   ]
  },
  {
   "cell_type": "code",
   "execution_count": null,
   "id": "78d646f8",
   "metadata": {},
   "outputs": [],
   "source": [
    "# 1. Relevance: KPIs are directly tied to the organization's goals and objectives. They reflect critical success factors that are \n",
    " #   important for the organization's overall performance.\n",
    "\n",
    "#2. Measurability: KPIs must be quantifiable and measurable. This involves having a clear, defined method for collecting and \n",
    " #   analyzing data related to the KPI.\n",
    "\n",
    "#3. Specificity: KPIs should be specific and well-defined, providing a clear understanding of what is being measured and why it \n",
    " #   is important.\n",
    "\n",
    "#4. Timeliness: KPIs are often associated with a specific timeframe, allowing organizations to track progress over time and make \n",
    " #   informed decisions based on recent performance.\n",
    "\n",
    "#5. Actionability: KPIs should provide insights that can drive action and decision-making. They help organizations identify \n",
    " #   areas for improvement or areas where they are excelling."
   ]
  },
  {
   "cell_type": "code",
   "execution_count": null,
   "id": "6f4ae2ea",
   "metadata": {},
   "outputs": [],
   "source": [
    "#Operational KPIs:\n",
    "\n",
    "#Overall equipment effectiveness (OEE)\n",
    "#Cycle time\n",
    "#Inventory turnover"
   ]
  },
  {
   "cell_type": "markdown",
   "id": "cdb71ecc",
   "metadata": {},
   "source": [
    "# Identify KPIs to measure the success of simulation\n"
   ]
  },
  {
   "cell_type": "code",
   "execution_count": null,
   "id": "e0d2460c",
   "metadata": {},
   "outputs": [],
   "source": [
    "\"\"\"Simulation Accuracy:\n",
    "\n",
    "Objective: To assess how well the simulation replicates the real-world system.\n",
    "KPIs:\n",
    "Deviation between simulated and actual data.\n",
    "Root Mean Square Error (RMSE) or other statistical measures of accuracy.\n",
    "Model Validation:\n",
    "\n",
    "Objective: To verify that the simulation model accurately represents the system it is simulating.\n",
    "KPIs:\n",
    "Comparison of simulated results with historical or empirical data.\n",
    "Validation against known benchmarks.\n",
    "Resource Utilization:\n",
    "\n",
    "Objective: To optimize the use of resources within the simulated system.\n",
    "KPIs:\n",
    "Equipment utilization rates.\n",
    "Workforce productivity.\n",
    "Efficient use of available materials.\n",
    "Optimization Effectiveness:\n",
    "\n",
    "Objective: To evaluate the success of optimization strategies implemented in the simulation.\n",
    "KPIs:\n",
    "Cost reduction achieved through optimization.\n",
    "Increased production or throughput.\n",
    "Scenario Analysis:\n",
    "\n",
    "Objective: To explore different scenarios and assess their impact on the system.\n",
    "KPIs:\n",
    "Identification of optimal scenarios.\n",
    "Sensitivity analysis results.\n",
    "Decision Support:\n",
    "\n",
    "Objective: To evaluate the value of the simulation in supporting decision-making.\n",
    "KPIs:\n",
    "Timeliness of decision-making based on simulation results.\n",
    "Number of decisions influenced by simulation insights.\n",
    "Model Complexity:\n",
    "\n",
    "Objective: To assess the appropriateness of the simulation model's complexity.\n",
    "KPIs:\n",
    "Model computation time.\n",
    "Trade-off between model complexity and accuracy.\n",
    "Stakeholder Satisfaction:\n",
    "\n",
    "Objective: To measure the satisfaction of stakeholders with the simulation results.\n",
    "KPIs:\n",
    "Feedback from decision-makers.\n",
    "User satisfaction surveys.\n",
    "Robustness:\n",
    "\n",
    "Objective: To evaluate the ability of the simulation to handle uncertainties and variations.\n",
    "KPIs:\n",
    "Performance under different input scenarios.\n",
    "Resilience to changes in model parameters.\n",
    "Communication Effectiveness:\n",
    "\n",
    "Objective: To assess how well simulation results are communicated to stakeholders.\n",
    "KPIs:\n",
    "Clarity of simulation reports.\n",
    "Understanding of simulation outputs by non-technical stakeholders.\"\"\""
   ]
  },
  {
   "cell_type": "code",
   "execution_count": null,
   "id": "d279e2bd",
   "metadata": {},
   "outputs": [],
   "source": []
  },
  {
   "cell_type": "code",
   "execution_count": 16,
   "id": "e0d42f68",
   "metadata": {},
   "outputs": [
    {
     "name": "stdout",
     "output_type": "stream",
     "text": [
      "Production Efficiency: -53.36%\n",
      "Throughput: 798.64 tons per hour\n"
     ]
    }
   ],
   "source": [
    "#importing required libraries\n",
    "import random\n",
    "#creating class\n",
    "class OreExtractionSimulation:\n",
    "    def __init__(self, total_simulation_hours):#creating constructor\n",
    "        self.total_simulation_hours = total_simulation_hours\n",
    "        self.ore_extraction_rate = 0\n",
    "        self.equipment_downtime = 0\n",
    "        \n",
    "    def simulate(self):\n",
    "        for hour in range(self.total_simulation_hours):\n",
    "            # Simulate ore extraction rate \n",
    "            ore_extraction_rate = random.uniform(15, 1492)  # range of ore extracted in ton by time in hours\n",
    "            self.ore_extraction_rate += ore_extraction_rate\n",
    "\n",
    "            # Simulate equipment downtime \n",
    "            equipment_downtime = random.uniform(0, 3)  # break down time is 3\n",
    "            self.equipment_downtime += equipment_downtime\n",
    "\n",
    "        \n",
    "\n",
    "        # Calculate KPIs\n",
    "        self.production_efficiency = (self.total_simulation_hours - self.equipment_downtime) / self.total_simulation_hours * 100\n",
    "        self.throughput = self.ore_extraction_rate / self.total_simulation_hours\n",
    "        \n",
    "\n",
    "if __name__ == \"__main__\":\n",
    "    # Example simulation with 100 hours\n",
    "    simulation = OreExtractionSimulation(total_simulation_hours=100)# require data \n",
    "    simulation.simulate()\n",
    "\n",
    "    # Print KPI results\n",
    "    print(f\"Production Efficiency: {simulation.production_efficiency:.2f}%\")\n",
    "    print(f\"Throughput: {simulation.throughput:.2f} tons per hour\")\n",
    "    \n"
   ]
  },
  {
   "cell_type": "markdown",
   "id": "d493a933",
   "metadata": {},
   "source": [
    "# Specify how the simulation data will be logged and stored for analysis\n"
   ]
  },
  {
   "cell_type": "code",
   "execution_count": null,
   "id": "c2019361",
   "metadata": {},
   "outputs": [],
   "source": [
    "\"\"\"1. Logging Data:\n",
    "    \n",
    "Logging Frameworks or Libraries:\n",
    "Utilize logging frameworks or libraries available in your programming language (e.g., Python's logging, Java's log4j). \n",
    "These frameworks provide standardized ways to log messages, warnings, and errors.\n",
    "\n",
    "Define Log Levels:\n",
    "Use different log levels (info, debug, warning, error) to distinguish between various types of messages. This helps filter \n",
    "and analyze logs effectively.\n",
    "\n",
    "Timestamps:\n",
    "Include timestamps in log entries to record when events occurred. This is crucial for time-series analysis and correlating \n",
    "events.\n",
    "\n",
    "Structured Logging:\n",
    "Consider using structured logging formats (e.g., JSON or CSV) to facilitate easy parsing and analysis. Each log entry can \n",
    "include relevant metadata.\n",
    "\n",
    "2. Storage Options:\n",
    "    \n",
    "File-Based Storage:\n",
    "Simple simulations may log data to text files (e.g., CSV, JSON). Each line or entry in the file corresponds to a logged event.\n",
    "\n",
    "Relational Databases:\n",
    "For more complex simulations, store data in relational databases (e.g., MySQL, PostgreSQL) with tables representing different\n",
    "aspects of the simulation.\n",
    "\n",
    "Time-Series Databases:\n",
    "Time-series databases (e.g., InfluxDB, TimescaleDB) are suitable for simulations with time-dependent data. They efficiently\n",
    "handle large datasets with timestamps.\n",
    "\n",
    "NoSQL Databases:\n",
    "NoSQL databases (e.g., MongoDB) can be chosen for their flexibility, especially when dealing with semi-structured or \n",
    "unstructured data.\"\"\""
   ]
  },
  {
   "cell_type": "code",
   "execution_count": 6,
   "id": "351c2588",
   "metadata": {},
   "outputs": [],
   "source": [
    "#importing required libraries\n",
    "import logging\n",
    "\n",
    "# Configure logging\n",
    "logging.basicConfig(filename='simulation.log', level=logging.INFO)\n",
    "\n",
    "# Log some data\n",
    "logging.info('Simulation started')\n",
    "logging.warning('Warning: Resource depletion detected')\n",
    "logging.error('Error: Equipment failure')\n"
   ]
  },
  {
   "cell_type": "code",
   "execution_count": 9,
   "id": "d72df3cb",
   "metadata": {},
   "outputs": [
    {
     "name": "stdout",
     "output_type": "stream",
     "text": [
      "Database created successfully........\n"
     ]
    }
   ],
   "source": [
    "#importing required libraries\n",
    "import psycopg2\n",
    "\n",
    "#establishing the connection\n",
    "conn = psycopg2.connect(\n",
    "   database=\"postgres\", user='postgres', password='Madhuneha', host='localhost', port= '5432'\n",
    ")\n",
    "conn.autocommit = True\n",
    "\n",
    "#Creating a cursor object using the cursor() method\n",
    "cursor = conn.cursor()\n",
    "\n",
    "#Preparing query to create a database\n",
    "sql = '''CREATE database mydb1''';\n",
    "\n",
    "#Creating a database\n",
    "cursor.execute(sql)\n",
    "print(\"Database created successfully........\")\n",
    "\n",
    "#Closing the connection\n",
    "conn.close()"
   ]
  },
  {
   "cell_type": "markdown",
   "id": "bf1aed95",
   "metadata": {},
   "source": [
    "# Identify and list the python libraries required for simulation script \n"
   ]
  },
  {
   "cell_type": "code",
   "execution_count": null,
   "id": "ff00b5c7",
   "metadata": {},
   "outputs": [],
   "source": [
    "#1. Numpy: Numerical computing, especially for handling large, multi-dimensional arrays and matrices.\n",
    "\n",
    "#2. Pandas: Data manipulation and analysis library, providing data structures like DataFrames for efficient handling of \n",
    "           #structured data\n",
    "\n",
    "#3. scipy: Built on top of NumPy, it provides additional functionality for scientific computing, including optimization, \n",
    "          #integration, interpolation, and more.\n",
    "        \n",
    "#4. matplotlib: Data visualization library for creating static, animated, and interactive plots and charts.\n",
    "    \n",
    "#5. simpy: Discrete-event simulation library for modeling and simulating complex systems.\n",
    "    \n",
    "#6. networkx: Library for the creation, manipulation, and study of the structure, dynamics, and functions of complex networks.\n",
    "    \n",
    "#7. scikit-learn:  Machine learning library that includes various tools for statistical modeling, classification, regression,\n",
    "                  #clustering, and more.\n",
    "        \n",
    "#8. tensorflow or pytorch: Deep learning libraries for building and training neural networks.\n",
    "    \n",
    "#9. SQLAlchemy: SQL toolkit and Object-Relational Mapping (ORM) library for Python. Useful for working with databases.\n",
    "    \n",
    "#10. datetime: Standard Python library for working with dates and times.\n",
    "    "
   ]
  }
 ],
 "metadata": {
  "kernelspec": {
   "display_name": "Python 3 (ipykernel)",
   "language": "python",
   "name": "python3"
  },
  "language_info": {
   "codemirror_mode": {
    "name": "ipython",
    "version": 3
   },
   "file_extension": ".py",
   "mimetype": "text/x-python",
   "name": "python",
   "nbconvert_exporter": "python",
   "pygments_lexer": "ipython3",
   "version": "3.11.5"
  }
 },
 "nbformat": 4,
 "nbformat_minor": 5
}
