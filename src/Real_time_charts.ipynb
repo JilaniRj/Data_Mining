{
 "cells": [
  {
   "cell_type": "code",
   "execution_count": 1,
   "id": "7806026c",
   "metadata": {},
   "outputs": [],
   "source": [
    "import numpy as np\n",
    "import pandas as pd\n",
    "import matplotlib.pyplot as plt"
   ]
  },
  {
   "cell_type": "code",
   "execution_count": 2,
   "id": "c39d0679",
   "metadata": {},
   "outputs": [],
   "source": [
    "data=pd.read_csv(\"mm.csv\")"
   ]
  },
  {
   "cell_type": "code",
   "execution_count": 3,
   "id": "3ff1ed6b",
   "metadata": {},
   "outputs": [
    {
     "data": {
      "text/html": [
       "<div>\n",
       "<style scoped>\n",
       "    .dataframe tbody tr th:only-of-type {\n",
       "        vertical-align: middle;\n",
       "    }\n",
       "\n",
       "    .dataframe tbody tr th {\n",
       "        vertical-align: top;\n",
       "    }\n",
       "\n",
       "    .dataframe thead th {\n",
       "        text-align: right;\n",
       "    }\n",
       "</style>\n",
       "<table border=\"1\" class=\"dataframe\">\n",
       "  <thead>\n",
       "    <tr style=\"text-align: right;\">\n",
       "      <th></th>\n",
       "      <th>Equipment</th>\n",
       "      <th>Mine</th>\n",
       "      <th>Material</th>\n",
       "      <th>ProdDate</th>\n",
       "      <th>WorkHours</th>\n",
       "      <th>FuelConsumed</th>\n",
       "      <th>Availability</th>\n",
       "    </tr>\n",
       "  </thead>\n",
       "  <tbody>\n",
       "    <tr>\n",
       "      <th>0</th>\n",
       "      <td>CAT996Loader</td>\n",
       "      <td>HZL</td>\n",
       "      <td>Zinc conc</td>\n",
       "      <td>10/2/2023</td>\n",
       "      <td>8</td>\n",
       "      <td>210</td>\n",
       "      <td>92%</td>\n",
       "    </tr>\n",
       "    <tr>\n",
       "      <th>1</th>\n",
       "      <td>Komatsu Dump Truck</td>\n",
       "      <td>Geoth</td>\n",
       "      <td>Iron Ore</td>\n",
       "      <td>13-02-2023</td>\n",
       "      <td>7</td>\n",
       "      <td>160</td>\n",
       "      <td>100%</td>\n",
       "    </tr>\n",
       "  </tbody>\n",
       "</table>\n",
       "</div>"
      ],
      "text/plain": [
       "            Equipment   Mine   Material    ProdDate  WorkHours  FuelConsumed  \\\n",
       "0        CAT996Loader    HZL  Zinc conc   10/2/2023          8           210   \n",
       "1  Komatsu Dump Truck  Geoth   Iron Ore  13-02-2023          7           160   \n",
       "\n",
       "  Availability  \n",
       "0          92%  \n",
       "1         100%  "
      ]
     },
     "execution_count": 3,
     "metadata": {},
     "output_type": "execute_result"
    }
   ],
   "source": [
    "data"
   ]
  },
  {
   "cell_type": "code",
   "execution_count": 4,
   "id": "d4cb85df",
   "metadata": {},
   "outputs": [
    {
     "name": "stdout",
     "output_type": "stream",
     "text": [
      "<class 'pandas.core.frame.DataFrame'>\n",
      "RangeIndex: 2 entries, 0 to 1\n",
      "Data columns (total 7 columns):\n",
      " #   Column        Non-Null Count  Dtype \n",
      "---  ------        --------------  ----- \n",
      " 0   Equipment     2 non-null      object\n",
      " 1   Mine          2 non-null      object\n",
      " 2   Material      2 non-null      object\n",
      " 3   ProdDate      2 non-null      object\n",
      " 4   WorkHours     2 non-null      int64 \n",
      " 5   FuelConsumed  2 non-null      int64 \n",
      " 6   Availability  2 non-null      object\n",
      "dtypes: int64(2), object(5)\n",
      "memory usage: 244.0+ bytes\n"
     ]
    }
   ],
   "source": [
    "data.info()"
   ]
  },
  {
   "cell_type": "code",
   "execution_count": 5,
   "id": "5f3f52a3",
   "metadata": {},
   "outputs": [
    {
     "data": {
      "text/html": [
       "<div>\n",
       "<style scoped>\n",
       "    .dataframe tbody tr th:only-of-type {\n",
       "        vertical-align: middle;\n",
       "    }\n",
       "\n",
       "    .dataframe tbody tr th {\n",
       "        vertical-align: top;\n",
       "    }\n",
       "\n",
       "    .dataframe thead th {\n",
       "        text-align: right;\n",
       "    }\n",
       "</style>\n",
       "<table border=\"1\" class=\"dataframe\">\n",
       "  <thead>\n",
       "    <tr style=\"text-align: right;\">\n",
       "      <th></th>\n",
       "      <th>WorkHours</th>\n",
       "      <th>FuelConsumed</th>\n",
       "    </tr>\n",
       "  </thead>\n",
       "  <tbody>\n",
       "    <tr>\n",
       "      <th>count</th>\n",
       "      <td>2.000000</td>\n",
       "      <td>2.000000</td>\n",
       "    </tr>\n",
       "    <tr>\n",
       "      <th>mean</th>\n",
       "      <td>7.500000</td>\n",
       "      <td>185.000000</td>\n",
       "    </tr>\n",
       "    <tr>\n",
       "      <th>std</th>\n",
       "      <td>0.707107</td>\n",
       "      <td>35.355339</td>\n",
       "    </tr>\n",
       "    <tr>\n",
       "      <th>min</th>\n",
       "      <td>7.000000</td>\n",
       "      <td>160.000000</td>\n",
       "    </tr>\n",
       "    <tr>\n",
       "      <th>25%</th>\n",
       "      <td>7.250000</td>\n",
       "      <td>172.500000</td>\n",
       "    </tr>\n",
       "    <tr>\n",
       "      <th>50%</th>\n",
       "      <td>7.500000</td>\n",
       "      <td>185.000000</td>\n",
       "    </tr>\n",
       "    <tr>\n",
       "      <th>75%</th>\n",
       "      <td>7.750000</td>\n",
       "      <td>197.500000</td>\n",
       "    </tr>\n",
       "    <tr>\n",
       "      <th>max</th>\n",
       "      <td>8.000000</td>\n",
       "      <td>210.000000</td>\n",
       "    </tr>\n",
       "  </tbody>\n",
       "</table>\n",
       "</div>"
      ],
      "text/plain": [
       "       WorkHours  FuelConsumed\n",
       "count   2.000000      2.000000\n",
       "mean    7.500000    185.000000\n",
       "std     0.707107     35.355339\n",
       "min     7.000000    160.000000\n",
       "25%     7.250000    172.500000\n",
       "50%     7.500000    185.000000\n",
       "75%     7.750000    197.500000\n",
       "max     8.000000    210.000000"
      ]
     },
     "execution_count": 5,
     "metadata": {},
     "output_type": "execute_result"
    }
   ],
   "source": [
    "data.describe()"
   ]
  },
  {
   "cell_type": "code",
   "execution_count": 6,
   "id": "0bed749b",
   "metadata": {},
   "outputs": [],
   "source": [
    "data['ProdDate']=pd.to_datetime(data['ProdDate'],format=\"mixed\")"
   ]
  },
  {
   "cell_type": "code",
   "execution_count": 7,
   "id": "486490e4",
   "metadata": {},
   "outputs": [
    {
     "data": {
      "text/html": [
       "<div>\n",
       "<style scoped>\n",
       "    .dataframe tbody tr th:only-of-type {\n",
       "        vertical-align: middle;\n",
       "    }\n",
       "\n",
       "    .dataframe tbody tr th {\n",
       "        vertical-align: top;\n",
       "    }\n",
       "\n",
       "    .dataframe thead th {\n",
       "        text-align: right;\n",
       "    }\n",
       "</style>\n",
       "<table border=\"1\" class=\"dataframe\">\n",
       "  <thead>\n",
       "    <tr style=\"text-align: right;\">\n",
       "      <th></th>\n",
       "      <th>Equipment</th>\n",
       "      <th>Mine</th>\n",
       "      <th>Material</th>\n",
       "      <th>ProdDate</th>\n",
       "      <th>WorkHours</th>\n",
       "      <th>FuelConsumed</th>\n",
       "      <th>Availability</th>\n",
       "    </tr>\n",
       "  </thead>\n",
       "  <tbody>\n",
       "    <tr>\n",
       "      <th>0</th>\n",
       "      <td>CAT996Loader</td>\n",
       "      <td>HZL</td>\n",
       "      <td>Zinc conc</td>\n",
       "      <td>2023-10-02</td>\n",
       "      <td>8</td>\n",
       "      <td>210</td>\n",
       "      <td>92%</td>\n",
       "    </tr>\n",
       "    <tr>\n",
       "      <th>1</th>\n",
       "      <td>Komatsu Dump Truck</td>\n",
       "      <td>Geoth</td>\n",
       "      <td>Iron Ore</td>\n",
       "      <td>2023-02-13</td>\n",
       "      <td>7</td>\n",
       "      <td>160</td>\n",
       "      <td>100%</td>\n",
       "    </tr>\n",
       "  </tbody>\n",
       "</table>\n",
       "</div>"
      ],
      "text/plain": [
       "            Equipment   Mine   Material   ProdDate  WorkHours  FuelConsumed  \\\n",
       "0        CAT996Loader    HZL  Zinc conc 2023-10-02          8           210   \n",
       "1  Komatsu Dump Truck  Geoth   Iron Ore 2023-02-13          7           160   \n",
       "\n",
       "  Availability  \n",
       "0          92%  \n",
       "1         100%  "
      ]
     },
     "execution_count": 7,
     "metadata": {},
     "output_type": "execute_result"
    }
   ],
   "source": [
    "data"
   ]
  },
  {
   "cell_type": "code",
   "execution_count": 9,
   "id": "df2a481c",
   "metadata": {},
   "outputs": [
    {
     "data": {
      "text/plain": [
       "<BarContainer object of 2 artists>"
      ]
     },
     "execution_count": 9,
     "metadata": {},
     "output_type": "execute_result"
    },
    {
     "data": {
      "image/png": "[encoded data removed]",
      "text/plain": [
       "<Figure size 640x480 with 1 Axes>"
      ]
     },
     "metadata": {},
     "output_type": "display_data"
    }
   ],
   "source": [
    "x=data['Equipment']\n",
    "y=data['WorkHours']\n",
    "plt.bar(x,y)"
   ]
  },
  {
   "cell_type": "code",
   "execution_count": 10,
   "id": "d0696770",
   "metadata": {},
   "outputs": [
    {
     "data": {
      "text/plain": [
       "<BarContainer object of 2 artists>"
      ]
     },
     "execution_count": 10,
     "metadata": {},
     "output_type": "execute_result"
    },
    {
     "data": {
      "image/png": "[encoded data removed]",
      "text/plain": [
       "<Figure size 640x480 with 1 Axes>"
      ]
     },
     "metadata": {},
     "output_type": "display_data"
    }
   ],
   "source": [
    "z=data['FuelConsumed']\n",
    "plt.bar(x,z)"
   ]
  },
  {
   "cell_type": "code",
   "execution_count": 11,
   "id": "ab406f09",
   "metadata": {},
   "outputs": [
    {
     "data": {
      "text/plain": [
       "<BarContainer object of 2 artists>"
      ]
     },
     "execution_count": 11,
     "metadata": {},
     "output_type": "execute_result"
    },
    {
     "data": {
      "image/png": "[encoded data removed]",
      "text/plain": [
       "<Figure size 640x480 with 1 Axes>"
      ]
     },
     "metadata": {},
     "output_type": "display_data"
    }
   ],
   "source": [
    "a=data['Availability']\n",
    "plt.bar(x,a)"
   ]
  },
  {
   "cell_type": "code",
   "execution_count": 12,
   "id": "80020400",
   "metadata": {},
   "outputs": [],
   "source": [
    "df=pd.read_csv(\"MM2.csv\")"
   ]
  },
  {
   "cell_type": "code",
   "execution_count": 13,
   "id": "71e514bf",
   "metadata": {},
   "outputs": [
    {
     "data": {
      "text/html": [
       "<div>\n",
       "<style scoped>\n",
       "    .dataframe tbody tr th:only-of-type {\n",
       "        vertical-align: middle;\n",
       "    }\n",
       "\n",
       "    .dataframe tbody tr th {\n",
       "        vertical-align: top;\n",
       "    }\n",
       "\n",
       "    .dataframe thead th {\n",
       "        text-align: right;\n",
       "    }\n",
       "</style>\n",
       "<table border=\"1\" class=\"dataframe\">\n",
       "  <thead>\n",
       "    <tr style=\"text-align: right;\">\n",
       "      <th></th>\n",
       "      <th>Date</th>\n",
       "      <th>BlockID</th>\n",
       "      <th>BlastsDone</th>\n",
       "      <th>ExplosivesUsed</th>\n",
       "      <th>OverburdenRemoved</th>\n",
       "      <th>OreExtracted</th>\n",
       "    </tr>\n",
       "  </thead>\n",
       "  <tbody>\n",
       "    <tr>\n",
       "      <th>0</th>\n",
       "      <td>13-02-2023</td>\n",
       "      <td>A1east</td>\n",
       "      <td>3</td>\n",
       "      <td>4500kg ANFO</td>\n",
       "      <td>96000T OB</td>\n",
       "      <td>35800T</td>\n",
       "    </tr>\n",
       "    <tr>\n",
       "      <th>1</th>\n",
       "      <td>15-02-2023</td>\n",
       "      <td>B7south</td>\n",
       "      <td>2</td>\n",
       "      <td>2100kg Emulsion</td>\n",
       "      <td>45000T OB</td>\n",
       "      <td>18250T</td>\n",
       "    </tr>\n",
       "  </tbody>\n",
       "</table>\n",
       "</div>"
      ],
      "text/plain": [
       "         Date  BlockID  BlastsDone   ExplosivesUsed OverburdenRemoved  \\\n",
       "0  13-02-2023   A1east           3      4500kg ANFO         96000T OB   \n",
       "1  15-02-2023  B7south           2  2100kg Emulsion         45000T OB   \n",
       "\n",
       "  OreExtracted  \n",
       "0       35800T  \n",
       "1       18250T  "
      ]
     },
     "execution_count": 13,
     "metadata": {},
     "output_type": "execute_result"
    }
   ],
   "source": [
    "df"
   ]
  },
  {
   "cell_type": "code",
   "execution_count": 14,
   "id": "8821d83e",
   "metadata": {},
   "outputs": [
    {
     "name": "stderr",
     "output_type": "stream",
     "text": [
      "C:\\Users\\admin\\AppData\\Local\\Temp\\ipykernel_7656\\3522018760.py:1: UserWarning: Parsing dates in %d-%m-%Y format when dayfirst=False (the default) was specified. Pass `dayfirst=True` or specify a format to silence this warning.\n",
      "  df['Date']=pd.to_datetime(df['Date'])\n"
     ]
    }
   ],
   "source": [
    "\n",
    "df['Date']=pd.to_datetime(df['Date'])"
   ]
  },
  {
   "cell_type": "code",
   "execution_count": 15,
   "id": "08a0345e",
   "metadata": {},
   "outputs": [
    {
     "data": {
      "text/html": [
       "<div>\n",
       "<style scoped>\n",
       "    .dataframe tbody tr th:only-of-type {\n",
       "        vertical-align: middle;\n",
       "    }\n",
       "\n",
       "    .dataframe tbody tr th {\n",
       "        vertical-align: top;\n",
       "    }\n",
       "\n",
       "    .dataframe thead th {\n",
       "        text-align: right;\n",
       "    }\n",
       "</style>\n",
       "<table border=\"1\" class=\"dataframe\">\n",
       "  <thead>\n",
       "    <tr style=\"text-align: right;\">\n",
       "      <th></th>\n",
       "      <th>Date</th>\n",
       "      <th>BlockID</th>\n",
       "      <th>BlastsDone</th>\n",
       "      <th>ExplosivesUsed</th>\n",
       "      <th>OverburdenRemoved</th>\n",
       "      <th>OreExtracted</th>\n",
       "    </tr>\n",
       "  </thead>\n",
       "  <tbody>\n",
       "    <tr>\n",
       "      <th>0</th>\n",
       "      <td>2023-02-13</td>\n",
       "      <td>A1east</td>\n",
       "      <td>3</td>\n",
       "      <td>4500kg ANFO</td>\n",
       "      <td>96000T OB</td>\n",
       "      <td>35800T</td>\n",
       "    </tr>\n",
       "    <tr>\n",
       "      <th>1</th>\n",
       "      <td>2023-02-15</td>\n",
       "      <td>B7south</td>\n",
       "      <td>2</td>\n",
       "      <td>2100kg Emulsion</td>\n",
       "      <td>45000T OB</td>\n",
       "      <td>18250T</td>\n",
       "    </tr>\n",
       "  </tbody>\n",
       "</table>\n",
       "</div>"
      ],
      "text/plain": [
       "        Date  BlockID  BlastsDone   ExplosivesUsed OverburdenRemoved  \\\n",
       "0 2023-02-13   A1east           3      4500kg ANFO         96000T OB   \n",
       "1 2023-02-15  B7south           2  2100kg Emulsion         45000T OB   \n",
       "\n",
       "  OreExtracted  \n",
       "0       35800T  \n",
       "1       18250T  "
      ]
     },
     "execution_count": 15,
     "metadata": {},
     "output_type": "execute_result"
    }
   ],
   "source": [
    "df"
   ]
  },
  {
   "cell_type": "code",
   "execution_count": 16,
   "id": "eac210d7",
   "metadata": {},
   "outputs": [
    {
     "name": "stdout",
     "output_type": "stream",
     "text": [
      "<class 'pandas.core.frame.DataFrame'>\n",
      "RangeIndex: 2 entries, 0 to 1\n",
      "Data columns (total 6 columns):\n",
      " #   Column             Non-Null Count  Dtype         \n",
      "---  ------             --------------  -----         \n",
      " 0   Date               2 non-null      datetime64[ns]\n",
      " 1   BlockID            2 non-null      object        \n",
      " 2   BlastsDone         2 non-null      int64         \n",
      " 3   ExplosivesUsed     2 non-null      object        \n",
      " 4   OverburdenRemoved  2 non-null      object        \n",
      " 5   OreExtracted       2 non-null      object        \n",
      "dtypes: datetime64[ns](1), int64(1), object(4)\n",
      "memory usage: 228.0+ bytes\n"
     ]
    }
   ],
   "source": [
    "df.info()"
   ]
  },
  {
   "cell_type": "code",
   "execution_count": 17,
   "id": "65e72bad",
   "metadata": {},
   "outputs": [
    {
     "data": {
      "text/html": [
       "<div>\n",
       "<style scoped>\n",
       "    .dataframe tbody tr th:only-of-type {\n",
       "        vertical-align: middle;\n",
       "    }\n",
       "\n",
       "    .dataframe tbody tr th {\n",
       "        vertical-align: top;\n",
       "    }\n",
       "\n",
       "    .dataframe thead th {\n",
       "        text-align: right;\n",
       "    }\n",
       "</style>\n",
       "<table border=\"1\" class=\"dataframe\">\n",
       "  <thead>\n",
       "    <tr style=\"text-align: right;\">\n",
       "      <th></th>\n",
       "      <th>Date</th>\n",
       "      <th>BlastsDone</th>\n",
       "    </tr>\n",
       "  </thead>\n",
       "  <tbody>\n",
       "    <tr>\n",
       "      <th>count</th>\n",
       "      <td>2</td>\n",
       "      <td>2.000000</td>\n",
       "    </tr>\n",
       "    <tr>\n",
       "      <th>mean</th>\n",
       "      <td>2023-02-14 00:00:00</td>\n",
       "      <td>2.500000</td>\n",
       "    </tr>\n",
       "    <tr>\n",
       "      <th>min</th>\n",
       "      <td>2023-02-13 00:00:00</td>\n",
       "      <td>2.000000</td>\n",
       "    </tr>\n",
       "    <tr>\n",
       "      <th>25%</th>\n",
       "      <td>2023-02-13 12:00:00</td>\n",
       "      <td>2.250000</td>\n",
       "    </tr>\n",
       "    <tr>\n",
       "      <th>50%</th>\n",
       "      <td>2023-02-14 00:00:00</td>\n",
       "      <td>2.500000</td>\n",
       "    </tr>\n",
       "    <tr>\n",
       "      <th>75%</th>\n",
       "      <td>2023-02-14 12:00:00</td>\n",
       "      <td>2.750000</td>\n",
       "    </tr>\n",
       "    <tr>\n",
       "      <th>max</th>\n",
       "      <td>2023-02-15 00:00:00</td>\n",
       "      <td>3.000000</td>\n",
       "    </tr>\n",
       "    <tr>\n",
       "      <th>std</th>\n",
       "      <td>NaN</td>\n",
       "      <td>0.707107</td>\n",
       "    </tr>\n",
       "  </tbody>\n",
       "</table>\n",
       "</div>"
      ],
      "text/plain": [
       "                      Date  BlastsDone\n",
       "count                    2    2.000000\n",
       "mean   2023-02-14 00:00:00    2.500000\n",
       "min    2023-02-13 00:00:00    2.000000\n",
       "25%    2023-02-13 12:00:00    2.250000\n",
       "50%    2023-02-14 00:00:00    2.500000\n",
       "75%    2023-02-14 12:00:00    2.750000\n",
       "max    2023-02-15 00:00:00    3.000000\n",
       "std                    NaN    0.707107"
      ]
     },
     "execution_count": 17,
     "metadata": {},
     "output_type": "execute_result"
    }
   ],
   "source": [
    "df.describe()"
   ]
  },
  {
   "cell_type": "code",
   "execution_count": 18,
   "id": "57d553b9",
   "metadata": {},
   "outputs": [
    {
     "data": {
      "text/plain": [
       "<BarContainer object of 2 artists>"
      ]
     },
     "execution_count": 18,
     "metadata": {},
     "output_type": "execute_result"
    },
    {
     "data": {
      "image/png": "[encoded data removed]",
      "text/plain": [
       "<Figure size 640x480 with 1 Axes>"
      ]
     },
     "metadata": {},
     "output_type": "display_data"
    }
   ],
   "source": [
    "x=df['Date']\n",
    "y=df['BlastsDone']\n",
    "plt.bar(x,y)"
   ]
  },
  {
   "cell_type": "code",
   "execution_count": 19,
   "id": "561efd4e",
   "metadata": {},
   "outputs": [
    {
     "data": {
      "text/plain": [
       "<BarContainer object of 2 artists>"
      ]
     },
     "execution_count": 19,
     "metadata": {},
     "output_type": "execute_result"
    },
    {
     "data": {
      "image/png": "[encoded data removed]",
      "text/plain": [
       "<Figure size 640x480 with 1 Axes>"
      ]
     },
     "metadata": {},
     "output_type": "display_data"
    }
   ],
   "source": [
    "x=df['ExplosivesUsed']\n",
    "y=df['BlastsDone']\n",
    "plt.bar(x,y)"
   ]
  },
  {
   "cell_type": "code",
   "execution_count": 25,
   "id": "24e76b41",
   "metadata": {},
   "outputs": [],
   "source": [
    "a=pd.read_csv(\"MM3.csv\")"
   ]
  },
  {
   "cell_type": "code",
   "execution_count": 27,
   "id": "6d60160d",
   "metadata": {},
   "outputs": [
    {
     "data": {
      "text/html": [
       "<div>\n",
       "<style scoped>\n",
       "    .dataframe tbody tr th:only-of-type {\n",
       "        vertical-align: middle;\n",
       "    }\n",
       "\n",
       "    .dataframe tbody tr th {\n",
       "        vertical-align: top;\n",
       "    }\n",
       "\n",
       "    .dataframe thead th {\n",
       "        text-align: right;\n",
       "    }\n",
       "</style>\n",
       "<table border=\"1\" class=\"dataframe\">\n",
       "  <thead>\n",
       "    <tr style=\"text-align: right;\">\n",
       "      <th></th>\n",
       "      <th>Mine</th>\n",
       "      <th>Equipment</th>\n",
       "      <th>Material</th>\n",
       "      <th>TotalOre</th>\n",
       "      <th>AvgGrade</th>\n",
       "      <th>TotalWaste</th>\n",
       "      <th>StrippingRatio</th>\n",
       "    </tr>\n",
       "  </thead>\n",
       "  <tbody>\n",
       "    <tr>\n",
       "      <th>0</th>\n",
       "      <td>UtkalZinc</td>\n",
       "      <td>Blackhoe</td>\n",
       "      <td>Zinc Ore</td>\n",
       "      <td>358T</td>\n",
       "      <td>7.80%</td>\n",
       "      <td>74T</td>\n",
       "      <td>0.21</td>\n",
       "    </tr>\n",
       "    <tr>\n",
       "      <th>1</th>\n",
       "      <td>GeothMinerials</td>\n",
       "      <td>Scrapper</td>\n",
       "      <td>IronOre</td>\n",
       "      <td>1257T</td>\n",
       "      <td>62%</td>\n",
       "      <td>201T</td>\n",
       "      <td>0.16</td>\n",
       "    </tr>\n",
       "  </tbody>\n",
       "</table>\n",
       "</div>"
      ],
      "text/plain": [
       "             Mine Equipment  Material TotalOre AvgGrade TotalWaste  \\\n",
       "0       UtkalZinc  Blackhoe  Zinc Ore     358T    7.80%        74T   \n",
       "1  GeothMinerials  Scrapper   IronOre    1257T      62%       201T   \n",
       "\n",
       "   StrippingRatio  \n",
       "0            0.21  \n",
       "1            0.16  "
      ]
     },
     "execution_count": 27,
     "metadata": {},
     "output_type": "execute_result"
    }
   ],
   "source": [
    "a"
   ]
  },
  {
   "cell_type": "code",
   "execution_count": 28,
   "id": "80d2ab33",
   "metadata": {},
   "outputs": [
    {
     "name": "stdout",
     "output_type": "stream",
     "text": [
      "<class 'pandas.core.frame.DataFrame'>\n",
      "RangeIndex: 2 entries, 0 to 1\n",
      "Data columns (total 7 columns):\n",
      " #   Column          Non-Null Count  Dtype  \n",
      "---  ------          --------------  -----  \n",
      " 0   Mine            2 non-null      object \n",
      " 1   Equipment       2 non-null      object \n",
      " 2   Material        2 non-null      object \n",
      " 3   TotalOre        2 non-null      object \n",
      " 4   AvgGrade        2 non-null      object \n",
      " 5   TotalWaste      2 non-null      object \n",
      " 6   StrippingRatio  2 non-null      float64\n",
      "dtypes: float64(1), object(6)\n",
      "memory usage: 244.0+ bytes\n"
     ]
    }
   ],
   "source": [
    "a.info()"
   ]
  },
  {
   "cell_type": "raw",
   "id": "4babddf1",
   "metadata": {},
   "source": []
  },
  {
   "cell_type": "code",
   "execution_count": 29,
   "id": "6660a1bb",
   "metadata": {},
   "outputs": [
    {
     "data": {
      "text/html": [
       "<div>\n",
       "<style scoped>\n",
       "    .dataframe tbody tr th:only-of-type {\n",
       "        vertical-align: middle;\n",
       "    }\n",
       "\n",
       "    .dataframe tbody tr th {\n",
       "        vertical-align: top;\n",
       "    }\n",
       "\n",
       "    .dataframe thead th {\n",
       "        text-align: right;\n",
       "    }\n",
       "</style>\n",
       "<table border=\"1\" class=\"dataframe\">\n",
       "  <thead>\n",
       "    <tr style=\"text-align: right;\">\n",
       "      <th></th>\n",
       "      <th>StrippingRatio</th>\n",
       "    </tr>\n",
       "  </thead>\n",
       "  <tbody>\n",
       "    <tr>\n",
       "      <th>count</th>\n",
       "      <td>2.000000</td>\n",
       "    </tr>\n",
       "    <tr>\n",
       "      <th>mean</th>\n",
       "      <td>0.185000</td>\n",
       "    </tr>\n",
       "    <tr>\n",
       "      <th>std</th>\n",
       "      <td>0.035355</td>\n",
       "    </tr>\n",
       "    <tr>\n",
       "      <th>min</th>\n",
       "      <td>0.160000</td>\n",
       "    </tr>\n",
       "    <tr>\n",
       "      <th>25%</th>\n",
       "      <td>0.172500</td>\n",
       "    </tr>\n",
       "    <tr>\n",
       "      <th>50%</th>\n",
       "      <td>0.185000</td>\n",
       "    </tr>\n",
       "    <tr>\n",
       "      <th>75%</th>\n",
       "      <td>0.197500</td>\n",
       "    </tr>\n",
       "    <tr>\n",
       "      <th>max</th>\n",
       "      <td>0.210000</td>\n",
       "    </tr>\n",
       "  </tbody>\n",
       "</table>\n",
       "</div>"
      ],
      "text/plain": [
       "       StrippingRatio\n",
       "count        2.000000\n",
       "mean         0.185000\n",
       "std          0.035355\n",
       "min          0.160000\n",
       "25%          0.172500\n",
       "50%          0.185000\n",
       "75%          0.197500\n",
       "max          0.210000"
      ]
     },
     "execution_count": 29,
     "metadata": {},
     "output_type": "execute_result"
    }
   ],
   "source": [
    "a.describe()"
   ]
  },
  {
   "cell_type": "code",
   "execution_count": 30,
   "id": "9cd4cba6",
   "metadata": {},
   "outputs": [
    {
     "data": {
      "text/plain": [
       "<BarContainer object of 2 artists>"
      ]
     },
     "execution_count": 30,
     "metadata": {},
     "output_type": "execute_result"
    },
    {
     "data": {
      "image/png": "[encoded data removed]",
      "text/plain": [
       "<Figure size 640x480 with 1 Axes>"
      ]
     },
     "metadata": {},
     "output_type": "display_data"
    }
   ],
   "source": [
    "x=a['Equipment']\n",
    "y=a['TotalOre']\n",
    "plt.bar(x,y)"
   ]
  },
  {
   "cell_type": "code",
   "execution_count": 31,
   "id": "e9f00d53",
   "metadata": {},
   "outputs": [
    {
     "data": {
      "text/plain": [
       "<BarContainer object of 2 artists>"
      ]
     },
     "execution_count": 31,
     "metadata": {},
     "output_type": "execute_result"
    },
    {
     "data": {
      "image/png": "[encoded data removed]",
      "text/plain": [
       "<Figure size 640x480 with 1 Axes>"
      ]
     },
     "metadata": {},
     "output_type": "display_data"
    }
   ],
   "source": [
    "x=a['Equipment']\n",
    "y=a['StrippingRatio']\n",
    "plt.bar(x,y)"
   ]
  },
  {
   "cell_type": "code",
   "execution_count": 34,
   "id": "ee11459f",
   "metadata": {},
   "outputs": [],
   "source": [
    "m4=pd.read_csv(\"mm4.csv\")"
   ]
  },
  {
   "cell_type": "code",
   "execution_count": 35,
   "id": "99919087",
   "metadata": {},
   "outputs": [
    {
     "data": {
      "text/html": [
       "<div>\n",
       "<style scoped>\n",
       "    .dataframe tbody tr th:only-of-type {\n",
       "        vertical-align: middle;\n",
       "    }\n",
       "\n",
       "    .dataframe tbody tr th {\n",
       "        vertical-align: top;\n",
       "    }\n",
       "\n",
       "    .dataframe thead th {\n",
       "        text-align: right;\n",
       "    }\n",
       "</style>\n",
       "<table border=\"1\" class=\"dataframe\">\n",
       "  <thead>\n",
       "    <tr style=\"text-align: right;\">\n",
       "      <th></th>\n",
       "      <th>Equipment</th>\n",
       "      <th>Type</th>\n",
       "      <th>Utilization</th>\n",
       "      <th>Operator</th>\n",
       "      <th>FuelConsumed</th>\n",
       "      <th>DistanceTravelled</th>\n",
       "      <th>MaterialMoved</th>\n",
       "    </tr>\n",
       "  </thead>\n",
       "  <tbody>\n",
       "    <tr>\n",
       "      <th>0</th>\n",
       "      <td>Truck1</td>\n",
       "      <td>CAT785C</td>\n",
       "      <td>75%</td>\n",
       "      <td>Rohit Sharma</td>\n",
       "      <td>210</td>\n",
       "      <td>800</td>\n",
       "      <td>1900</td>\n",
       "    </tr>\n",
       "    <tr>\n",
       "      <th>1</th>\n",
       "      <td>Truck2</td>\n",
       "      <td>Komatsu 860E</td>\n",
       "      <td>58%</td>\n",
       "      <td>Nisha Yadav</td>\n",
       "      <td>160</td>\n",
       "      <td>560</td>\n",
       "      <td>1250</td>\n",
       "    </tr>\n",
       "  </tbody>\n",
       "</table>\n",
       "</div>"
      ],
      "text/plain": [
       "  Equipment          Type Utilization      Operator  FuelConsumed  \\\n",
       "0    Truck1       CAT785C         75%  Rohit Sharma           210   \n",
       "1    Truck2  Komatsu 860E         58%   Nisha Yadav           160   \n",
       "\n",
       "   DistanceTravelled  MaterialMoved  \n",
       "0                800           1900  \n",
       "1                560           1250  "
      ]
     },
     "execution_count": 35,
     "metadata": {},
     "output_type": "execute_result"
    }
   ],
   "source": [
    "m4"
   ]
  },
  {
   "cell_type": "code",
   "execution_count": 36,
   "id": "fe99f4c0",
   "metadata": {},
   "outputs": [
    {
     "name": "stdout",
     "output_type": "stream",
     "text": [
      "<class 'pandas.core.frame.DataFrame'>\n",
      "RangeIndex: 2 entries, 0 to 1\n",
      "Data columns (total 7 columns):\n",
      " #   Column             Non-Null Count  Dtype \n",
      "---  ------             --------------  ----- \n",
      " 0   Equipment          2 non-null      object\n",
      " 1   Type               2 non-null      object\n",
      " 2   Utilization        2 non-null      object\n",
      " 3   Operator           2 non-null      object\n",
      " 4   FuelConsumed       2 non-null      int64 \n",
      " 5   DistanceTravelled  2 non-null      int64 \n",
      " 6   MaterialMoved      2 non-null      int64 \n",
      "dtypes: int64(3), object(4)\n",
      "memory usage: 244.0+ bytes\n"
     ]
    }
   ],
   "source": [
    "m4.info()"
   ]
  },
  {
   "cell_type": "code",
   "execution_count": 37,
   "id": "e9389df5",
   "metadata": {},
   "outputs": [
    {
     "data": {
      "text/html": [
       "<div>\n",
       "<style scoped>\n",
       "    .dataframe tbody tr th:only-of-type {\n",
       "        vertical-align: middle;\n",
       "    }\n",
       "\n",
       "    .dataframe tbody tr th {\n",
       "        vertical-align: top;\n",
       "    }\n",
       "\n",
       "    .dataframe thead th {\n",
       "        text-align: right;\n",
       "    }\n",
       "</style>\n",
       "<table border=\"1\" class=\"dataframe\">\n",
       "  <thead>\n",
       "    <tr style=\"text-align: right;\">\n",
       "      <th></th>\n",
       "      <th>FuelConsumed</th>\n",
       "      <th>DistanceTravelled</th>\n",
       "      <th>MaterialMoved</th>\n",
       "    </tr>\n",
       "  </thead>\n",
       "  <tbody>\n",
       "    <tr>\n",
       "      <th>count</th>\n",
       "      <td>2.000000</td>\n",
       "      <td>2.000000</td>\n",
       "      <td>2.000000</td>\n",
       "    </tr>\n",
       "    <tr>\n",
       "      <th>mean</th>\n",
       "      <td>185.000000</td>\n",
       "      <td>680.000000</td>\n",
       "      <td>1575.000000</td>\n",
       "    </tr>\n",
       "    <tr>\n",
       "      <th>std</th>\n",
       "      <td>35.355339</td>\n",
       "      <td>169.705627</td>\n",
       "      <td>459.619408</td>\n",
       "    </tr>\n",
       "    <tr>\n",
       "      <th>min</th>\n",
       "      <td>160.000000</td>\n",
       "      <td>560.000000</td>\n",
       "      <td>1250.000000</td>\n",
       "    </tr>\n",
       "    <tr>\n",
       "      <th>25%</th>\n",
       "      <td>172.500000</td>\n",
       "      <td>620.000000</td>\n",
       "      <td>1412.500000</td>\n",
       "    </tr>\n",
       "    <tr>\n",
       "      <th>50%</th>\n",
       "      <td>185.000000</td>\n",
       "      <td>680.000000</td>\n",
       "      <td>1575.000000</td>\n",
       "    </tr>\n",
       "    <tr>\n",
       "      <th>75%</th>\n",
       "      <td>197.500000</td>\n",
       "      <td>740.000000</td>\n",
       "      <td>1737.500000</td>\n",
       "    </tr>\n",
       "    <tr>\n",
       "      <th>max</th>\n",
       "      <td>210.000000</td>\n",
       "      <td>800.000000</td>\n",
       "      <td>1900.000000</td>\n",
       "    </tr>\n",
       "  </tbody>\n",
       "</table>\n",
       "</div>"
      ],
      "text/plain": [
       "       FuelConsumed  DistanceTravelled  MaterialMoved\n",
       "count      2.000000           2.000000       2.000000\n",
       "mean     185.000000         680.000000    1575.000000\n",
       "std       35.355339         169.705627     459.619408\n",
       "min      160.000000         560.000000    1250.000000\n",
       "25%      172.500000         620.000000    1412.500000\n",
       "50%      185.000000         680.000000    1575.000000\n",
       "75%      197.500000         740.000000    1737.500000\n",
       "max      210.000000         800.000000    1900.000000"
      ]
     },
     "execution_count": 37,
     "metadata": {},
     "output_type": "execute_result"
    }
   ],
   "source": [
    "m4.describe()"
   ]
  },
  {
   "cell_type": "code",
   "execution_count": 38,
   "id": "f2bb9b3e",
   "metadata": {},
   "outputs": [
    {
     "data": {
      "text/plain": [
       "<BarContainer object of 2 artists>"
      ]
     },
     "execution_count": 38,
     "metadata": {},
     "output_type": "execute_result"
    },
    {
     "data": {
      "image/png": "[encoded data removed]",
      "text/plain": [
       "<Figure size 640x480 with 1 Axes>"
      ]
     },
     "metadata": {},
     "output_type": "display_data"
    }
   ],
   "source": [
    "x=m4['Equipment']\n",
    "y=m4['FuelConsumed']\n",
    "plt.bar(x,y)"
   ]
  },
  {
   "cell_type": "code",
   "execution_count": 39,
   "id": "55ddd0cc",
   "metadata": {},
   "outputs": [
    {
     "data": {
      "text/plain": [
       "<BarContainer object of 2 artists>"
      ]
     },
     "execution_count": 39,
     "metadata": {},
     "output_type": "execute_result"
    },
    {
     "data": {
      "image/png": "[encoded data removed]",
      "text/plain": [
       "<Figure size 640x480 with 1 Axes>"
      ]
     },
     "metadata": {},
     "output_type": "display_data"
    }
   ],
   "source": [
    "x=m4['Equipment']\n",
    "y=m4['DistanceTravelled']\n",
    "plt.bar(x,y)"
   ]
  },
  {
   "cell_type": "code",
   "execution_count": 40,
   "id": "34a909c7",
   "metadata": {},
   "outputs": [
    {
     "data": {
      "text/plain": [
       "<BarContainer object of 2 artists>"
      ]
     },
     "execution_count": 40,
     "metadata": {},
     "output_type": "execute_result"
    },
    {
     "data": {
      "image/png": "[encoded data removed]",
      "text/plain": [
       "<Figure size 640x480 with 1 Axes>"
      ]
     },
     "metadata": {},
     "output_type": "display_data"
    }
   ],
   "source": [
    "x=m4['Equipment']\n",
    "y=m4['MaterialMoved']\n",
    "plt.bar(x,y)"
   ]
  },
  {
   "cell_type": "code",
   "execution_count": null,
   "id": "4b2f52e3",
   "metadata": {},
   "outputs": [],
   "source": []
  },
  {
   "cell_type": "code",
   "execution_count": 41,
   "id": "f4691f97",
   "metadata": {},
   "outputs": [],
   "source": [
    "m5=pd.read_csv(\"MM6.csv\")"
   ]
  },
  {
   "cell_type": "code",
   "execution_count": 42,
   "id": "6b681479",
   "metadata": {},
   "outputs": [
    {
     "data": {
      "text/html": [
       "<div>\n",
       "<style scoped>\n",
       "    .dataframe tbody tr th:only-of-type {\n",
       "        vertical-align: middle;\n",
       "    }\n",
       "\n",
       "    .dataframe tbody tr th {\n",
       "        vertical-align: top;\n",
       "    }\n",
       "\n",
       "    .dataframe thead th {\n",
       "        text-align: right;\n",
       "    }\n",
       "</style>\n",
       "<table border=\"1\" class=\"dataframe\">\n",
       "  <thead>\n",
       "    <tr style=\"text-align: right;\">\n",
       "      <th></th>\n",
       "      <th>Mine</th>\n",
       "      <th>EquipmentDesignation</th>\n",
       "      <th>EquipmentCategory</th>\n",
       "      <th>Material</th>\n",
       "      <th>AvgUtilizationPCT</th>\n",
       "      <th>BreakDownHours</th>\n",
       "      <th>Operator</th>\n",
       "    </tr>\n",
       "  </thead>\n",
       "  <tbody>\n",
       "    <tr>\n",
       "      <th>0</th>\n",
       "      <td>Maharastra minerials</td>\n",
       "      <td>EXV323</td>\n",
       "      <td>Excavator</td>\n",
       "      <td>Coal</td>\n",
       "      <td>63%</td>\n",
       "      <td>3</td>\n",
       "      <td>Amar Patel</td>\n",
       "    </tr>\n",
       "    <tr>\n",
       "      <th>1</th>\n",
       "      <td>Maharastra minerials</td>\n",
       "      <td>DT452</td>\n",
       "      <td>35T dump truck</td>\n",
       "      <td>Soil</td>\n",
       "      <td>78%</td>\n",
       "      <td>0</td>\n",
       "      <td>Reena</td>\n",
       "    </tr>\n",
       "  </tbody>\n",
       "</table>\n",
       "</div>"
      ],
      "text/plain": [
       "                   Mine EquipmentDesignation EquipmentCategory Material  \\\n",
       "0  Maharastra minerials               EXV323         Excavator     Coal   \n",
       "1  Maharastra minerials                DT452    35T dump truck     Soil   \n",
       "\n",
       "  AvgUtilizationPCT  BreakDownHours    Operator  \n",
       "0               63%               3  Amar Patel  \n",
       "1               78%               0       Reena  "
      ]
     },
     "execution_count": 42,
     "metadata": {},
     "output_type": "execute_result"
    }
   ],
   "source": [
    "m5"
   ]
  },
  {
   "cell_type": "code",
   "execution_count": 43,
   "id": "e5d8642a",
   "metadata": {},
   "outputs": [
    {
     "name": "stdout",
     "output_type": "stream",
     "text": [
      "<class 'pandas.core.frame.DataFrame'>\n",
      "RangeIndex: 2 entries, 0 to 1\n",
      "Data columns (total 7 columns):\n",
      " #   Column                Non-Null Count  Dtype \n",
      "---  ------                --------------  ----- \n",
      " 0   Mine                  2 non-null      object\n",
      " 1   EquipmentDesignation  2 non-null      object\n",
      " 2   EquipmentCategory     2 non-null      object\n",
      " 3   Material              2 non-null      object\n",
      " 4   AvgUtilizationPCT     2 non-null      object\n",
      " 5   BreakDownHours        2 non-null      int64 \n",
      " 6   Operator              2 non-null      object\n",
      "dtypes: int64(1), object(6)\n",
      "memory usage: 244.0+ bytes\n"
     ]
    }
   ],
   "source": [
    "m5.info()"
   ]
  },
  {
   "cell_type": "code",
   "execution_count": 44,
   "id": "d0c469ba",
   "metadata": {},
   "outputs": [
    {
     "data": {
      "text/html": [
       "<div>\n",
       "<style scoped>\n",
       "    .dataframe tbody tr th:only-of-type {\n",
       "        vertical-align: middle;\n",
       "    }\n",
       "\n",
       "    .dataframe tbody tr th {\n",
       "        vertical-align: top;\n",
       "    }\n",
       "\n",
       "    .dataframe thead th {\n",
       "        text-align: right;\n",
       "    }\n",
       "</style>\n",
       "<table border=\"1\" class=\"dataframe\">\n",
       "  <thead>\n",
       "    <tr style=\"text-align: right;\">\n",
       "      <th></th>\n",
       "      <th>BreakDownHours</th>\n",
       "    </tr>\n",
       "  </thead>\n",
       "  <tbody>\n",
       "    <tr>\n",
       "      <th>count</th>\n",
       "      <td>2.00000</td>\n",
       "    </tr>\n",
       "    <tr>\n",
       "      <th>mean</th>\n",
       "      <td>1.50000</td>\n",
       "    </tr>\n",
       "    <tr>\n",
       "      <th>std</th>\n",
       "      <td>2.12132</td>\n",
       "    </tr>\n",
       "    <tr>\n",
       "      <th>min</th>\n",
       "      <td>0.00000</td>\n",
       "    </tr>\n",
       "    <tr>\n",
       "      <th>25%</th>\n",
       "      <td>0.75000</td>\n",
       "    </tr>\n",
       "    <tr>\n",
       "      <th>50%</th>\n",
       "      <td>1.50000</td>\n",
       "    </tr>\n",
       "    <tr>\n",
       "      <th>75%</th>\n",
       "      <td>2.25000</td>\n",
       "    </tr>\n",
       "    <tr>\n",
       "      <th>max</th>\n",
       "      <td>3.00000</td>\n",
       "    </tr>\n",
       "  </tbody>\n",
       "</table>\n",
       "</div>"
      ],
      "text/plain": [
       "       BreakDownHours\n",
       "count         2.00000\n",
       "mean          1.50000\n",
       "std           2.12132\n",
       "min           0.00000\n",
       "25%           0.75000\n",
       "50%           1.50000\n",
       "75%           2.25000\n",
       "max           3.00000"
      ]
     },
     "execution_count": 44,
     "metadata": {},
     "output_type": "execute_result"
    }
   ],
   "source": [
    "m5.describe()"
   ]
  },
  {
   "cell_type": "code",
   "execution_count": 45,
   "id": "a23dc569",
   "metadata": {},
   "outputs": [
    {
     "data": {
      "text/plain": [
       "<BarContainer object of 2 artists>"
      ]
     },
     "execution_count": 45,
     "metadata": {},
     "output_type": "execute_result"
    },
    {
     "data": {
      "image/png": "[encoded data removed]",
      "text/plain": [
       "<Figure size 640x480 with 1 Axes>"
      ]
     },
     "metadata": {},
     "output_type": "display_data"
    }
   ],
   "source": [
    "x=m5['EquipmentCategory']\n",
    "y=m5['BreakDownHours']\n",
    "plt.bar(x,y)"
   ]
  },
  {
   "cell_type": "code",
   "execution_count": null,
   "id": "3b1252dd",
   "metadata": {},
   "outputs": [],
   "source": []
  },
  {
   "cell_type": "code",
   "execution_count": 55,
   "id": "8ba431fe",
   "metadata": {},
   "outputs": [],
   "source": [
    "m7=pd.read_csv(\"MM7.csv\")"
   ]
  },
  {
   "cell_type": "code",
   "execution_count": 56,
   "id": "7affa9a6",
   "metadata": {},
   "outputs": [
    {
     "data": {
      "text/html": [
       "<div>\n",
       "<style scoped>\n",
       "    .dataframe tbody tr th:only-of-type {\n",
       "        vertical-align: middle;\n",
       "    }\n",
       "\n",
       "    .dataframe tbody tr th {\n",
       "        vertical-align: top;\n",
       "    }\n",
       "\n",
       "    .dataframe thead th {\n",
       "        text-align: right;\n",
       "    }\n",
       "</style>\n",
       "<table border=\"1\" class=\"dataframe\">\n",
       "  <thead>\n",
       "    <tr style=\"text-align: right;\">\n",
       "      <th></th>\n",
       "      <th>ReportDate</th>\n",
       "      <th>HeavyEquipment</th>\n",
       "      <th>Operator</th>\n",
       "      <th>MaterialType</th>\n",
       "      <th>NoOfLoads</th>\n",
       "      <th>AvgLoadWeight</th>\n",
       "      <th>TotalWeightMaterialMoved</th>\n",
       "    </tr>\n",
       "  </thead>\n",
       "  <tbody>\n",
       "    <tr>\n",
       "      <th>0</th>\n",
       "      <td>12/2/2023</td>\n",
       "      <td>PC200 CAT Excavator</td>\n",
       "      <td>Rahul</td>\n",
       "      <td>Ironore</td>\n",
       "      <td>105</td>\n",
       "      <td>12500</td>\n",
       "      <td>1312500</td>\n",
       "    </tr>\n",
       "    <tr>\n",
       "      <th>1</th>\n",
       "      <td>15-02-2023</td>\n",
       "      <td>40T CAT Dump Truck</td>\n",
       "      <td>Deepali</td>\n",
       "      <td>Ironore</td>\n",
       "      <td>68</td>\n",
       "      <td>12200</td>\n",
       "      <td>821600</td>\n",
       "    </tr>\n",
       "  </tbody>\n",
       "</table>\n",
       "</div>"
      ],
      "text/plain": [
       "   ReportDate       HeavyEquipment Operator MaterialType  NoOfLoads  \\\n",
       "0   12/2/2023  PC200 CAT Excavator    Rahul      Ironore        105   \n",
       "1  15-02-2023   40T CAT Dump Truck  Deepali      Ironore         68   \n",
       "\n",
       "   AvgLoadWeight  TotalWeightMaterialMoved  \n",
       "0          12500                   1312500  \n",
       "1          12200                    821600  "
      ]
     },
     "execution_count": 56,
     "metadata": {},
     "output_type": "execute_result"
    }
   ],
   "source": [
    "m7"
   ]
  },
  {
   "cell_type": "code",
   "execution_count": 57,
   "id": "52394520",
   "metadata": {},
   "outputs": [
    {
     "name": "stdout",
     "output_type": "stream",
     "text": [
      "<class 'pandas.core.frame.DataFrame'>\n",
      "RangeIndex: 2 entries, 0 to 1\n",
      "Data columns (total 7 columns):\n",
      " #   Column                    Non-Null Count  Dtype \n",
      "---  ------                    --------------  ----- \n",
      " 0   ReportDate                2 non-null      object\n",
      " 1   HeavyEquipment            2 non-null      object\n",
      " 2   Operator                  2 non-null      object\n",
      " 3   MaterialType              2 non-null      object\n",
      " 4   NoOfLoads                 2 non-null      int64 \n",
      " 5   AvgLoadWeight             2 non-null      int64 \n",
      " 6   TotalWeightMaterialMoved  2 non-null      int64 \n",
      "dtypes: int64(3), object(4)\n",
      "memory usage: 244.0+ bytes\n"
     ]
    }
   ],
   "source": [
    "m7.info()"
   ]
  },
  {
   "cell_type": "code",
   "execution_count": 58,
   "id": "8640612b",
   "metadata": {},
   "outputs": [
    {
     "data": {
      "text/html": [
       "<div>\n",
       "<style scoped>\n",
       "    .dataframe tbody tr th:only-of-type {\n",
       "        vertical-align: middle;\n",
       "    }\n",
       "\n",
       "    .dataframe tbody tr th {\n",
       "        vertical-align: top;\n",
       "    }\n",
       "\n",
       "    .dataframe thead th {\n",
       "        text-align: right;\n",
       "    }\n",
       "</style>\n",
       "<table border=\"1\" class=\"dataframe\">\n",
       "  <thead>\n",
       "    <tr style=\"text-align: right;\">\n",
       "      <th></th>\n",
       "      <th>NoOfLoads</th>\n",
       "      <th>AvgLoadWeight</th>\n",
       "      <th>TotalWeightMaterialMoved</th>\n",
       "    </tr>\n",
       "  </thead>\n",
       "  <tbody>\n",
       "    <tr>\n",
       "      <th>count</th>\n",
       "      <td>2.000000</td>\n",
       "      <td>2.000000</td>\n",
       "      <td>2.000000e+00</td>\n",
       "    </tr>\n",
       "    <tr>\n",
       "      <th>mean</th>\n",
       "      <td>86.500000</td>\n",
       "      <td>12350.000000</td>\n",
       "      <td>1.067050e+06</td>\n",
       "    </tr>\n",
       "    <tr>\n",
       "      <th>std</th>\n",
       "      <td>26.162951</td>\n",
       "      <td>212.132034</td>\n",
       "      <td>3.471187e+05</td>\n",
       "    </tr>\n",
       "    <tr>\n",
       "      <th>min</th>\n",
       "      <td>68.000000</td>\n",
       "      <td>12200.000000</td>\n",
       "      <td>8.216000e+05</td>\n",
       "    </tr>\n",
       "    <tr>\n",
       "      <th>25%</th>\n",
       "      <td>77.250000</td>\n",
       "      <td>12275.000000</td>\n",
       "      <td>9.443250e+05</td>\n",
       "    </tr>\n",
       "    <tr>\n",
       "      <th>50%</th>\n",
       "      <td>86.500000</td>\n",
       "      <td>12350.000000</td>\n",
       "      <td>1.067050e+06</td>\n",
       "    </tr>\n",
       "    <tr>\n",
       "      <th>75%</th>\n",
       "      <td>95.750000</td>\n",
       "      <td>12425.000000</td>\n",
       "      <td>1.189775e+06</td>\n",
       "    </tr>\n",
       "    <tr>\n",
       "      <th>max</th>\n",
       "      <td>105.000000</td>\n",
       "      <td>12500.000000</td>\n",
       "      <td>1.312500e+06</td>\n",
       "    </tr>\n",
       "  </tbody>\n",
       "</table>\n",
       "</div>"
      ],
      "text/plain": [
       "        NoOfLoads  AvgLoadWeight  TotalWeightMaterialMoved\n",
       "count    2.000000       2.000000              2.000000e+00\n",
       "mean    86.500000   12350.000000              1.067050e+06\n",
       "std     26.162951     212.132034              3.471187e+05\n",
       "min     68.000000   12200.000000              8.216000e+05\n",
       "25%     77.250000   12275.000000              9.443250e+05\n",
       "50%     86.500000   12350.000000              1.067050e+06\n",
       "75%     95.750000   12425.000000              1.189775e+06\n",
       "max    105.000000   12500.000000              1.312500e+06"
      ]
     },
     "execution_count": 58,
     "metadata": {},
     "output_type": "execute_result"
    }
   ],
   "source": [
    "m7.describe()"
   ]
  },
  {
   "cell_type": "code",
   "execution_count": 50,
   "id": "94b50278",
   "metadata": {},
   "outputs": [
    {
     "data": {
      "text/plain": [
       "<BarContainer object of 2 artists>"
      ]
     },
     "execution_count": 50,
     "metadata": {},
     "output_type": "execute_result"
    },
    {
     "data": {
      "image/png": "[encoded data removed]",
      "text/plain": [
       "<Figure size 640x480 with 1 Axes>"
      ]
     },
     "metadata": {},
     "output_type": "display_data"
    }
   ],
   "source": [
    "x=m7['HeavyEquipment']\n",
    "y=m7['NoOfLoads']\n",
    "plt.bar(x,y)"
   ]
  },
  {
   "cell_type": "code",
   "execution_count": 59,
   "id": "8b075bac",
   "metadata": {},
   "outputs": [
    {
     "data": {
      "text/plain": [
       "<BarContainer object of 2 artists>"
      ]
     },
     "execution_count": 59,
     "metadata": {},
     "output_type": "execute_result"
    },
    {
     "data": {
      "image/png": "[encoded data removed]",
      "text/plain": [
       "<Figure size 640x480 with 1 Axes>"
      ]
     },
     "metadata": {},
     "output_type": "display_data"
    }
   ],
   "source": [
    "x=m7['HeavyEquipment']\n",
    "y=m7['AvgLoadWeight']\n",
    "plt.bar(x,y)"
   ]
  },
  {
   "cell_type": "code",
   "execution_count": 60,
   "id": "69b37e05",
   "metadata": {},
   "outputs": [
    {
     "data": {
      "text/plain": [
       "<BarContainer object of 2 artists>"
      ]
     },
     "execution_count": 60,
     "metadata": {},
     "output_type": "execute_result"
    },
    {
     "data": {
      "image/png": "[encoded data removed]",
      "text/plain": [
       "<Figure size 640x480 with 1 Axes>"
      ]
     },
     "metadata": {},
     "output_type": "display_data"
    }
   ],
   "source": [
    "x=m7['HeavyEquipment']\n",
    "y=m7['TotalWeightMaterialMoved']\n",
    "plt.bar(x,y)"
   ]
  },
  {
   "cell_type": "code",
   "execution_count": null,
   "id": "9ff9089d",
   "metadata": {},
   "outputs": [],
   "source": []
  },
  {
   "cell_type": "code",
   "execution_count": 61,
   "id": "82b91933",
   "metadata": {},
   "outputs": [],
   "source": [
    "m8=pd.read_csv(\"mm8.csv\")"
   ]
  },
  {
   "cell_type": "code",
   "execution_count": 62,
   "id": "adeb502b",
   "metadata": {},
   "outputs": [
    {
     "data": {
      "text/html": [
       "<div>\n",
       "<style scoped>\n",
       "    .dataframe tbody tr th:only-of-type {\n",
       "        vertical-align: middle;\n",
       "    }\n",
       "\n",
       "    .dataframe tbody tr th {\n",
       "        vertical-align: top;\n",
       "    }\n",
       "\n",
       "    .dataframe thead th {\n",
       "        text-align: right;\n",
       "    }\n",
       "</style>\n",
       "<table border=\"1\" class=\"dataframe\">\n",
       "  <thead>\n",
       "    <tr style=\"text-align: right;\">\n",
       "      <th></th>\n",
       "      <th>Date</th>\n",
       "      <th>Mine</th>\n",
       "      <th>Equipment</th>\n",
       "      <th>Material</th>\n",
       "      <th>Shift</th>\n",
       "      <th>Operator</th>\n",
       "      <th>Address</th>\n",
       "      <th>Hours_Worked</th>\n",
       "      <th>Target_TPH</th>\n",
       "      <th>Actual TPH</th>\n",
       "    </tr>\n",
       "  </thead>\n",
       "  <tbody>\n",
       "    <tr>\n",
       "      <th>0</th>\n",
       "      <td>1/1/2023</td>\n",
       "      <td>Vasanth Coal Mine</td>\n",
       "      <td>Shovel1</td>\n",
       "      <td>Overburden</td>\n",
       "      <td>Day</td>\n",
       "      <td>Ramesh Patel</td>\n",
       "      <td>221B Baker street Mumbai</td>\n",
       "      <td>8</td>\n",
       "      <td>5000</td>\n",
       "      <td>4735</td>\n",
       "    </tr>\n",
       "    <tr>\n",
       "      <th>1</th>\n",
       "      <td>1/1/2023</td>\n",
       "      <td>Vasanth Coal Mine</td>\n",
       "      <td>Truck1</td>\n",
       "      <td>Coal</td>\n",
       "      <td>Day</td>\n",
       "      <td>Aditya</td>\n",
       "      <td>50Laxmi nagar hyd</td>\n",
       "      <td>8</td>\n",
       "      <td>800</td>\n",
       "      <td>725</td>\n",
       "    </tr>\n",
       "    <tr>\n",
       "      <th>2</th>\n",
       "      <td>1/2/2023</td>\n",
       "      <td>Reddy Coal Mine</td>\n",
       "      <td>Shovel1</td>\n",
       "      <td>Overburden</td>\n",
       "      <td>Night</td>\n",
       "      <td>Vijay Kumar</td>\n",
       "      <td>144 Golf club road Bangalore</td>\n",
       "      <td>8</td>\n",
       "      <td>5000</td>\n",
       "      <td>4210</td>\n",
       "    </tr>\n",
       "    <tr>\n",
       "      <th>3</th>\n",
       "      <td>1/2/2023</td>\n",
       "      <td>Reddy Coal Mine</td>\n",
       "      <td>Truck2</td>\n",
       "      <td>Coal</td>\n",
       "      <td>night</td>\n",
       "      <td>Priya Sharma</td>\n",
       "      <td>multiline delhi</td>\n",
       "      <td>8</td>\n",
       "      <td>800</td>\n",
       "      <td>855</td>\n",
       "    </tr>\n",
       "    <tr>\n",
       "      <th>4</th>\n",
       "      <td>1/5/2023</td>\n",
       "      <td>RP minerals</td>\n",
       "      <td>Dragline1</td>\n",
       "      <td>Overburden</td>\n",
       "      <td>Day</td>\n",
       "      <td>Rahul Jain</td>\n",
       "      <td>G-13 Govt Complex Jaipur</td>\n",
       "      <td>10</td>\n",
       "      <td>7000</td>\n",
       "      <td>6320</td>\n",
       "    </tr>\n",
       "    <tr>\n",
       "      <th>5</th>\n",
       "      <td>1/5/2023</td>\n",
       "      <td>RP minerals</td>\n",
       "      <td>Truck1</td>\n",
       "      <td>Coal</td>\n",
       "      <td>Day</td>\n",
       "      <td>Ankit Desai</td>\n",
       "      <td>B-302 Solaris Mulund West Mumbai</td>\n",
       "      <td>10</td>\n",
       "      <td>900</td>\n",
       "      <td>1050</td>\n",
       "    </tr>\n",
       "  </tbody>\n",
       "</table>\n",
       "</div>"
      ],
      "text/plain": [
       "       Date               Mine  Equipment    Material  Shift      Operator  \\\n",
       "0  1/1/2023  Vasanth Coal Mine    Shovel1  Overburden    Day  Ramesh Patel   \n",
       "1  1/1/2023  Vasanth Coal Mine     Truck1        Coal    Day       Aditya    \n",
       "2  1/2/2023    Reddy Coal Mine    Shovel1  Overburden  Night   Vijay Kumar   \n",
       "3  1/2/2023    Reddy Coal Mine     Truck2        Coal  night  Priya Sharma   \n",
       "4  1/5/2023        RP minerals  Dragline1  Overburden    Day    Rahul Jain   \n",
       "5  1/5/2023        RP minerals     Truck1        Coal    Day   Ankit Desai   \n",
       "\n",
       "                            Address  Hours_Worked  Target_TPH  Actual TPH  \n",
       "0          221B Baker street Mumbai             8        5000        4735  \n",
       "1                 50Laxmi nagar hyd             8         800         725  \n",
       "2      144 Golf club road Bangalore             8        5000        4210  \n",
       "3                   multiline delhi             8         800         855  \n",
       "4          G-13 Govt Complex Jaipur            10        7000        6320  \n",
       "5  B-302 Solaris Mulund West Mumbai            10         900        1050  "
      ]
     },
     "execution_count": 62,
     "metadata": {},
     "output_type": "execute_result"
    }
   ],
   "source": [
    "m8"
   ]
  },
  {
   "cell_type": "code",
   "execution_count": 63,
   "id": "659fc92a",
   "metadata": {},
   "outputs": [],
   "source": [
    "m8['Date']=pd.to_datetime(m8['Date'])"
   ]
  },
  {
   "cell_type": "code",
   "execution_count": 64,
   "id": "02d6a3a5",
   "metadata": {},
   "outputs": [
    {
     "data": {
      "text/html": [
       "<div>\n",
       "<style scoped>\n",
       "    .dataframe tbody tr th:only-of-type {\n",
       "        vertical-align: middle;\n",
       "    }\n",
       "\n",
       "    .dataframe tbody tr th {\n",
       "        vertical-align: top;\n",
       "    }\n",
       "\n",
       "    .dataframe thead th {\n",
       "        text-align: right;\n",
       "    }\n",
       "</style>\n",
       "<table border=\"1\" class=\"dataframe\">\n",
       "  <thead>\n",
       "    <tr style=\"text-align: right;\">\n",
       "      <th></th>\n",
       "      <th>Date</th>\n",
       "      <th>Mine</th>\n",
       "      <th>Equipment</th>\n",
       "      <th>Material</th>\n",
       "      <th>Shift</th>\n",
       "      <th>Operator</th>\n",
       "      <th>Address</th>\n",
       "      <th>Hours_Worked</th>\n",
       "      <th>Target_TPH</th>\n",
       "      <th>Actual TPH</th>\n",
       "    </tr>\n",
       "  </thead>\n",
       "  <tbody>\n",
       "    <tr>\n",
       "      <th>0</th>\n",
       "      <td>2023-01-01</td>\n",
       "      <td>Vasanth Coal Mine</td>\n",
       "      <td>Shovel1</td>\n",
       "      <td>Overburden</td>\n",
       "      <td>Day</td>\n",
       "      <td>Ramesh Patel</td>\n",
       "      <td>221B Baker street Mumbai</td>\n",
       "      <td>8</td>\n",
       "      <td>5000</td>\n",
       "      <td>4735</td>\n",
       "    </tr>\n",
       "    <tr>\n",
       "      <th>1</th>\n",
       "      <td>2023-01-01</td>\n",
       "      <td>Vasanth Coal Mine</td>\n",
       "      <td>Truck1</td>\n",
       "      <td>Coal</td>\n",
       "      <td>Day</td>\n",
       "      <td>Aditya</td>\n",
       "      <td>50Laxmi nagar hyd</td>\n",
       "      <td>8</td>\n",
       "      <td>800</td>\n",
       "      <td>725</td>\n",
       "    </tr>\n",
       "    <tr>\n",
       "      <th>2</th>\n",
       "      <td>2023-01-02</td>\n",
       "      <td>Reddy Coal Mine</td>\n",
       "      <td>Shovel1</td>\n",
       "      <td>Overburden</td>\n",
       "      <td>Night</td>\n",
       "      <td>Vijay Kumar</td>\n",
       "      <td>144 Golf club road Bangalore</td>\n",
       "      <td>8</td>\n",
       "      <td>5000</td>\n",
       "      <td>4210</td>\n",
       "    </tr>\n",
       "    <tr>\n",
       "      <th>3</th>\n",
       "      <td>2023-01-02</td>\n",
       "      <td>Reddy Coal Mine</td>\n",
       "      <td>Truck2</td>\n",
       "      <td>Coal</td>\n",
       "      <td>night</td>\n",
       "      <td>Priya Sharma</td>\n",
       "      <td>multiline delhi</td>\n",
       "      <td>8</td>\n",
       "      <td>800</td>\n",
       "      <td>855</td>\n",
       "    </tr>\n",
       "    <tr>\n",
       "      <th>4</th>\n",
       "      <td>2023-01-05</td>\n",
       "      <td>RP minerals</td>\n",
       "      <td>Dragline1</td>\n",
       "      <td>Overburden</td>\n",
       "      <td>Day</td>\n",
       "      <td>Rahul Jain</td>\n",
       "      <td>G-13 Govt Complex Jaipur</td>\n",
       "      <td>10</td>\n",
       "      <td>7000</td>\n",
       "      <td>6320</td>\n",
       "    </tr>\n",
       "    <tr>\n",
       "      <th>5</th>\n",
       "      <td>2023-01-05</td>\n",
       "      <td>RP minerals</td>\n",
       "      <td>Truck1</td>\n",
       "      <td>Coal</td>\n",
       "      <td>Day</td>\n",
       "      <td>Ankit Desai</td>\n",
       "      <td>B-302 Solaris Mulund West Mumbai</td>\n",
       "      <td>10</td>\n",
       "      <td>900</td>\n",
       "      <td>1050</td>\n",
       "    </tr>\n",
       "  </tbody>\n",
       "</table>\n",
       "</div>"
      ],
      "text/plain": [
       "        Date               Mine  Equipment    Material  Shift      Operator  \\\n",
       "0 2023-01-01  Vasanth Coal Mine    Shovel1  Overburden    Day  Ramesh Patel   \n",
       "1 2023-01-01  Vasanth Coal Mine     Truck1        Coal    Day       Aditya    \n",
       "2 2023-01-02    Reddy Coal Mine    Shovel1  Overburden  Night   Vijay Kumar   \n",
       "3 2023-01-02    Reddy Coal Mine     Truck2        Coal  night  Priya Sharma   \n",
       "4 2023-01-05        RP minerals  Dragline1  Overburden    Day    Rahul Jain   \n",
       "5 2023-01-05        RP minerals     Truck1        Coal    Day   Ankit Desai   \n",
       "\n",
       "                            Address  Hours_Worked  Target_TPH  Actual TPH  \n",
       "0          221B Baker street Mumbai             8        5000        4735  \n",
       "1                 50Laxmi nagar hyd             8         800         725  \n",
       "2      144 Golf club road Bangalore             8        5000        4210  \n",
       "3                   multiline delhi             8         800         855  \n",
       "4          G-13 Govt Complex Jaipur            10        7000        6320  \n",
       "5  B-302 Solaris Mulund West Mumbai            10         900        1050  "
      ]
     },
     "execution_count": 64,
     "metadata": {},
     "output_type": "execute_result"
    }
   ],
   "source": [
    "m8"
   ]
  },
  {
   "cell_type": "code",
   "execution_count": 65,
   "id": "b14bcdea",
   "metadata": {},
   "outputs": [
    {
     "name": "stdout",
     "output_type": "stream",
     "text": [
      "<class 'pandas.core.frame.DataFrame'>\n",
      "RangeIndex: 6 entries, 0 to 5\n",
      "Data columns (total 10 columns):\n",
      " #   Column        Non-Null Count  Dtype         \n",
      "---  ------        --------------  -----         \n",
      " 0   Date          6 non-null      datetime64[ns]\n",
      " 1   Mine          6 non-null      object        \n",
      " 2   Equipment     6 non-null      object        \n",
      " 3   Material      6 non-null      object        \n",
      " 4   Shift         6 non-null      object        \n",
      " 5   Operator      6 non-null      object        \n",
      " 6   Address       6 non-null      object        \n",
      " 7   Hours_Worked  6 non-null      int64         \n",
      " 8   Target_TPH    6 non-null      int64         \n",
      " 9   Actual TPH    6 non-null      int64         \n",
      "dtypes: datetime64[ns](1), int64(3), object(6)\n",
      "memory usage: 612.0+ bytes\n"
     ]
    }
   ],
   "source": [
    "m8.info()"
   ]
  },
  {
   "cell_type": "code",
   "execution_count": 66,
   "id": "669b923e",
   "metadata": {},
   "outputs": [
    {
     "data": {
      "text/html": [
       "<div>\n",
       "<style scoped>\n",
       "    .dataframe tbody tr th:only-of-type {\n",
       "        vertical-align: middle;\n",
       "    }\n",
       "\n",
       "    .dataframe tbody tr th {\n",
       "        vertical-align: top;\n",
       "    }\n",
       "\n",
       "    .dataframe thead th {\n",
       "        text-align: right;\n",
       "    }\n",
       "</style>\n",
       "<table border=\"1\" class=\"dataframe\">\n",
       "  <thead>\n",
       "    <tr style=\"text-align: right;\">\n",
       "      <th></th>\n",
       "      <th>Date</th>\n",
       "      <th>Hours_Worked</th>\n",
       "      <th>Target_TPH</th>\n",
       "      <th>Actual TPH</th>\n",
       "    </tr>\n",
       "  </thead>\n",
       "  <tbody>\n",
       "    <tr>\n",
       "      <th>count</th>\n",
       "      <td>6</td>\n",
       "      <td>6.000000</td>\n",
       "      <td>6.000000</td>\n",
       "      <td>6.000000</td>\n",
       "    </tr>\n",
       "    <tr>\n",
       "      <th>mean</th>\n",
       "      <td>2023-01-02 16:00:00</td>\n",
       "      <td>8.666667</td>\n",
       "      <td>3250.000000</td>\n",
       "      <td>2982.500000</td>\n",
       "    </tr>\n",
       "    <tr>\n",
       "      <th>min</th>\n",
       "      <td>2023-01-01 00:00:00</td>\n",
       "      <td>8.000000</td>\n",
       "      <td>800.000000</td>\n",
       "      <td>725.000000</td>\n",
       "    </tr>\n",
       "    <tr>\n",
       "      <th>25%</th>\n",
       "      <td>2023-01-01 06:00:00</td>\n",
       "      <td>8.000000</td>\n",
       "      <td>825.000000</td>\n",
       "      <td>903.750000</td>\n",
       "    </tr>\n",
       "    <tr>\n",
       "      <th>50%</th>\n",
       "      <td>2023-01-02 00:00:00</td>\n",
       "      <td>8.000000</td>\n",
       "      <td>2950.000000</td>\n",
       "      <td>2630.000000</td>\n",
       "    </tr>\n",
       "    <tr>\n",
       "      <th>75%</th>\n",
       "      <td>2023-01-04 06:00:00</td>\n",
       "      <td>9.500000</td>\n",
       "      <td>5000.000000</td>\n",
       "      <td>4603.750000</td>\n",
       "    </tr>\n",
       "    <tr>\n",
       "      <th>max</th>\n",
       "      <td>2023-01-05 00:00:00</td>\n",
       "      <td>10.000000</td>\n",
       "      <td>7000.000000</td>\n",
       "      <td>6320.000000</td>\n",
       "    </tr>\n",
       "    <tr>\n",
       "      <th>std</th>\n",
       "      <td>NaN</td>\n",
       "      <td>1.032796</td>\n",
       "      <td>2746.452257</td>\n",
       "      <td>2411.391196</td>\n",
       "    </tr>\n",
       "  </tbody>\n",
       "</table>\n",
       "</div>"
      ],
      "text/plain": [
       "                      Date  Hours_Worked   Target_TPH   Actual TPH\n",
       "count                    6      6.000000     6.000000     6.000000\n",
       "mean   2023-01-02 16:00:00      8.666667  3250.000000  2982.500000\n",
       "min    2023-01-01 00:00:00      8.000000   800.000000   725.000000\n",
       "25%    2023-01-01 06:00:00      8.000000   825.000000   903.750000\n",
       "50%    2023-01-02 00:00:00      8.000000  2950.000000  2630.000000\n",
       "75%    2023-01-04 06:00:00      9.500000  5000.000000  4603.750000\n",
       "max    2023-01-05 00:00:00     10.000000  7000.000000  6320.000000\n",
       "std                    NaN      1.032796  2746.452257  2411.391196"
      ]
     },
     "execution_count": 66,
     "metadata": {},
     "output_type": "execute_result"
    }
   ],
   "source": [
    "m8.describe()"
   ]
  },
  {
   "cell_type": "code",
   "execution_count": 67,
   "id": "6a5aca44",
   "metadata": {},
   "outputs": [
    {
     "data": {
      "text/plain": [
       "<BarContainer object of 6 artists>"
      ]
     },
     "execution_count": 67,
     "metadata": {},
     "output_type": "execute_result"
    },
    {
     "data": {
      "image/png": "[encoded data removed]",
      "text/plain": [
       "<Figure size 640x480 with 1 Axes>"
      ]
     },
     "metadata": {},
     "output_type": "display_data"
    }
   ],
   "source": [
    "x=m8['Equipment']\n",
    "y=m8['Hours_Worked']\n",
    "plt.bar(x,y)"
   ]
  },
  {
   "cell_type": "code",
   "execution_count": 68,
   "id": "bc95f845",
   "metadata": {},
   "outputs": [
    {
     "data": {
      "text/plain": [
       "<BarContainer object of 6 artists>"
      ]
     },
     "execution_count": 68,
     "metadata": {},
     "output_type": "execute_result"
    },
    {
     "data": {
      "image/png": "[encoded data removed]",
      "text/plain": [
       "<Figure size 640x480 with 1 Axes>"
      ]
     },
     "metadata": {},
     "output_type": "display_data"
    }
   ],
   "source": [
    "y=m8['Target_TPH']\n",
    "plt.bar(x,y)"
   ]
  },
  {
   "cell_type": "code",
   "execution_count": 69,
   "id": "0fdb00b4",
   "metadata": {},
   "outputs": [
    {
     "data": {
      "text/plain": [
       "<BarContainer object of 6 artists>"
      ]
     },
     "execution_count": 69,
     "metadata": {},
     "output_type": "execute_result"
    },
    {
     "data": {
      "image/png": "[encoded data removed]",
      "text/plain": [
       "<Figure size 640x480 with 1 Axes>"
      ]
     },
     "metadata": {},
     "output_type": "display_data"
    }
   ],
   "source": [
    "y=m8['Actual TPH']\n",
    "plt.bar(x,y)"
   ]
  },
  {
   "cell_type": "code",
   "execution_count": null,
   "id": "3e06417e",
   "metadata": {},
   "outputs": [],
   "source": []
  }
 ],
 "metadata": {
  "kernelspec": {
   "display_name": "Python 3 (ipykernel)",
   "language": "python",
   "name": "python3"
  },
  "language_info": {
   "codemirror_mode": {
    "name": "ipython",
    "version": 3
   },
   "file_extension": ".py",
   "mimetype": "text/x-python",
   "name": "python",
   "nbconvert_exporter": "python",
   "pygments_lexer": "ipython3",
   "version": "3.11.5"
  }
 },
 "nbformat": 4,
 "nbformat_minor": 5
}
