{
 "cells": [
  {
   "cell_type": "code",
   "execution_count": 1,
   "id": "74cbe992",
   "metadata": {
    "lines_to_next_cell": 2
   },
   "outputs": [],
   "source": [
    "\n",
    "\n",
    "import numpy as np\n",
    "import pandas as pd\n",
    "import matplotlib.pyplot as plt"
   ]
  },
  {
   "cell_type": "code",
   "execution_count": 2,
   "id": "d5bd66c1",
   "metadata": {
    "lines_to_next_cell": 2
   },
   "outputs": [],
   "source": [
    "\n",
    "\n",
    "data=pd.read_csv(\"mm.csv\")"
   ]
  },
  {
   "cell_type": "code",
   "execution_count": 3,
   "id": "cc173d72",
   "metadata": {
    "lines_to_next_cell": 2
   },
   "outputs": [
    {
     "data": {
      "text/html": [
       "<div>\n",
       "<style scoped>\n",
       "    .dataframe tbody tr th:only-of-type {\n",
       "        vertical-align: middle;\n",
       "    }\n",
       "\n",
       "    .dataframe tbody tr th {\n",
       "        vertical-align: top;\n",
       "    }\n",
       "\n",
       "    .dataframe thead th {\n",
       "        text-align: right;\n",
       "    }\n",
       "</style>\n",
       "<table border=\"1\" class=\"dataframe\">\n",
       "  <thead>\n",
       "    <tr style=\"text-align: right;\">\n",
       "      <th></th>\n",
       "      <th>Equipment</th>\n",
       "      <th>Mine</th>\n",
       "      <th>Material</th>\n",
       "      <th>ProdDate</th>\n",
       "      <th>WorkHours</th>\n",
       "      <th>FuelConsumed</th>\n",
       "      <th>Availability</th>\n",
       "    </tr>\n",
       "  </thead>\n",
       "  <tbody>\n",
       "    <tr>\n",
       "      <th>0</th>\n",
       "      <td>CAT996Loader</td>\n",
       "      <td>HZL</td>\n",
       "      <td>Zinc conc</td>\n",
       "      <td>10/2/2023</td>\n",
       "      <td>8</td>\n",
       "      <td>210</td>\n",
       "      <td>92%</td>\n",
       "    </tr>\n",
       "    <tr>\n",
       "      <th>1</th>\n",
       "      <td>Komatsu Dump Truck</td>\n",
       "      <td>Geoth</td>\n",
       "      <td>Iron Ore</td>\n",
       "      <td>13-02-2023</td>\n",
       "      <td>7</td>\n",
       "      <td>160</td>\n",
       "      <td>100%</td>\n",
       "    </tr>\n",
       "  </tbody>\n",
       "</table>\n",
       "</div>"
      ],
      "text/plain": [
       "            Equipment   Mine   Material    ProdDate  WorkHours  FuelConsumed  \\\n",
       "0        CAT996Loader    HZL  Zinc conc   10/2/2023          8           210   \n",
       "1  Komatsu Dump Truck  Geoth   Iron Ore  13-02-2023          7           160   \n",
       "\n",
       "  Availability  \n",
       "0          92%  \n",
       "1         100%  "
      ]
     },
     "execution_count": 3,
     "metadata": {},
     "output_type": "execute_result"
    }
   ],
   "source": [
    "\n",
    "\n",
    "data"
   ]
  },
  {
   "cell_type": "code",
   "execution_count": 4,
   "id": "df4ba73e",
   "metadata": {
    "lines_to_next_cell": 2
   },
   "outputs": [
    {
     "data": {
      "text/plain": [
       "(2, 7)"
      ]
     },
     "execution_count": 4,
     "metadata": {},
     "output_type": "execute_result"
    }
   ],
   "source": [
    "\n",
    "\n",
    "data.shape"
   ]
  },
  {
   "cell_type": "code",
   "execution_count": 5,
   "id": "985b4cc8",
   "metadata": {
    "lines_to_next_cell": 2
   },
   "outputs": [
    {
     "data": {
      "text/plain": [
       "14"
      ]
     },
     "execution_count": 5,
     "metadata": {},
     "output_type": "execute_result"
    }
   ],
   "source": [
    "\n",
    "\n",
    "data.size"
   ]
  },
  {
   "cell_type": "code",
   "execution_count": 6,
   "id": "13dbbc6b",
   "metadata": {
    "lines_to_next_cell": 2
   },
   "outputs": [
    {
     "name": "stdout",
     "output_type": "stream",
     "text": [
      "<class 'pandas.core.frame.DataFrame'>\n",
      "RangeIndex: 2 entries, 0 to 1\n",
      "Data columns (total 7 columns):\n",
      " #   Column        Non-Null Count  Dtype \n",
      "---  ------        --------------  ----- \n",
      " 0   Equipment     2 non-null      object\n",
      " 1   Mine          2 non-null      object\n",
      " 2   Material      2 non-null      object\n",
      " 3   ProdDate      2 non-null      object\n",
      " 4   WorkHours     2 non-null      int64 \n",
      " 5   FuelConsumed  2 non-null      int64 \n",
      " 6   Availability  2 non-null      object\n",
      "dtypes: int64(2), object(5)\n",
      "memory usage: 244.0+ bytes\n"
     ]
    }
   ],
   "source": [
    "\n",
    "\n",
    "data.info()"
   ]
  },
  {
   "cell_type": "code",
   "execution_count": 7,
   "id": "935bb5cf",
   "metadata": {
    "lines_to_next_cell": 2
   },
   "outputs": [
    {
     "data": {
      "text/html": [
       "<div>\n",
       "<style scoped>\n",
       "    .dataframe tbody tr th:only-of-type {\n",
       "        vertical-align: middle;\n",
       "    }\n",
       "\n",
       "    .dataframe tbody tr th {\n",
       "        vertical-align: top;\n",
       "    }\n",
       "\n",
       "    .dataframe thead th {\n",
       "        text-align: right;\n",
       "    }\n",
       "</style>\n",
       "<table border=\"1\" class=\"dataframe\">\n",
       "  <thead>\n",
       "    <tr style=\"text-align: right;\">\n",
       "      <th></th>\n",
       "      <th>WorkHours</th>\n",
       "      <th>FuelConsumed</th>\n",
       "    </tr>\n",
       "  </thead>\n",
       "  <tbody>\n",
       "    <tr>\n",
       "      <th>count</th>\n",
       "      <td>2.000000</td>\n",
       "      <td>2.000000</td>\n",
       "    </tr>\n",
       "    <tr>\n",
       "      <th>mean</th>\n",
       "      <td>7.500000</td>\n",
       "      <td>185.000000</td>\n",
       "    </tr>\n",
       "    <tr>\n",
       "      <th>std</th>\n",
       "      <td>0.707107</td>\n",
       "      <td>35.355339</td>\n",
       "    </tr>\n",
       "    <tr>\n",
       "      <th>min</th>\n",
       "      <td>7.000000</td>\n",
       "      <td>160.000000</td>\n",
       "    </tr>\n",
       "    <tr>\n",
       "      <th>25%</th>\n",
       "      <td>7.250000</td>\n",
       "      <td>172.500000</td>\n",
       "    </tr>\n",
       "    <tr>\n",
       "      <th>50%</th>\n",
       "      <td>7.500000</td>\n",
       "      <td>185.000000</td>\n",
       "    </tr>\n",
       "    <tr>\n",
       "      <th>75%</th>\n",
       "      <td>7.750000</td>\n",
       "      <td>197.500000</td>\n",
       "    </tr>\n",
       "    <tr>\n",
       "      <th>max</th>\n",
       "      <td>8.000000</td>\n",
       "      <td>210.000000</td>\n",
       "    </tr>\n",
       "  </tbody>\n",
       "</table>\n",
       "</div>"
      ],
      "text/plain": [
       "       WorkHours  FuelConsumed\n",
       "count   2.000000      2.000000\n",
       "mean    7.500000    185.000000\n",
       "std     0.707107     35.355339\n",
       "min     7.000000    160.000000\n",
       "25%     7.250000    172.500000\n",
       "50%     7.500000    185.000000\n",
       "75%     7.750000    197.500000\n",
       "max     8.000000    210.000000"
      ]
     },
     "execution_count": 7,
     "metadata": {},
     "output_type": "execute_result"
    }
   ],
   "source": [
    "\n",
    "\n",
    "data.describe()"
   ]
  },
  {
   "cell_type": "code",
   "execution_count": 8,
   "id": "a430b17a",
   "metadata": {
    "lines_to_next_cell": 2
   },
   "outputs": [
    {
     "data": {
      "text/plain": [
       "Equipment       0\n",
       "Mine            0\n",
       "Material        0\n",
       "ProdDate        0\n",
       "WorkHours       0\n",
       "FuelConsumed    0\n",
       "Availability    0\n",
       "dtype: int64"
      ]
     },
     "execution_count": 8,
     "metadata": {},
     "output_type": "execute_result"
    }
   ],
   "source": [
    "\n",
    "\n",
    "data.isnull().sum()"
   ]
  },
  {
   "cell_type": "code",
   "execution_count": 9,
   "id": "b0185e82",
   "metadata": {
    "lines_to_next_cell": 2
   },
   "outputs": [
    {
     "data": {
      "text/html": [
       "<div>\n",
       "<style scoped>\n",
       "    .dataframe tbody tr th:only-of-type {\n",
       "        vertical-align: middle;\n",
       "    }\n",
       "\n",
       "    .dataframe tbody tr th {\n",
       "        vertical-align: top;\n",
       "    }\n",
       "\n",
       "    .dataframe thead th {\n",
       "        text-align: right;\n",
       "    }\n",
       "</style>\n",
       "<table border=\"1\" class=\"dataframe\">\n",
       "  <thead>\n",
       "    <tr style=\"text-align: right;\">\n",
       "      <th></th>\n",
       "      <th>Equipment</th>\n",
       "      <th>Mine</th>\n",
       "      <th>Material</th>\n",
       "      <th>ProdDate</th>\n",
       "      <th>WorkHours</th>\n",
       "      <th>FuelConsumed</th>\n",
       "      <th>Availability</th>\n",
       "    </tr>\n",
       "  </thead>\n",
       "  <tbody>\n",
       "    <tr>\n",
       "      <th>0</th>\n",
       "      <td>CAT996Loader</td>\n",
       "      <td>HZL</td>\n",
       "      <td>Zinc conc</td>\n",
       "      <td>10/2/2023</td>\n",
       "      <td>8</td>\n",
       "      <td>210</td>\n",
       "      <td>92%</td>\n",
       "    </tr>\n",
       "    <tr>\n",
       "      <th>1</th>\n",
       "      <td>Komatsu Dump Truck</td>\n",
       "      <td>Geoth</td>\n",
       "      <td>Iron Ore</td>\n",
       "      <td>13-02-2023</td>\n",
       "      <td>7</td>\n",
       "      <td>160</td>\n",
       "      <td>100%</td>\n",
       "    </tr>\n",
       "  </tbody>\n",
       "</table>\n",
       "</div>"
      ],
      "text/plain": [
       "            Equipment   Mine   Material    ProdDate  WorkHours  FuelConsumed  \\\n",
       "0        CAT996Loader    HZL  Zinc conc   10/2/2023          8           210   \n",
       "1  Komatsu Dump Truck  Geoth   Iron Ore  13-02-2023          7           160   \n",
       "\n",
       "  Availability  \n",
       "0          92%  \n",
       "1         100%  "
      ]
     },
     "execution_count": 9,
     "metadata": {},
     "output_type": "execute_result"
    }
   ],
   "source": [
    "\n",
    "\n",
    "data.head()"
   ]
  },
  {
   "cell_type": "code",
   "execution_count": 10,
   "id": "d7991571",
   "metadata": {
    "lines_to_next_cell": 2
   },
   "outputs": [
    {
     "data": {
      "text/html": [
       "<div>\n",
       "<style scoped>\n",
       "    .dataframe tbody tr th:only-of-type {\n",
       "        vertical-align: middle;\n",
       "    }\n",
       "\n",
       "    .dataframe tbody tr th {\n",
       "        vertical-align: top;\n",
       "    }\n",
       "\n",
       "    .dataframe thead th {\n",
       "        text-align: right;\n",
       "    }\n",
       "</style>\n",
       "<table border=\"1\" class=\"dataframe\">\n",
       "  <thead>\n",
       "    <tr style=\"text-align: right;\">\n",
       "      <th></th>\n",
       "      <th>Equipment</th>\n",
       "      <th>Mine</th>\n",
       "      <th>Material</th>\n",
       "      <th>ProdDate</th>\n",
       "      <th>WorkHours</th>\n",
       "      <th>FuelConsumed</th>\n",
       "      <th>Availability</th>\n",
       "    </tr>\n",
       "  </thead>\n",
       "  <tbody>\n",
       "    <tr>\n",
       "      <th>0</th>\n",
       "      <td>CAT996Loader</td>\n",
       "      <td>HZL</td>\n",
       "      <td>Zinc conc</td>\n",
       "      <td>10/2/2023</td>\n",
       "      <td>8</td>\n",
       "      <td>210</td>\n",
       "      <td>92%</td>\n",
       "    </tr>\n",
       "    <tr>\n",
       "      <th>1</th>\n",
       "      <td>Komatsu Dump Truck</td>\n",
       "      <td>Geoth</td>\n",
       "      <td>Iron Ore</td>\n",
       "      <td>13-02-2023</td>\n",
       "      <td>7</td>\n",
       "      <td>160</td>\n",
       "      <td>100%</td>\n",
       "    </tr>\n",
       "  </tbody>\n",
       "</table>\n",
       "</div>"
      ],
      "text/plain": [
       "            Equipment   Mine   Material    ProdDate  WorkHours  FuelConsumed  \\\n",
       "0        CAT996Loader    HZL  Zinc conc   10/2/2023          8           210   \n",
       "1  Komatsu Dump Truck  Geoth   Iron Ore  13-02-2023          7           160   \n",
       "\n",
       "  Availability  \n",
       "0          92%  \n",
       "1         100%  "
      ]
     },
     "execution_count": 10,
     "metadata": {},
     "output_type": "execute_result"
    }
   ],
   "source": [
    "\n",
    "\n",
    "data.tail()"
   ]
  },
  {
   "cell_type": "code",
   "execution_count": 14,
   "id": "5d6fe29e",
   "metadata": {
    "lines_to_next_cell": 2
   },
   "outputs": [],
   "source": [
    "\n",
    "\n",
    "data['ProdDate']=pd.to_datetime(data['ProdDate'],format=\"mixed\")"
   ]
  },
  {
   "cell_type": "code",
   "execution_count": 15,
   "id": "1db9df14",
   "metadata": {
    "lines_to_next_cell": 2
   },
   "outputs": [
    {
     "data": {
      "text/html": [
       "<div>\n",
       "<style scoped>\n",
       "    .dataframe tbody tr th:only-of-type {\n",
       "        vertical-align: middle;\n",
       "    }\n",
       "\n",
       "    .dataframe tbody tr th {\n",
       "        vertical-align: top;\n",
       "    }\n",
       "\n",
       "    .dataframe thead th {\n",
       "        text-align: right;\n",
       "    }\n",
       "</style>\n",
       "<table border=\"1\" class=\"dataframe\">\n",
       "  <thead>\n",
       "    <tr style=\"text-align: right;\">\n",
       "      <th></th>\n",
       "      <th>Equipment</th>\n",
       "      <th>Mine</th>\n",
       "      <th>Material</th>\n",
       "      <th>ProdDate</th>\n",
       "      <th>WorkHours</th>\n",
       "      <th>FuelConsumed</th>\n",
       "      <th>Availability</th>\n",
       "    </tr>\n",
       "  </thead>\n",
       "  <tbody>\n",
       "    <tr>\n",
       "      <th>0</th>\n",
       "      <td>CAT996Loader</td>\n",
       "      <td>HZL</td>\n",
       "      <td>Zinc conc</td>\n",
       "      <td>2023-10-02</td>\n",
       "      <td>8</td>\n",
       "      <td>210</td>\n",
       "      <td>92%</td>\n",
       "    </tr>\n",
       "    <tr>\n",
       "      <th>1</th>\n",
       "      <td>Komatsu Dump Truck</td>\n",
       "      <td>Geoth</td>\n",
       "      <td>Iron Ore</td>\n",
       "      <td>2023-02-13</td>\n",
       "      <td>7</td>\n",
       "      <td>160</td>\n",
       "      <td>100%</td>\n",
       "    </tr>\n",
       "  </tbody>\n",
       "</table>\n",
       "</div>"
      ],
      "text/plain": [
       "            Equipment   Mine   Material   ProdDate  WorkHours  FuelConsumed  \\\n",
       "0        CAT996Loader    HZL  Zinc conc 2023-10-02          8           210   \n",
       "1  Komatsu Dump Truck  Geoth   Iron Ore 2023-02-13          7           160   \n",
       "\n",
       "  Availability  \n",
       "0          92%  \n",
       "1         100%  "
      ]
     },
     "execution_count": 15,
     "metadata": {},
     "output_type": "execute_result"
    }
   ],
   "source": [
    "\n",
    "\n",
    "data"
   ]
  },
  {
   "cell_type": "code",
   "execution_count": null,
   "id": "7a9e2f2f",
   "metadata": {},
   "outputs": [],
   "source": [
    "\n",
    "\n",
    "##100% availability of iron ore in geoth mine ,which can be extracted within 7 hours of mining using Komatsu Dump Truck is the \n",
    "#best choice to increase the production rate of iron .\n",
    "\n",
    "\n",
    "# # second set"
   ]
  },
  {
   "cell_type": "code",
   "execution_count": 16,
   "id": "a77aed20",
   "metadata": {
    "lines_to_next_cell": 2
   },
   "outputs": [],
   "source": [
    "\n",
    "\n",
    "import numpy as np\n",
    "import pandas as pd\n",
    "import matplotlib.pyplot as plt"
   ]
  },
  {
   "cell_type": "code",
   "execution_count": 17,
   "id": "6e9175cf",
   "metadata": {
    "lines_to_next_cell": 2
   },
   "outputs": [],
   "source": [
    "\n",
    "\n",
    "df=pd.read_csv(\"MM2.csv\")"
   ]
  },
  {
   "cell_type": "code",
   "execution_count": 18,
   "id": "b7ea6bbc",
   "metadata": {
    "lines_to_next_cell": 2
   },
   "outputs": [
    {
     "data": {
      "text/html": [
       "<div>\n",
       "<style scoped>\n",
       "    .dataframe tbody tr th:only-of-type {\n",
       "        vertical-align: middle;\n",
       "    }\n",
       "\n",
       "    .dataframe tbody tr th {\n",
       "        vertical-align: top;\n",
       "    }\n",
       "\n",
       "    .dataframe thead th {\n",
       "        text-align: right;\n",
       "    }\n",
       "</style>\n",
       "<table border=\"1\" class=\"dataframe\">\n",
       "  <thead>\n",
       "    <tr style=\"text-align: right;\">\n",
       "      <th></th>\n",
       "      <th>Date</th>\n",
       "      <th>BlockID</th>\n",
       "      <th>BlastsDone</th>\n",
       "      <th>ExplosivesUsed</th>\n",
       "      <th>OverburdenRemoved</th>\n",
       "      <th>OreExtracted</th>\n",
       "    </tr>\n",
       "  </thead>\n",
       "  <tbody>\n",
       "    <tr>\n",
       "      <th>0</th>\n",
       "      <td>13-02-2023</td>\n",
       "      <td>A1east</td>\n",
       "      <td>3</td>\n",
       "      <td>4500kg ANFO</td>\n",
       "      <td>96000T OB</td>\n",
       "      <td>35800T</td>\n",
       "    </tr>\n",
       "    <tr>\n",
       "      <th>1</th>\n",
       "      <td>15-02-2023</td>\n",
       "      <td>B7south</td>\n",
       "      <td>2</td>\n",
       "      <td>2100kg Emulsion</td>\n",
       "      <td>45000T OB</td>\n",
       "      <td>18250T</td>\n",
       "    </tr>\n",
       "  </tbody>\n",
       "</table>\n",
       "</div>"
      ],
      "text/plain": [
       "         Date  BlockID  BlastsDone   ExplosivesUsed OverburdenRemoved  \\\n",
       "0  13-02-2023   A1east           3      4500kg ANFO         96000T OB   \n",
       "1  15-02-2023  B7south           2  2100kg Emulsion         45000T OB   \n",
       "\n",
       "  OreExtracted  \n",
       "0       35800T  \n",
       "1       18250T  "
      ]
     },
     "execution_count": 18,
     "metadata": {},
     "output_type": "execute_result"
    }
   ],
   "source": [
    "\n",
    "\n",
    "df"
   ]
  },
  {
   "cell_type": "code",
   "execution_count": 19,
   "id": "0a9bab79",
   "metadata": {
    "lines_to_next_cell": 2
   },
   "outputs": [
    {
     "name": "stderr",
     "output_type": "stream",
     "text": [
      "C:\\Users\\admin\\AppData\\Local\\Temp\\ipykernel_9016\\3006191859.py:1: UserWarning: Parsing dates in %d-%m-%Y format when dayfirst=False (the default) was specified. Pass `dayfirst=True` or specify a format to silence this warning.\n",
      "  df['Date']=pd.to_datetime(df['Date'])\n"
     ]
    }
   ],
   "source": [
    "\n",
    "\n",
    "df['Date']=pd.to_datetime(df['Date'])"
   ]
  },
  {
   "cell_type": "code",
   "execution_count": 20,
   "id": "ed8b0fff",
   "metadata": {
    "lines_to_next_cell": 2
   },
   "outputs": [
    {
     "data": {
      "text/html": [
       "<div>\n",
       "<style scoped>\n",
       "    .dataframe tbody tr th:only-of-type {\n",
       "        vertical-align: middle;\n",
       "    }\n",
       "\n",
       "    .dataframe tbody tr th {\n",
       "        vertical-align: top;\n",
       "    }\n",
       "\n",
       "    .dataframe thead th {\n",
       "        text-align: right;\n",
       "    }\n",
       "</style>\n",
       "<table border=\"1\" class=\"dataframe\">\n",
       "  <thead>\n",
       "    <tr style=\"text-align: right;\">\n",
       "      <th></th>\n",
       "      <th>Date</th>\n",
       "      <th>BlockID</th>\n",
       "      <th>BlastsDone</th>\n",
       "      <th>ExplosivesUsed</th>\n",
       "      <th>OverburdenRemoved</th>\n",
       "      <th>OreExtracted</th>\n",
       "    </tr>\n",
       "  </thead>\n",
       "  <tbody>\n",
       "    <tr>\n",
       "      <th>0</th>\n",
       "      <td>2023-02-13</td>\n",
       "      <td>A1east</td>\n",
       "      <td>3</td>\n",
       "      <td>4500kg ANFO</td>\n",
       "      <td>96000T OB</td>\n",
       "      <td>35800T</td>\n",
       "    </tr>\n",
       "    <tr>\n",
       "      <th>1</th>\n",
       "      <td>2023-02-15</td>\n",
       "      <td>B7south</td>\n",
       "      <td>2</td>\n",
       "      <td>2100kg Emulsion</td>\n",
       "      <td>45000T OB</td>\n",
       "      <td>18250T</td>\n",
       "    </tr>\n",
       "  </tbody>\n",
       "</table>\n",
       "</div>"
      ],
      "text/plain": [
       "        Date  BlockID  BlastsDone   ExplosivesUsed OverburdenRemoved  \\\n",
       "0 2023-02-13   A1east           3      4500kg ANFO         96000T OB   \n",
       "1 2023-02-15  B7south           2  2100kg Emulsion         45000T OB   \n",
       "\n",
       "  OreExtracted  \n",
       "0       35800T  \n",
       "1       18250T  "
      ]
     },
     "execution_count": 20,
     "metadata": {},
     "output_type": "execute_result"
    }
   ],
   "source": [
    "\n",
    "\n",
    "df"
   ]
  },
  {
   "cell_type": "code",
   "execution_count": 21,
   "id": "5e39a8d8",
   "metadata": {
    "lines_to_next_cell": 2
   },
   "outputs": [
    {
     "name": "stdout",
     "output_type": "stream",
     "text": [
      "<class 'pandas.core.frame.DataFrame'>\n",
      "RangeIndex: 2 entries, 0 to 1\n",
      "Data columns (total 6 columns):\n",
      " #   Column             Non-Null Count  Dtype         \n",
      "---  ------             --------------  -----         \n",
      " 0   Date               2 non-null      datetime64[ns]\n",
      " 1   BlockID            2 non-null      object        \n",
      " 2   BlastsDone         2 non-null      int64         \n",
      " 3   ExplosivesUsed     2 non-null      object        \n",
      " 4   OverburdenRemoved  2 non-null      object        \n",
      " 5   OreExtracted       2 non-null      object        \n",
      "dtypes: datetime64[ns](1), int64(1), object(4)\n",
      "memory usage: 228.0+ bytes\n"
     ]
    }
   ],
   "source": [
    "\n",
    "\n",
    "df.info()"
   ]
  },
  {
   "cell_type": "code",
   "execution_count": 22,
   "id": "9e677b85",
   "metadata": {
    "lines_to_next_cell": 2
   },
   "outputs": [
    {
     "data": {
      "text/html": [
       "<div>\n",
       "<style scoped>\n",
       "    .dataframe tbody tr th:only-of-type {\n",
       "        vertical-align: middle;\n",
       "    }\n",
       "\n",
       "    .dataframe tbody tr th {\n",
       "        vertical-align: top;\n",
       "    }\n",
       "\n",
       "    .dataframe thead th {\n",
       "        text-align: right;\n",
       "    }\n",
       "</style>\n",
       "<table border=\"1\" class=\"dataframe\">\n",
       "  <thead>\n",
       "    <tr style=\"text-align: right;\">\n",
       "      <th></th>\n",
       "      <th>Date</th>\n",
       "      <th>BlastsDone</th>\n",
       "    </tr>\n",
       "  </thead>\n",
       "  <tbody>\n",
       "    <tr>\n",
       "      <th>count</th>\n",
       "      <td>2</td>\n",
       "      <td>2.000000</td>\n",
       "    </tr>\n",
       "    <tr>\n",
       "      <th>mean</th>\n",
       "      <td>2023-02-14 00:00:00</td>\n",
       "      <td>2.500000</td>\n",
       "    </tr>\n",
       "    <tr>\n",
       "      <th>min</th>\n",
       "      <td>2023-02-13 00:00:00</td>\n",
       "      <td>2.000000</td>\n",
       "    </tr>\n",
       "    <tr>\n",
       "      <th>25%</th>\n",
       "      <td>2023-02-13 12:00:00</td>\n",
       "      <td>2.250000</td>\n",
       "    </tr>\n",
       "    <tr>\n",
       "      <th>50%</th>\n",
       "      <td>2023-02-14 00:00:00</td>\n",
       "      <td>2.500000</td>\n",
       "    </tr>\n",
       "    <tr>\n",
       "      <th>75%</th>\n",
       "      <td>2023-02-14 12:00:00</td>\n",
       "      <td>2.750000</td>\n",
       "    </tr>\n",
       "    <tr>\n",
       "      <th>max</th>\n",
       "      <td>2023-02-15 00:00:00</td>\n",
       "      <td>3.000000</td>\n",
       "    </tr>\n",
       "    <tr>\n",
       "      <th>std</th>\n",
       "      <td>NaN</td>\n",
       "      <td>0.707107</td>\n",
       "    </tr>\n",
       "  </tbody>\n",
       "</table>\n",
       "</div>"
      ],
      "text/plain": [
       "                      Date  BlastsDone\n",
       "count                    2    2.000000\n",
       "mean   2023-02-14 00:00:00    2.500000\n",
       "min    2023-02-13 00:00:00    2.000000\n",
       "25%    2023-02-13 12:00:00    2.250000\n",
       "50%    2023-02-14 00:00:00    2.500000\n",
       "75%    2023-02-14 12:00:00    2.750000\n",
       "max    2023-02-15 00:00:00    3.000000\n",
       "std                    NaN    0.707107"
      ]
     },
     "execution_count": 22,
     "metadata": {},
     "output_type": "execute_result"
    }
   ],
   "source": [
    "\n",
    "\n",
    "df.describe()"
   ]
  },
  {
   "cell_type": "code",
   "execution_count": 23,
   "id": "a6028391",
   "metadata": {
    "lines_to_next_cell": 2
   },
   "outputs": [
    {
     "data": {
      "text/html": [
       "<div>\n",
       "<style scoped>\n",
       "    .dataframe tbody tr th:only-of-type {\n",
       "        vertical-align: middle;\n",
       "    }\n",
       "\n",
       "    .dataframe tbody tr th {\n",
       "        vertical-align: top;\n",
       "    }\n",
       "\n",
       "    .dataframe thead th {\n",
       "        text-align: right;\n",
       "    }\n",
       "</style>\n",
       "<table border=\"1\" class=\"dataframe\">\n",
       "  <thead>\n",
       "    <tr style=\"text-align: right;\">\n",
       "      <th></th>\n",
       "      <th>Date</th>\n",
       "      <th>BlockID</th>\n",
       "      <th>BlastsDone</th>\n",
       "      <th>ExplosivesUsed</th>\n",
       "      <th>OverburdenRemoved</th>\n",
       "      <th>OreExtracted</th>\n",
       "    </tr>\n",
       "  </thead>\n",
       "  <tbody>\n",
       "    <tr>\n",
       "      <th>0</th>\n",
       "      <td>2023-02-13</td>\n",
       "      <td>A1east</td>\n",
       "      <td>3</td>\n",
       "      <td>4500kg ANFO</td>\n",
       "      <td>96000T OB</td>\n",
       "      <td>35800T</td>\n",
       "    </tr>\n",
       "    <tr>\n",
       "      <th>1</th>\n",
       "      <td>2023-02-15</td>\n",
       "      <td>B7south</td>\n",
       "      <td>2</td>\n",
       "      <td>2100kg Emulsion</td>\n",
       "      <td>45000T OB</td>\n",
       "      <td>18250T</td>\n",
       "    </tr>\n",
       "  </tbody>\n",
       "</table>\n",
       "</div>"
      ],
      "text/plain": [
       "        Date  BlockID  BlastsDone   ExplosivesUsed OverburdenRemoved  \\\n",
       "0 2023-02-13   A1east           3      4500kg ANFO         96000T OB   \n",
       "1 2023-02-15  B7south           2  2100kg Emulsion         45000T OB   \n",
       "\n",
       "  OreExtracted  \n",
       "0       35800T  \n",
       "1       18250T  "
      ]
     },
     "execution_count": 23,
     "metadata": {},
     "output_type": "execute_result"
    }
   ],
   "source": [
    "\n",
    "\n",
    "df"
   ]
  },
  {
   "cell_type": "code",
   "execution_count": 24,
   "id": "3c911a7b",
   "metadata": {},
   "outputs": [],
   "source": [
    "\n",
    "\n",
    "##B7 South blockid is better to use because 18250T ore is extracted by 2 blasts with 2100kg emulsion.\n",
    "\n",
    "\n",
    "# # THIRD SET"
   ]
  },
  {
   "cell_type": "code",
   "execution_count": 25,
   "id": "d0f76f9b",
   "metadata": {
    "lines_to_next_cell": 2
   },
   "outputs": [],
   "source": [
    "\n",
    "\n",
    "a=pd.read_csv(\"MM3.csv\")"
   ]
  },
  {
   "cell_type": "code",
   "execution_count": 26,
   "id": "b64b6c3d",
   "metadata": {
    "lines_to_next_cell": 2
   },
   "outputs": [
    {
     "data": {
      "text/html": [
       "<div>\n",
       "<style scoped>\n",
       "    .dataframe tbody tr th:only-of-type {\n",
       "        vertical-align: middle;\n",
       "    }\n",
       "\n",
       "    .dataframe tbody tr th {\n",
       "        vertical-align: top;\n",
       "    }\n",
       "\n",
       "    .dataframe thead th {\n",
       "        text-align: right;\n",
       "    }\n",
       "</style>\n",
       "<table border=\"1\" class=\"dataframe\">\n",
       "  <thead>\n",
       "    <tr style=\"text-align: right;\">\n",
       "      <th></th>\n",
       "      <th>Mine</th>\n",
       "      <th>Equipment</th>\n",
       "      <th>Material</th>\n",
       "      <th>TotalOre</th>\n",
       "      <th>AvgGrade</th>\n",
       "      <th>TotalWaste</th>\n",
       "      <th>StrippingRatio</th>\n",
       "    </tr>\n",
       "  </thead>\n",
       "  <tbody>\n",
       "    <tr>\n",
       "      <th>0</th>\n",
       "      <td>UtkalZinc</td>\n",
       "      <td>Blackhoe</td>\n",
       "      <td>Zinc Ore</td>\n",
       "      <td>358T</td>\n",
       "      <td>7.80%</td>\n",
       "      <td>74T</td>\n",
       "      <td>0.21</td>\n",
       "    </tr>\n",
       "    <tr>\n",
       "      <th>1</th>\n",
       "      <td>GeothMinerials</td>\n",
       "      <td>Scrapper</td>\n",
       "      <td>IronOre</td>\n",
       "      <td>1257T</td>\n",
       "      <td>62%</td>\n",
       "      <td>201T</td>\n",
       "      <td>0.16</td>\n",
       "    </tr>\n",
       "  </tbody>\n",
       "</table>\n",
       "</div>"
      ],
      "text/plain": [
       "             Mine Equipment  Material TotalOre AvgGrade TotalWaste  \\\n",
       "0       UtkalZinc  Blackhoe  Zinc Ore     358T    7.80%        74T   \n",
       "1  GeothMinerials  Scrapper   IronOre    1257T      62%       201T   \n",
       "\n",
       "   StrippingRatio  \n",
       "0            0.21  \n",
       "1            0.16  "
      ]
     },
     "execution_count": 26,
     "metadata": {},
     "output_type": "execute_result"
    }
   ],
   "source": [
    "\n",
    "\n",
    "a"
   ]
  },
  {
   "cell_type": "code",
   "execution_count": 27,
   "id": "5a44d0c0",
   "metadata": {
    "lines_to_next_cell": 2
   },
   "outputs": [],
   "source": [
    "\n",
    "\n",
    "#In surface mining, stripping ratio or strip ratio refers to the amount of waste (or overburden) \n",
    "#that must be removed to release a given ore quantity."
   ]
  },
  {
   "cell_type": "code",
   "execution_count": 28,
   "id": "94ddc099",
   "metadata": {
    "lines_to_next_cell": 2
   },
   "outputs": [],
   "source": [
    "\n",
    "\n",
    "from sklearn.preprocessing import LabelEncoder\n",
    "le=LabelEncoder()\n",
    "\n",
    "a['TotalOre']=le.fit_transform(a['TotalOre'])"
   ]
  },
  {
   "cell_type": "code",
   "execution_count": 29,
   "id": "37a8f414",
   "metadata": {
    "lines_to_next_cell": 2
   },
   "outputs": [
    {
     "name": "stdout",
     "output_type": "stream",
     "text": [
      "<class 'pandas.core.frame.DataFrame'>\n",
      "RangeIndex: 2 entries, 0 to 1\n",
      "Data columns (total 7 columns):\n",
      " #   Column          Non-Null Count  Dtype  \n",
      "---  ------          --------------  -----  \n",
      " 0   Mine            2 non-null      object \n",
      " 1   Equipment       2 non-null      object \n",
      " 2   Material        2 non-null      object \n",
      " 3   TotalOre        2 non-null      int32  \n",
      " 4   AvgGrade        2 non-null      object \n",
      " 5   TotalWaste      2 non-null      object \n",
      " 6   StrippingRatio  2 non-null      float64\n",
      "dtypes: float64(1), int32(1), object(5)\n",
      "memory usage: 236.0+ bytes\n"
     ]
    }
   ],
   "source": [
    "\n",
    "\n",
    "a.info()"
   ]
  },
  {
   "cell_type": "code",
   "execution_count": 30,
   "id": "4359b96d",
   "metadata": {},
   "outputs": [
    {
     "data": {
      "text/plain": [
       "<Axes: xlabel='Equipment'>"
      ]
     },
     "execution_count": 30,
     "metadata": {},
     "output_type": "execute_result"
    },
    {
     "data": {
      "image/png": "[encoded data removed]",
      "text/plain": [
       "<Figure size 640x480 with 1 Axes>"
      ]
     },
     "metadata": {},
     "output_type": "display_data"
    }
   ],
   "source": [
    "\n",
    "\n",
    "a.plot(x='Equipment',y='TotalOre',kind='bar')\n",
    "\n",
    "\n",
    "# # fourthset"
   ]
  },
  {
   "cell_type": "code",
   "execution_count": 31,
   "id": "4d7a3389",
   "metadata": {
    "lines_to_next_cell": 2
   },
   "outputs": [],
   "source": [
    "\n",
    "\n",
    "m4=pd.read_csv(\"mm4.csv\")"
   ]
  },
  {
   "cell_type": "code",
   "execution_count": 32,
   "id": "d05e8f96",
   "metadata": {
    "lines_to_next_cell": 2
   },
   "outputs": [
    {
     "data": {
      "text/html": [
       "<div>\n",
       "<style scoped>\n",
       "    .dataframe tbody tr th:only-of-type {\n",
       "        vertical-align: middle;\n",
       "    }\n",
       "\n",
       "    .dataframe tbody tr th {\n",
       "        vertical-align: top;\n",
       "    }\n",
       "\n",
       "    .dataframe thead th {\n",
       "        text-align: right;\n",
       "    }\n",
       "</style>\n",
       "<table border=\"1\" class=\"dataframe\">\n",
       "  <thead>\n",
       "    <tr style=\"text-align: right;\">\n",
       "      <th></th>\n",
       "      <th>Equipment</th>\n",
       "      <th>Type</th>\n",
       "      <th>Utilization</th>\n",
       "      <th>Operator</th>\n",
       "      <th>FuelConsumed</th>\n",
       "      <th>DistanceTravelled</th>\n",
       "      <th>MaterialMoved</th>\n",
       "    </tr>\n",
       "  </thead>\n",
       "  <tbody>\n",
       "    <tr>\n",
       "      <th>0</th>\n",
       "      <td>Truck1</td>\n",
       "      <td>CAT785C</td>\n",
       "      <td>75%</td>\n",
       "      <td>Rohit Sharma</td>\n",
       "      <td>210</td>\n",
       "      <td>800</td>\n",
       "      <td>1900</td>\n",
       "    </tr>\n",
       "    <tr>\n",
       "      <th>1</th>\n",
       "      <td>Truck2</td>\n",
       "      <td>Komatsu 860E</td>\n",
       "      <td>58%</td>\n",
       "      <td>Nisha Yadav</td>\n",
       "      <td>160</td>\n",
       "      <td>560</td>\n",
       "      <td>1250</td>\n",
       "    </tr>\n",
       "  </tbody>\n",
       "</table>\n",
       "</div>"
      ],
      "text/plain": [
       "  Equipment          Type Utilization      Operator  FuelConsumed  \\\n",
       "0    Truck1       CAT785C         75%  Rohit Sharma           210   \n",
       "1    Truck2  Komatsu 860E         58%   Nisha Yadav           160   \n",
       "\n",
       "   DistanceTravelled  MaterialMoved  \n",
       "0                800           1900  \n",
       "1                560           1250  "
      ]
     },
     "execution_count": 32,
     "metadata": {},
     "output_type": "execute_result"
    }
   ],
   "source": [
    "\n",
    "\n",
    "m4"
   ]
  },
  {
   "cell_type": "code",
   "execution_count": 33,
   "id": "97cae8ba",
   "metadata": {},
   "outputs": [],
   "source": [
    "\n",
    "\n",
    "#Truck1 is more efficient as it travelled 800km compared to Truck2\n",
    "\n",
    "\n",
    "# # fifth set"
   ]
  },
  {
   "cell_type": "code",
   "execution_count": 34,
   "id": "65cf0fe4",
   "metadata": {
    "lines_to_next_cell": 2
   },
   "outputs": [],
   "source": [
    "\n",
    "\n",
    "m5=pd.read_csv(\"MM6.csv\")"
   ]
  },
  {
   "cell_type": "code",
   "execution_count": 35,
   "id": "74729a0f",
   "metadata": {
    "lines_to_next_cell": 2
   },
   "outputs": [
    {
     "data": {
      "text/html": [
       "<div>\n",
       "<style scoped>\n",
       "    .dataframe tbody tr th:only-of-type {\n",
       "        vertical-align: middle;\n",
       "    }\n",
       "\n",
       "    .dataframe tbody tr th {\n",
       "        vertical-align: top;\n",
       "    }\n",
       "\n",
       "    .dataframe thead th {\n",
       "        text-align: right;\n",
       "    }\n",
       "</style>\n",
       "<table border=\"1\" class=\"dataframe\">\n",
       "  <thead>\n",
       "    <tr style=\"text-align: right;\">\n",
       "      <th></th>\n",
       "      <th>Mine</th>\n",
       "      <th>EquipmentDesignation</th>\n",
       "      <th>EquipmentCategory</th>\n",
       "      <th>Material</th>\n",
       "      <th>AvgUtilizationPCT</th>\n",
       "      <th>BreakDownHours</th>\n",
       "      <th>Operator</th>\n",
       "    </tr>\n",
       "  </thead>\n",
       "  <tbody>\n",
       "    <tr>\n",
       "      <th>0</th>\n",
       "      <td>Maharastra minerials</td>\n",
       "      <td>EXV323</td>\n",
       "      <td>Excavator</td>\n",
       "      <td>Coal</td>\n",
       "      <td>63%</td>\n",
       "      <td>3</td>\n",
       "      <td>Amar Patel</td>\n",
       "    </tr>\n",
       "    <tr>\n",
       "      <th>1</th>\n",
       "      <td>Maharastra minerials</td>\n",
       "      <td>DT452</td>\n",
       "      <td>35T dump truck</td>\n",
       "      <td>Soil</td>\n",
       "      <td>78%</td>\n",
       "      <td>0</td>\n",
       "      <td>Reena</td>\n",
       "    </tr>\n",
       "  </tbody>\n",
       "</table>\n",
       "</div>"
      ],
      "text/plain": [
       "                   Mine EquipmentDesignation EquipmentCategory Material  \\\n",
       "0  Maharastra minerials               EXV323         Excavator     Coal   \n",
       "1  Maharastra minerials                DT452    35T dump truck     Soil   \n",
       "\n",
       "  AvgUtilizationPCT  BreakDownHours    Operator  \n",
       "0               63%               3  Amar Patel  \n",
       "1               78%               0       Reena  "
      ]
     },
     "execution_count": 35,
     "metadata": {},
     "output_type": "execute_result"
    }
   ],
   "source": [
    "\n",
    "\n",
    "m5"
   ]
  },
  {
   "cell_type": "code",
   "execution_count": 36,
   "id": "22d76819",
   "metadata": {},
   "outputs": [],
   "source": [
    "\n",
    "\n",
    "#35T Dump Truck is better as breakdown hour is 0.\n",
    "\n",
    "\n",
    "# # sixth set"
   ]
  },
  {
   "cell_type": "code",
   "execution_count": 37,
   "id": "e53c5c75",
   "metadata": {
    "lines_to_next_cell": 2
   },
   "outputs": [],
   "source": [
    "\n",
    "\n",
    "m7=pd.read_csv(\"MM7.csv\")"
   ]
  },
  {
   "cell_type": "code",
   "execution_count": 38,
   "id": "b52b17d2",
   "metadata": {
    "lines_to_next_cell": 2
   },
   "outputs": [
    {
     "data": {
      "text/html": [
       "<div>\n",
       "<style scoped>\n",
       "    .dataframe tbody tr th:only-of-type {\n",
       "        vertical-align: middle;\n",
       "    }\n",
       "\n",
       "    .dataframe tbody tr th {\n",
       "        vertical-align: top;\n",
       "    }\n",
       "\n",
       "    .dataframe thead th {\n",
       "        text-align: right;\n",
       "    }\n",
       "</style>\n",
       "<table border=\"1\" class=\"dataframe\">\n",
       "  <thead>\n",
       "    <tr style=\"text-align: right;\">\n",
       "      <th></th>\n",
       "      <th>ReportDate</th>\n",
       "      <th>HeavyEquipment</th>\n",
       "      <th>Operator</th>\n",
       "      <th>MaterialType</th>\n",
       "      <th>NoOfLoads</th>\n",
       "      <th>AvgLoadWeight</th>\n",
       "      <th>TotalWeightMaterialMoved</th>\n",
       "    </tr>\n",
       "  </thead>\n",
       "  <tbody>\n",
       "    <tr>\n",
       "      <th>0</th>\n",
       "      <td>12/2/2023</td>\n",
       "      <td>PC200 CAT Excavator</td>\n",
       "      <td>Rahul</td>\n",
       "      <td>Ironore</td>\n",
       "      <td>105</td>\n",
       "      <td>12500kg</td>\n",
       "      <td>1312500kg</td>\n",
       "    </tr>\n",
       "    <tr>\n",
       "      <th>1</th>\n",
       "      <td>15-02-2023</td>\n",
       "      <td>40T CAT Dump Truck</td>\n",
       "      <td>Deepali</td>\n",
       "      <td>Ironore</td>\n",
       "      <td>68</td>\n",
       "      <td>12200kg</td>\n",
       "      <td>821600kg</td>\n",
       "    </tr>\n",
       "  </tbody>\n",
       "</table>\n",
       "</div>"
      ],
      "text/plain": [
       "   ReportDate       HeavyEquipment Operator MaterialType  NoOfLoads  \\\n",
       "0   12/2/2023  PC200 CAT Excavator    Rahul      Ironore        105   \n",
       "1  15-02-2023   40T CAT Dump Truck  Deepali      Ironore         68   \n",
       "\n",
       "  AvgLoadWeight TotalWeightMaterialMoved  \n",
       "0       12500kg                1312500kg  \n",
       "1       12200kg                 821600kg  "
      ]
     },
     "execution_count": 38,
     "metadata": {},
     "output_type": "execute_result"
    }
   ],
   "source": [
    "\n",
    "\n",
    "m7"
   ]
  },
  {
   "cell_type": "code",
   "execution_count": 40,
   "id": "ead8bfee",
   "metadata": {
    "lines_to_next_cell": 2
   },
   "outputs": [
    {
     "data": {
      "text/html": [
       "<div>\n",
       "<style scoped>\n",
       "    .dataframe tbody tr th:only-of-type {\n",
       "        vertical-align: middle;\n",
       "    }\n",
       "\n",
       "    .dataframe tbody tr th {\n",
       "        vertical-align: top;\n",
       "    }\n",
       "\n",
       "    .dataframe thead th {\n",
       "        text-align: right;\n",
       "    }\n",
       "</style>\n",
       "<table border=\"1\" class=\"dataframe\">\n",
       "  <thead>\n",
       "    <tr style=\"text-align: right;\">\n",
       "      <th></th>\n",
       "      <th>ReportDate</th>\n",
       "      <th>HeavyEquipment</th>\n",
       "      <th>Operator</th>\n",
       "      <th>MaterialType</th>\n",
       "      <th>NoOfLoads</th>\n",
       "      <th>AvgLoadWeight</th>\n",
       "      <th>TotalWeightMaterialMoved</th>\n",
       "    </tr>\n",
       "  </thead>\n",
       "  <tbody>\n",
       "    <tr>\n",
       "      <th>0</th>\n",
       "      <td>12/2/2023</td>\n",
       "      <td>PC200 CAT Excavator</td>\n",
       "      <td>Rahul</td>\n",
       "      <td>Ironore</td>\n",
       "      <td>105</td>\n",
       "      <td>12500kg</td>\n",
       "      <td>1312500kg</td>\n",
       "    </tr>\n",
       "    <tr>\n",
       "      <th>1</th>\n",
       "      <td>15-02-2023</td>\n",
       "      <td>40T CAT Dump Truck</td>\n",
       "      <td>Deepali</td>\n",
       "      <td>Ironore</td>\n",
       "      <td>68</td>\n",
       "      <td>12200kg</td>\n",
       "      <td>821600kg</td>\n",
       "    </tr>\n",
       "  </tbody>\n",
       "</table>\n",
       "</div>"
      ],
      "text/plain": [
       "   ReportDate       HeavyEquipment Operator MaterialType  NoOfLoads  \\\n",
       "0   12/2/2023  PC200 CAT Excavator    Rahul      Ironore        105   \n",
       "1  15-02-2023   40T CAT Dump Truck  Deepali      Ironore         68   \n",
       "\n",
       "  AvgLoadWeight TotalWeightMaterialMoved  \n",
       "0       12500kg                1312500kg  \n",
       "1       12200kg                 821600kg  "
      ]
     },
     "execution_count": 40,
     "metadata": {},
     "output_type": "execute_result"
    }
   ],
   "source": [
    "\n",
    "\n",
    "m7"
   ]
  },
  {
   "cell_type": "code",
   "execution_count": 41,
   "id": "d050da30",
   "metadata": {},
   "outputs": [],
   "source": [
    "\n",
    "\n",
    "#PC200 CAT Excavator has 105kg load and total weight moved is 1312500kg.\n",
    "\n",
    "\n",
    "# # seventh set"
   ]
  },
  {
   "cell_type": "code",
   "execution_count": 42,
   "id": "4bf5a37d",
   "metadata": {
    "lines_to_next_cell": 2
   },
   "outputs": [],
   "source": [
    "\n",
    "\n",
    "m8=pd.read_csv(\"mm8.csv\")"
   ]
  },
  {
   "cell_type": "code",
   "execution_count": 43,
   "id": "b8adbd35",
   "metadata": {
    "lines_to_next_cell": 2
   },
   "outputs": [
    {
     "data": {
      "text/html": [
       "<div>\n",
       "<style scoped>\n",
       "    .dataframe tbody tr th:only-of-type {\n",
       "        vertical-align: middle;\n",
       "    }\n",
       "\n",
       "    .dataframe tbody tr th {\n",
       "        vertical-align: top;\n",
       "    }\n",
       "\n",
       "    .dataframe thead th {\n",
       "        text-align: right;\n",
       "    }\n",
       "</style>\n",
       "<table border=\"1\" class=\"dataframe\">\n",
       "  <thead>\n",
       "    <tr style=\"text-align: right;\">\n",
       "      <th></th>\n",
       "      <th>Date</th>\n",
       "      <th>Mine</th>\n",
       "      <th>Equipment</th>\n",
       "      <th>Material</th>\n",
       "      <th>Shift</th>\n",
       "      <th>Operator</th>\n",
       "      <th>Address</th>\n",
       "      <th>Hours_Worked</th>\n",
       "      <th>Target_TPH</th>\n",
       "      <th>Actual TPH</th>\n",
       "    </tr>\n",
       "  </thead>\n",
       "  <tbody>\n",
       "    <tr>\n",
       "      <th>0</th>\n",
       "      <td>1/1/2023</td>\n",
       "      <td>Vasanth Coal Mine</td>\n",
       "      <td>Shovel1</td>\n",
       "      <td>Overburden</td>\n",
       "      <td>Day</td>\n",
       "      <td>Ramesh Patel</td>\n",
       "      <td>221B Baker street Mumbai</td>\n",
       "      <td>8</td>\n",
       "      <td>5000</td>\n",
       "      <td>4735</td>\n",
       "    </tr>\n",
       "    <tr>\n",
       "      <th>1</th>\n",
       "      <td>1/1/2023</td>\n",
       "      <td>Vasanth Coal Mine</td>\n",
       "      <td>Truck1</td>\n",
       "      <td>Coal</td>\n",
       "      <td>Day</td>\n",
       "      <td>Aditya</td>\n",
       "      <td>50Laxmi nagar hyd</td>\n",
       "      <td>8</td>\n",
       "      <td>800</td>\n",
       "      <td>725</td>\n",
       "    </tr>\n",
       "    <tr>\n",
       "      <th>2</th>\n",
       "      <td>1/2/2023</td>\n",
       "      <td>Reddy Coal Mine</td>\n",
       "      <td>Shovel1</td>\n",
       "      <td>Overburden</td>\n",
       "      <td>Night</td>\n",
       "      <td>Vijay Kumar</td>\n",
       "      <td>144 Golf club road Bangalore</td>\n",
       "      <td>8</td>\n",
       "      <td>5000</td>\n",
       "      <td>4210</td>\n",
       "    </tr>\n",
       "    <tr>\n",
       "      <th>3</th>\n",
       "      <td>1/2/2023</td>\n",
       "      <td>Reddy Coal Mine</td>\n",
       "      <td>Truck2</td>\n",
       "      <td>Coal</td>\n",
       "      <td>night</td>\n",
       "      <td>Priya Sharma</td>\n",
       "      <td>multiline delhi</td>\n",
       "      <td>8</td>\n",
       "      <td>800</td>\n",
       "      <td>855</td>\n",
       "    </tr>\n",
       "    <tr>\n",
       "      <th>4</th>\n",
       "      <td>1/5/2023</td>\n",
       "      <td>RP minerals</td>\n",
       "      <td>Dragline1</td>\n",
       "      <td>Overburden</td>\n",
       "      <td>Day</td>\n",
       "      <td>Rahul Jain</td>\n",
       "      <td>G-13 Govt Complex Jaipur</td>\n",
       "      <td>10</td>\n",
       "      <td>7000</td>\n",
       "      <td>6320</td>\n",
       "    </tr>\n",
       "    <tr>\n",
       "      <th>5</th>\n",
       "      <td>1/5/2023</td>\n",
       "      <td>RP minerals</td>\n",
       "      <td>Truck1</td>\n",
       "      <td>Coal</td>\n",
       "      <td>Day</td>\n",
       "      <td>Ankit Desai</td>\n",
       "      <td>B-302 Solaris Mulund West Mumbai</td>\n",
       "      <td>10</td>\n",
       "      <td>900</td>\n",
       "      <td>1050</td>\n",
       "    </tr>\n",
       "  </tbody>\n",
       "</table>\n",
       "</div>"
      ],
      "text/plain": [
       "       Date               Mine  Equipment    Material  Shift      Operator  \\\n",
       "0  1/1/2023  Vasanth Coal Mine    Shovel1  Overburden    Day  Ramesh Patel   \n",
       "1  1/1/2023  Vasanth Coal Mine     Truck1        Coal    Day       Aditya    \n",
       "2  1/2/2023    Reddy Coal Mine    Shovel1  Overburden  Night   Vijay Kumar   \n",
       "3  1/2/2023    Reddy Coal Mine     Truck2        Coal  night  Priya Sharma   \n",
       "4  1/5/2023        RP minerals  Dragline1  Overburden    Day    Rahul Jain   \n",
       "5  1/5/2023        RP minerals     Truck1        Coal    Day   Ankit Desai   \n",
       "\n",
       "                            Address  Hours_Worked  Target_TPH  Actual TPH  \n",
       "0          221B Baker street Mumbai             8        5000        4735  \n",
       "1                 50Laxmi nagar hyd             8         800         725  \n",
       "2      144 Golf club road Bangalore             8        5000        4210  \n",
       "3                   multiline delhi             8         800         855  \n",
       "4          G-13 Govt Complex Jaipur            10        7000        6320  \n",
       "5  B-302 Solaris Mulund West Mumbai            10         900        1050  "
      ]
     },
     "execution_count": 43,
     "metadata": {},
     "output_type": "execute_result"
    }
   ],
   "source": [
    "\n",
    "\n",
    "m8"
   ]
  },
  {
   "cell_type": "code",
   "execution_count": 44,
   "id": "cb9ff1fd",
   "metadata": {
    "lines_to_next_cell": 2
   },
   "outputs": [],
   "source": [
    "\n",
    "\n",
    "m8['Date']=pd.to_datetime(m8['Date'])"
   ]
  },
  {
   "cell_type": "code",
   "execution_count": 45,
   "id": "32421d87",
   "metadata": {
    "lines_to_next_cell": 2,
    "scrolled": true
   },
   "outputs": [
    {
     "data": {
      "text/html": [
       "<div>\n",
       "<style scoped>\n",
       "    .dataframe tbody tr th:only-of-type {\n",
       "        vertical-align: middle;\n",
       "    }\n",
       "\n",
       "    .dataframe tbody tr th {\n",
       "        vertical-align: top;\n",
       "    }\n",
       "\n",
       "    .dataframe thead th {\n",
       "        text-align: right;\n",
       "    }\n",
       "</style>\n",
       "<table border=\"1\" class=\"dataframe\">\n",
       "  <thead>\n",
       "    <tr style=\"text-align: right;\">\n",
       "      <th></th>\n",
       "      <th>Date</th>\n",
       "      <th>Mine</th>\n",
       "      <th>Equipment</th>\n",
       "      <th>Material</th>\n",
       "      <th>Shift</th>\n",
       "      <th>Operator</th>\n",
       "      <th>Address</th>\n",
       "      <th>Hours_Worked</th>\n",
       "      <th>Target_TPH</th>\n",
       "      <th>Actual TPH</th>\n",
       "    </tr>\n",
       "  </thead>\n",
       "  <tbody>\n",
       "    <tr>\n",
       "      <th>0</th>\n",
       "      <td>2023-01-01</td>\n",
       "      <td>Vasanth Coal Mine</td>\n",
       "      <td>Shovel1</td>\n",
       "      <td>Overburden</td>\n",
       "      <td>Day</td>\n",
       "      <td>Ramesh Patel</td>\n",
       "      <td>221B Baker street Mumbai</td>\n",
       "      <td>8</td>\n",
       "      <td>5000</td>\n",
       "      <td>4735</td>\n",
       "    </tr>\n",
       "    <tr>\n",
       "      <th>1</th>\n",
       "      <td>2023-01-01</td>\n",
       "      <td>Vasanth Coal Mine</td>\n",
       "      <td>Truck1</td>\n",
       "      <td>Coal</td>\n",
       "      <td>Day</td>\n",
       "      <td>Aditya</td>\n",
       "      <td>50Laxmi nagar hyd</td>\n",
       "      <td>8</td>\n",
       "      <td>800</td>\n",
       "      <td>725</td>\n",
       "    </tr>\n",
       "    <tr>\n",
       "      <th>2</th>\n",
       "      <td>2023-01-02</td>\n",
       "      <td>Reddy Coal Mine</td>\n",
       "      <td>Shovel1</td>\n",
       "      <td>Overburden</td>\n",
       "      <td>Night</td>\n",
       "      <td>Vijay Kumar</td>\n",
       "      <td>144 Golf club road Bangalore</td>\n",
       "      <td>8</td>\n",
       "      <td>5000</td>\n",
       "      <td>4210</td>\n",
       "    </tr>\n",
       "    <tr>\n",
       "      <th>3</th>\n",
       "      <td>2023-01-02</td>\n",
       "      <td>Reddy Coal Mine</td>\n",
       "      <td>Truck2</td>\n",
       "      <td>Coal</td>\n",
       "      <td>night</td>\n",
       "      <td>Priya Sharma</td>\n",
       "      <td>multiline delhi</td>\n",
       "      <td>8</td>\n",
       "      <td>800</td>\n",
       "      <td>855</td>\n",
       "    </tr>\n",
       "    <tr>\n",
       "      <th>4</th>\n",
       "      <td>2023-01-05</td>\n",
       "      <td>RP minerals</td>\n",
       "      <td>Dragline1</td>\n",
       "      <td>Overburden</td>\n",
       "      <td>Day</td>\n",
       "      <td>Rahul Jain</td>\n",
       "      <td>G-13 Govt Complex Jaipur</td>\n",
       "      <td>10</td>\n",
       "      <td>7000</td>\n",
       "      <td>6320</td>\n",
       "    </tr>\n",
       "    <tr>\n",
       "      <th>5</th>\n",
       "      <td>2023-01-05</td>\n",
       "      <td>RP minerals</td>\n",
       "      <td>Truck1</td>\n",
       "      <td>Coal</td>\n",
       "      <td>Day</td>\n",
       "      <td>Ankit Desai</td>\n",
       "      <td>B-302 Solaris Mulund West Mumbai</td>\n",
       "      <td>10</td>\n",
       "      <td>900</td>\n",
       "      <td>1050</td>\n",
       "    </tr>\n",
       "  </tbody>\n",
       "</table>\n",
       "</div>"
      ],
      "text/plain": [
       "        Date               Mine  Equipment    Material  Shift      Operator  \\\n",
       "0 2023-01-01  Vasanth Coal Mine    Shovel1  Overburden    Day  Ramesh Patel   \n",
       "1 2023-01-01  Vasanth Coal Mine     Truck1        Coal    Day       Aditya    \n",
       "2 2023-01-02    Reddy Coal Mine    Shovel1  Overburden  Night   Vijay Kumar   \n",
       "3 2023-01-02    Reddy Coal Mine     Truck2        Coal  night  Priya Sharma   \n",
       "4 2023-01-05        RP minerals  Dragline1  Overburden    Day    Rahul Jain   \n",
       "5 2023-01-05        RP minerals     Truck1        Coal    Day   Ankit Desai   \n",
       "\n",
       "                            Address  Hours_Worked  Target_TPH  Actual TPH  \n",
       "0          221B Baker street Mumbai             8        5000        4735  \n",
       "1                 50Laxmi nagar hyd             8         800         725  \n",
       "2      144 Golf club road Bangalore             8        5000        4210  \n",
       "3                   multiline delhi             8         800         855  \n",
       "4          G-13 Govt Complex Jaipur            10        7000        6320  \n",
       "5  B-302 Solaris Mulund West Mumbai            10         900        1050  "
      ]
     },
     "execution_count": 45,
     "metadata": {},
     "output_type": "execute_result"
    }
   ],
   "source": [
    "\n",
    "\n",
    "m8"
   ]
  },
  {
   "cell_type": "code",
   "execution_count": null,
   "id": "619ff85d",
   "metadata": {},
   "outputs": [],
   "source": [
    "#total Petroleum Hydrocarbons (TPH) is a term used to describe a broad family of several hundred chemical\n",
    "#compounds that originally come from crude oil."
   ]
  },
  {
   "cell_type": "code",
   "execution_count": 46,
   "id": "8bead35c",
   "metadata": {
    "lines_to_next_cell": 2
   },
   "outputs": [
    {
     "data": {
      "text/plain": [
       "Text(0.5, 1.0, 'Equipment v/s TPH')"
      ]
     },
     "execution_count": 46,
     "metadata": {},
     "output_type": "execute_result"
    },
    {
     "data": {
      "image/png": "[encoded data removed]",
      "text/plain": [
       "<Figure size 640x480 with 1 Axes>"
      ]
     },
     "metadata": {},
     "output_type": "display_data"
    }
   ],
   "source": [
    "\n",
    "\n",
    "m8.plot(x='Equipment',y=['Target_TPH','Actual TPH'],kind='bar')\n",
    "plt.xlabel(\"Equipment\")\n",
    "plt.ylabel(\"Target_TPH V/S Actual_TPH\")\n",
    "plt.title(\"Equipment v/s TPH\")"
   ]
  },
  {
   "cell_type": "code",
   "execution_count": 47,
   "id": "491219ee",
   "metadata": {
    "lines_to_next_cell": 2
   },
   "outputs": [
    {
     "data": {
      "text/plain": [
       "Text(0.5, 1.0, 'Operator vs TPH')"
      ]
     },
     "execution_count": 47,
     "metadata": {},
     "output_type": "execute_result"
    },
    {
     "data": {
      "image/png": "[encoded data removed]",
      "text/plain": [
       "<Figure size 640x480 with 1 Axes>"
      ]
     },
     "metadata": {},
     "output_type": "display_data"
    }
   ],
   "source": [
    "\n",
    "\n",
    "m8.plot(x='Operator',y=['Target_TPH','Actual TPH'],kind='bar')\n",
    "plt.xlabel(\"Operator\")\n",
    "plt.ylabel(\"TPH\")\n",
    "plt.title(\"Operator vs TPH\")"
   ]
  },
  {
   "cell_type": "code",
   "execution_count": 48,
   "id": "b02dcb42",
   "metadata": {
    "lines_to_next_cell": 2
   },
   "outputs": [
    {
     "data": {
      "text/plain": [
       "Text(0.5, 1.0, 'Mine vs TPH')"
      ]
     },
     "execution_count": 48,
     "metadata": {},
     "output_type": "execute_result"
    },
    {
     "data": {
      "image/png": "[encoded data removed]",
      "text/plain": [
       "<Figure size 640x480 with 1 Axes>"
      ]
     },
     "metadata": {},
     "output_type": "display_data"
    }
   ],
   "source": [
    "\n",
    "\n",
    "m8.plot(x='Mine',y=['Target_TPH','Actual TPH'],kind='bar')\n",
    "plt.xlabel(\"Mine\")\n",
    "plt.ylabel(\"TPH\")\n",
    "plt.title(\"Mine vs TPH\")"
   ]
  },
  {
   "cell_type": "code",
   "execution_count": null,
   "id": "c05863d9",
   "metadata": {
    "lines_to_next_cell": 2
   },
   "outputs": [],
   "source": [
    "\n",
    "\n"
   ]
  },
  {
   "cell_type": "code",
   "execution_count": null,
   "id": "11afe0f5",
   "metadata": {},
   "outputs": [],
   "source": []
  }
 ],
 "metadata": {
  "jupytext": {
   "cell_metadata_filter": "-all",
   "encoding": "# coding: utf-8",
   "executable": "/usr/bin/env python",
   "main_language": "python",
   "notebook_metadata_filter": "-all"
  },
  "kernelspec": {
   "display_name": "Python 3 (ipykernel)",
   "language": "python",
   "name": "python3"
  },
  "language_info": {
   "codemirror_mode": {
    "name": "ipython",
    "version": 3
   },
   "file_extension": ".py",
   "mimetype": "text/x-python",
   "name": "python",
   "nbconvert_exporter": "python",
   "pygments_lexer": "ipython3",
   "version": "3.11.5"
  }
 },
 "nbformat": 4,
 "nbformat_minor": 5
}
